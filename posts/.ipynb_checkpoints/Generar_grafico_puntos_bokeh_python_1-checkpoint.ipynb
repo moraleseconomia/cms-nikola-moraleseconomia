{
 "cells": [
  {
   "cell_type": "markdown",
   "metadata": {},
   "source": [
    "# Elaborar un gráfico de puntos en Python con Bokeh"
   ]
  },
  {
   "cell_type": "code",
   "execution_count": 207,
   "metadata": {},
   "outputs": [
    {
     "data": {
      "text/html": [
       "\n",
       "<html>\n",
       "<script src=\"https://cdnjs.cloudflare.com/ajax/libs/require.js/2.1.10/require.min.js\"></script>\n",
       "<script src=\"https://cdnjs.cloudflare.com/ajax/libs/jquery/2.0.3/jquery.min.js\"></script>\n",
       "<script src=\"https://cdn.pydata.org/bokeh/release/bokeh-gl-0.12.16.min.js\"></script>\n",
       "<script src=\"https://cdn.pydata.org/bokeh/release/bokeh-0.12.16.min.js\"></script>\n",
       "<script src=\"https://cdn.pydata.org/bokeh/release/bokeh-widgets-0.12.16.min.js\"></script>\n",
       "<script src=\"https://cdn.pydata.org/bokeh/release/bokeh-tables-0.12.16.min.js\"></script>\n",
       "<script src=\"https://cdn.pydata.org/bokeh/release/bokeh-gl-0.12.16.min.js\"></script>\n"
      ],
      "text/plain": [
       "<IPython.core.display.HTML object>"
      ]
     },
     "execution_count": 207,
     "metadata": {},
     "output_type": "execute_result"
    }
   ],
   "source": [
    "#Esta celda la incluyo para que Nikola(https://getnikola.com/) me lea directamente del Jupyter Notebook los gráficos creados con Bokeh.\n",
    "#Si alguien está dispuesto a utilizar este bloque debe tener en cuenta que la versión de Bokeh utilizada en este notebook es la 0.12.16.\n",
    "from IPython.display import HTML\n",
    "HTML('''\n",
    "<html>\n",
    "<script src=\"https://cdnjs.cloudflare.com/ajax/libs/require.js/2.1.10/require.min.js\"></script>\n",
    "<script src=\"https://cdnjs.cloudflare.com/ajax/libs/jquery/2.0.3/jquery.min.js\"></script>\n",
    "<script src=\"https://cdn.pydata.org/bokeh/release/bokeh-gl-0.12.16.min.js\"></script>\n",
    "<script src=\"https://cdn.pydata.org/bokeh/release/bokeh-0.12.16.min.js\"></script>\n",
    "<script src=\"https://cdn.pydata.org/bokeh/release/bokeh-widgets-0.12.16.min.js\"></script>\n",
    "<script src=\"https://cdn.pydata.org/bokeh/release/bokeh-tables-0.12.16.min.js\"></script>\n",
    "<script src=\"https://cdn.pydata.org/bokeh/release/bokeh-gl-0.12.16.min.js\"></script>\n",
    "''')"
   ]
  },
  {
   "cell_type": "markdown",
   "metadata": {},
   "source": [
    "Continúo con la aventura en Python. Los datos son más entendibles si se visualizan en un gráfico, ¿qué tal uno dinámico?. \n",
    "\n",
    "[Bokeh](https://bokeh.pydata.org/en/latest/) es una librería de Python que ofrece una manera alternativa de hacer gráficos Javascript sin necesidad de programar en Javascript. En este ejercicio haremos un scatter."
   ]
  },
  {
   "cell_type": "markdown",
   "metadata": {},
   "source": [
    "Los datos que vamos a utilizar se encuentran en la web de Datacamp.\n",
    "https://assets.datacamp.com/production/course_1392/datasets/literacy_birth_rate.csv\n",
    "\n",
    "Contiene dos variables necesarias para este ejercicio:\n",
    "   \n",
    "   *female_literacy*: que contiene el nivel de alfabetización femenina en porcentaje de la población total.\n",
    "    \n",
    "   *fertility*: tasa de natalidad presentado en números de niños por cada mujer.\n",
    "    \n",
    "Nos intersará averiguar qué tipo de relación tienen estas dos variables. \n",
    "\n",
    "- Directa: Entre mayor alfabetización de la mujer, mayor la tasa de natalidad.\n",
    "- Inversa: Entre mayor alfabetización de la mujer, menor la tasa de natalidad.\n",
    "- Ninguna: No se define visualmente una relación. Ninguna variable afecta a la otra.\n"
   ]
  },
  {
   "cell_type": "markdown",
   "metadata": {},
   "source": [
    "Vamos con los pasos:"
   ]
  },
  {
   "cell_type": "markdown",
   "metadata": {},
   "source": [
    "- Importar la librería pandas para poder extraer la base de datos."
   ]
  },
  {
   "cell_type": "code",
   "execution_count": 194,
   "metadata": {},
   "outputs": [],
   "source": [
    "import pandas as pd\n",
    "import numpy as np"
   ]
  },
  {
   "cell_type": "markdown",
   "metadata": {},
   "source": [
    "- Extraer la base desde internet."
   ]
  },
  {
   "cell_type": "code",
   "execution_count": 195,
   "metadata": {},
   "outputs": [],
   "source": [
    "datos = pd.read_csv('https://assets.datacamp.com/production/course_1392/datasets/literacy_birth_rate.csv')"
   ]
  },
  {
   "cell_type": "code",
   "execution_count": 196,
   "metadata": {},
   "outputs": [
    {
     "data": {
      "text/html": [
       "<div>\n",
       "<style scoped>\n",
       "    .dataframe tbody tr th:only-of-type {\n",
       "        vertical-align: middle;\n",
       "    }\n",
       "\n",
       "    .dataframe tbody tr th {\n",
       "        vertical-align: top;\n",
       "    }\n",
       "\n",
       "    .dataframe thead th {\n",
       "        text-align: right;\n",
       "    }\n",
       "</style>\n",
       "<table border=\"1\" class=\"dataframe\">\n",
       "  <thead>\n",
       "    <tr style=\"text-align: right;\">\n",
       "      <th></th>\n",
       "      <th>Country</th>\n",
       "      <th>Continent</th>\n",
       "      <th>female literacy</th>\n",
       "      <th>fertility</th>\n",
       "      <th>population</th>\n",
       "    </tr>\n",
       "  </thead>\n",
       "  <tbody>\n",
       "    <tr>\n",
       "      <th>0</th>\n",
       "      <td>Chine</td>\n",
       "      <td>ASI</td>\n",
       "      <td>90.5</td>\n",
       "      <td>1.769</td>\n",
       "      <td>1.324655e+09</td>\n",
       "    </tr>\n",
       "    <tr>\n",
       "      <th>1</th>\n",
       "      <td>Inde</td>\n",
       "      <td>ASI</td>\n",
       "      <td>50.8</td>\n",
       "      <td>2.682</td>\n",
       "      <td>1.139965e+09</td>\n",
       "    </tr>\n",
       "    <tr>\n",
       "      <th>2</th>\n",
       "      <td>USA</td>\n",
       "      <td>NAM</td>\n",
       "      <td>99</td>\n",
       "      <td>2.077</td>\n",
       "      <td>3.040600e+08</td>\n",
       "    </tr>\n",
       "    <tr>\n",
       "      <th>3</th>\n",
       "      <td>Indonésie</td>\n",
       "      <td>ASI</td>\n",
       "      <td>88.8</td>\n",
       "      <td>2.132</td>\n",
       "      <td>2.273451e+08</td>\n",
       "    </tr>\n",
       "    <tr>\n",
       "      <th>4</th>\n",
       "      <td>Brésil</td>\n",
       "      <td>LAT</td>\n",
       "      <td>90.2</td>\n",
       "      <td>1.827</td>\n",
       "      <td>1.919715e+08</td>\n",
       "    </tr>\n",
       "    <tr>\n",
       "      <th>5</th>\n",
       "      <td>Pakistan</td>\n",
       "      <td>ASI</td>\n",
       "      <td>40</td>\n",
       "      <td>3.872</td>\n",
       "      <td>1.661115e+08</td>\n",
       "    </tr>\n",
       "    <tr>\n",
       "      <th>6</th>\n",
       "      <td>Bangladesh</td>\n",
       "      <td>ASI</td>\n",
       "      <td>49.8</td>\n",
       "      <td>2.288</td>\n",
       "      <td>1.600001e+08</td>\n",
       "    </tr>\n",
       "    <tr>\n",
       "      <th>7</th>\n",
       "      <td>Nigéria</td>\n",
       "      <td>AF</td>\n",
       "      <td>48.8</td>\n",
       "      <td>5.173</td>\n",
       "      <td>1.512123e+08</td>\n",
       "    </tr>\n",
       "    <tr>\n",
       "      <th>8</th>\n",
       "      <td>Fédération de Russie</td>\n",
       "      <td>EUR</td>\n",
       "      <td>99.4</td>\n",
       "      <td>1.393</td>\n",
       "      <td>1.419500e+08</td>\n",
       "    </tr>\n",
       "    <tr>\n",
       "      <th>9</th>\n",
       "      <td>Japan</td>\n",
       "      <td>ASI</td>\n",
       "      <td>99</td>\n",
       "      <td>1.262</td>\n",
       "      <td>1.277040e+08</td>\n",
       "    </tr>\n",
       "  </tbody>\n",
       "</table>\n",
       "</div>"
      ],
      "text/plain": [
       "               Country  Continent female literacy fertility    population\n",
       "0                 Chine       ASI            90.5     1.769  1.324655e+09\n",
       "1                  Inde       ASI            50.8     2.682  1.139965e+09\n",
       "2                   USA       NAM              99     2.077  3.040600e+08\n",
       "3             Indonésie       ASI            88.8     2.132  2.273451e+08\n",
       "4                Brésil       LAT            90.2     1.827  1.919715e+08\n",
       "5              Pakistan       ASI              40     3.872  1.661115e+08\n",
       "6            Bangladesh       ASI            49.8     2.288  1.600001e+08\n",
       "7               Nigéria        AF            48.8     5.173  1.512123e+08\n",
       "8  Fédération de Russie       EUR            99.4     1.393  1.419500e+08\n",
       "9                 Japan       ASI              99     1.262  1.277040e+08"
      ]
     },
     "execution_count": 196,
     "metadata": {},
     "output_type": "execute_result"
    }
   ],
   "source": [
    "datos.head(10) #Estas son las primeras observaciones"
   ]
  },
  {
   "cell_type": "code",
   "execution_count": 197,
   "metadata": {},
   "outputs": [
    {
     "name": "stdout",
     "output_type": "stream",
     "text": [
      "<class 'pandas.core.frame.DataFrame'>\n",
      "RangeIndex: 182 entries, 0 to 181\n",
      "Data columns (total 5 columns):\n",
      "Country            169 non-null object\n",
      "Continent          164 non-null object\n",
      "female literacy    169 non-null object\n",
      "fertility          163 non-null object\n",
      "population         162 non-null float64\n",
      "dtypes: float64(1), object(4)\n",
      "memory usage: 7.2+ KB\n"
     ]
    }
   ],
   "source": [
    "datos.info()"
   ]
  },
  {
   "cell_type": "markdown",
   "metadata": {},
   "source": [
    "Contiene 182 observaciones con 5 variables. Pero además tiene información faltante. Esto se puede notar cuando la cantidad de *no valores faltantes* no concuerda con la totalidad de entradas.\n",
    "<!-- TEASER_END -->"
   ]
  },
  {
   "cell_type": "code",
   "execution_count": 198,
   "metadata": {},
   "outputs": [
    {
     "data": {
      "text/plain": [
       "(182, 5)"
      ]
     },
     "execution_count": 198,
     "metadata": {},
     "output_type": "execute_result"
    }
   ],
   "source": [
    "datos.shape"
   ]
  },
  {
   "cell_type": "markdown",
   "metadata": {},
   "source": [
    "No estaría de más, hacer una limpieza. En este caso utilizaré el .dropna() para eliminar las filas que contengan valores perdidos que en este caso está nombrado como 'NaN'."
   ]
  },
  {
   "cell_type": "code",
   "execution_count": 199,
   "metadata": {},
   "outputs": [
    {
     "name": "stdout",
     "output_type": "stream",
     "text": [
      "<class 'pandas.core.frame.DataFrame'>\n",
      "Int64Index: 162 entries, 0 to 161\n",
      "Data columns (total 5 columns):\n",
      "Country            162 non-null object\n",
      "Continent          162 non-null object\n",
      "female literacy    162 non-null object\n",
      "fertility          162 non-null object\n",
      "population         162 non-null float64\n",
      "dtypes: float64(1), object(4)\n",
      "memory usage: 7.6+ KB\n"
     ]
    }
   ],
   "source": [
    "datos_limpio = datos.dropna()\n",
    "datos_limpio.info()"
   ]
  },
  {
   "cell_type": "markdown",
   "metadata": {},
   "source": [
    "El número de entradas ya concuerda con el número de observaciones *no perdidas* en cada columna."
   ]
  },
  {
   "cell_type": "markdown",
   "metadata": {},
   "source": [
    "- Voy a definir las variables a meter en el Bokeh:"
   ]
  },
  {
   "cell_type": "code",
   "execution_count": 200,
   "metadata": {},
   "outputs": [],
   "source": [
    "x = pd.to_numeric(datos_limpio['fertility'])\n",
    "y = pd.to_numeric(datos_limpio['female literacy'])\n",
    "#Convirtiendo a la vez las variables en numéricas."
   ]
  },
  {
   "cell_type": "markdown",
   "metadata": {},
   "source": [
    "- Importar Bokeh"
   ]
  },
  {
   "cell_type": "code",
   "execution_count": 201,
   "metadata": {},
   "outputs": [
    {
     "data": {
      "text/html": [
       "\n",
       "    <div class=\"bk-root\">\n",
       "        <a href=\"https://bokeh.pydata.org\" target=\"_blank\" class=\"bk-logo bk-logo-small bk-logo-notebook\"></a>\n",
       "        <span id=\"74e5cca6-3273-4d56-883b-039c538f245b\">Loading BokehJS ...</span>\n",
       "    </div>"
      ]
     },
     "metadata": {},
     "output_type": "display_data"
    },
    {
     "data": {
      "application/javascript": [
       "\n",
       "(function(root) {\n",
       "  function now() {\n",
       "    return new Date();\n",
       "  }\n",
       "\n",
       "  var force = true;\n",
       "\n",
       "  if (typeof (root._bokeh_onload_callbacks) === \"undefined\" || force === true) {\n",
       "    root._bokeh_onload_callbacks = [];\n",
       "    root._bokeh_is_loading = undefined;\n",
       "  }\n",
       "\n",
       "  var JS_MIME_TYPE = 'application/javascript';\n",
       "  var HTML_MIME_TYPE = 'text/html';\n",
       "  var EXEC_MIME_TYPE = 'application/vnd.bokehjs_exec.v0+json';\n",
       "  var CLASS_NAME = 'output_bokeh rendered_html';\n",
       "\n",
       "  /**\n",
       "   * Render data to the DOM node\n",
       "   */\n",
       "  function render(props, node) {\n",
       "    var script = document.createElement(\"script\");\n",
       "    node.appendChild(script);\n",
       "  }\n",
       "\n",
       "  /**\n",
       "   * Handle when an output is cleared or removed\n",
       "   */\n",
       "  function handleClearOutput(event, handle) {\n",
       "    var cell = handle.cell;\n",
       "\n",
       "    var id = cell.output_area._bokeh_element_id;\n",
       "    var server_id = cell.output_area._bokeh_server_id;\n",
       "    // Clean up Bokeh references\n",
       "    if (id !== undefined) {\n",
       "      Bokeh.index[id].model.document.clear();\n",
       "      delete Bokeh.index[id];\n",
       "    }\n",
       "\n",
       "    if (server_id !== undefined) {\n",
       "      // Clean up Bokeh references\n",
       "      var cmd = \"from bokeh.io.state import curstate; print(curstate().uuid_to_server['\" + server_id + \"'].get_sessions()[0].document.roots[0]._id)\";\n",
       "      cell.notebook.kernel.execute(cmd, {\n",
       "        iopub: {\n",
       "          output: function(msg) {\n",
       "            var element_id = msg.content.text.trim();\n",
       "            Bokeh.index[element_id].model.document.clear();\n",
       "            delete Bokeh.index[element_id];\n",
       "          }\n",
       "        }\n",
       "      });\n",
       "      // Destroy server and session\n",
       "      var cmd = \"import bokeh.io.notebook as ion; ion.destroy_server('\" + server_id + \"')\";\n",
       "      cell.notebook.kernel.execute(cmd);\n",
       "    }\n",
       "  }\n",
       "\n",
       "  /**\n",
       "   * Handle when a new output is added\n",
       "   */\n",
       "  function handleAddOutput(event, handle) {\n",
       "    var output_area = handle.output_area;\n",
       "    var output = handle.output;\n",
       "\n",
       "    // limit handleAddOutput to display_data with EXEC_MIME_TYPE content only\n",
       "    if ((output.output_type != \"display_data\") || (!output.data.hasOwnProperty(EXEC_MIME_TYPE))) {\n",
       "      return\n",
       "    }\n",
       "\n",
       "    var toinsert = output_area.element.find(\".\" + CLASS_NAME.split(' ')[0]);\n",
       "\n",
       "    if (output.metadata[EXEC_MIME_TYPE][\"id\"] !== undefined) {\n",
       "      toinsert[toinsert.length - 1].firstChild.textContent = output.data[JS_MIME_TYPE];\n",
       "      // store reference to embed id on output_area\n",
       "      output_area._bokeh_element_id = output.metadata[EXEC_MIME_TYPE][\"id\"];\n",
       "    }\n",
       "    if (output.metadata[EXEC_MIME_TYPE][\"server_id\"] !== undefined) {\n",
       "      var bk_div = document.createElement(\"div\");\n",
       "      bk_div.innerHTML = output.data[HTML_MIME_TYPE];\n",
       "      var script_attrs = bk_div.children[0].attributes;\n",
       "      for (var i = 0; i < script_attrs.length; i++) {\n",
       "        toinsert[toinsert.length - 1].firstChild.setAttribute(script_attrs[i].name, script_attrs[i].value);\n",
       "      }\n",
       "      // store reference to server id on output_area\n",
       "      output_area._bokeh_server_id = output.metadata[EXEC_MIME_TYPE][\"server_id\"];\n",
       "    }\n",
       "  }\n",
       "\n",
       "  function register_renderer(events, OutputArea) {\n",
       "\n",
       "    function append_mime(data, metadata, element) {\n",
       "      // create a DOM node to render to\n",
       "      var toinsert = this.create_output_subarea(\n",
       "        metadata,\n",
       "        CLASS_NAME,\n",
       "        EXEC_MIME_TYPE\n",
       "      );\n",
       "      this.keyboard_manager.register_events(toinsert);\n",
       "      // Render to node\n",
       "      var props = {data: data, metadata: metadata[EXEC_MIME_TYPE]};\n",
       "      render(props, toinsert[toinsert.length - 1]);\n",
       "      element.append(toinsert);\n",
       "      return toinsert\n",
       "    }\n",
       "\n",
       "    /* Handle when an output is cleared or removed */\n",
       "    events.on('clear_output.CodeCell', handleClearOutput);\n",
       "    events.on('delete.Cell', handleClearOutput);\n",
       "\n",
       "    /* Handle when a new output is added */\n",
       "    events.on('output_added.OutputArea', handleAddOutput);\n",
       "\n",
       "    /**\n",
       "     * Register the mime type and append_mime function with output_area\n",
       "     */\n",
       "    OutputArea.prototype.register_mime_type(EXEC_MIME_TYPE, append_mime, {\n",
       "      /* Is output safe? */\n",
       "      safe: true,\n",
       "      /* Index of renderer in `output_area.display_order` */\n",
       "      index: 0\n",
       "    });\n",
       "  }\n",
       "\n",
       "  // register the mime type if in Jupyter Notebook environment and previously unregistered\n",
       "  if (root.Jupyter !== undefined) {\n",
       "    var events = require('base/js/events');\n",
       "    var OutputArea = require('notebook/js/outputarea').OutputArea;\n",
       "\n",
       "    if (OutputArea.prototype.mime_types().indexOf(EXEC_MIME_TYPE) == -1) {\n",
       "      register_renderer(events, OutputArea);\n",
       "    }\n",
       "  }\n",
       "\n",
       "  \n",
       "  if (typeof (root._bokeh_timeout) === \"undefined\" || force === true) {\n",
       "    root._bokeh_timeout = Date.now() + 5000;\n",
       "    root._bokeh_failed_load = false;\n",
       "  }\n",
       "\n",
       "  var NB_LOAD_WARNING = {'data': {'text/html':\n",
       "     \"<div style='background-color: #fdd'>\\n\"+\n",
       "     \"<p>\\n\"+\n",
       "     \"BokehJS does not appear to have successfully loaded. If loading BokehJS from CDN, this \\n\"+\n",
       "     \"may be due to a slow or bad network connection. Possible fixes:\\n\"+\n",
       "     \"</p>\\n\"+\n",
       "     \"<ul>\\n\"+\n",
       "     \"<li>re-rerun `output_notebook()` to attempt to load from CDN again, or</li>\\n\"+\n",
       "     \"<li>use INLINE resources instead, as so:</li>\\n\"+\n",
       "     \"</ul>\\n\"+\n",
       "     \"<code>\\n\"+\n",
       "     \"from bokeh.resources import INLINE\\n\"+\n",
       "     \"output_notebook(resources=INLINE)\\n\"+\n",
       "     \"</code>\\n\"+\n",
       "     \"</div>\"}};\n",
       "\n",
       "  function display_loaded() {\n",
       "    var el = document.getElementById(\"74e5cca6-3273-4d56-883b-039c538f245b\");\n",
       "    if (el != null) {\n",
       "      el.textContent = \"BokehJS is loading...\";\n",
       "    }\n",
       "    if (root.Bokeh !== undefined) {\n",
       "      if (el != null) {\n",
       "        el.textContent = \"BokehJS \" + root.Bokeh.version + \" successfully loaded.\";\n",
       "      }\n",
       "    } else if (Date.now() < root._bokeh_timeout) {\n",
       "      setTimeout(display_loaded, 100)\n",
       "    }\n",
       "  }\n",
       "\n",
       "\n",
       "  function run_callbacks() {\n",
       "    try {\n",
       "      root._bokeh_onload_callbacks.forEach(function(callback) { callback() });\n",
       "    }\n",
       "    finally {\n",
       "      delete root._bokeh_onload_callbacks\n",
       "    }\n",
       "    console.info(\"Bokeh: all callbacks have finished\");\n",
       "  }\n",
       "\n",
       "  function load_libs(js_urls, callback) {\n",
       "    root._bokeh_onload_callbacks.push(callback);\n",
       "    if (root._bokeh_is_loading > 0) {\n",
       "      console.log(\"Bokeh: BokehJS is being loaded, scheduling callback at\", now());\n",
       "      return null;\n",
       "    }\n",
       "    if (js_urls == null || js_urls.length === 0) {\n",
       "      run_callbacks();\n",
       "      return null;\n",
       "    }\n",
       "    console.log(\"Bokeh: BokehJS not loaded, scheduling load and callback at\", now());\n",
       "    root._bokeh_is_loading = js_urls.length;\n",
       "    for (var i = 0; i < js_urls.length; i++) {\n",
       "      var url = js_urls[i];\n",
       "      var s = document.createElement('script');\n",
       "      s.src = url;\n",
       "      s.async = false;\n",
       "      s.onreadystatechange = s.onload = function() {\n",
       "        root._bokeh_is_loading--;\n",
       "        if (root._bokeh_is_loading === 0) {\n",
       "          console.log(\"Bokeh: all BokehJS libraries loaded\");\n",
       "          run_callbacks()\n",
       "        }\n",
       "      };\n",
       "      s.onerror = function() {\n",
       "        console.warn(\"failed to load library \" + url);\n",
       "      };\n",
       "      console.log(\"Bokeh: injecting script tag for BokehJS library: \", url);\n",
       "      document.getElementsByTagName(\"head\")[0].appendChild(s);\n",
       "    }\n",
       "  };var element = document.getElementById(\"74e5cca6-3273-4d56-883b-039c538f245b\");\n",
       "  if (element == null) {\n",
       "    console.log(\"Bokeh: ERROR: autoload.js configured with elementid '74e5cca6-3273-4d56-883b-039c538f245b' but no matching script tag was found. \")\n",
       "    return false;\n",
       "  }\n",
       "\n",
       "  var js_urls = [\"https://cdn.pydata.org/bokeh/release/bokeh-0.12.16.min.js\", \"https://cdn.pydata.org/bokeh/release/bokeh-widgets-0.12.16.min.js\", \"https://cdn.pydata.org/bokeh/release/bokeh-tables-0.12.16.min.js\", \"https://cdn.pydata.org/bokeh/release/bokeh-gl-0.12.16.min.js\"];\n",
       "\n",
       "  var inline_js = [\n",
       "    function(Bokeh) {\n",
       "      Bokeh.set_log_level(\"info\");\n",
       "    },\n",
       "    \n",
       "    function(Bokeh) {\n",
       "      \n",
       "    },\n",
       "    function(Bokeh) {\n",
       "      console.log(\"Bokeh: injecting CSS: https://cdn.pydata.org/bokeh/release/bokeh-0.12.16.min.css\");\n",
       "      Bokeh.embed.inject_css(\"https://cdn.pydata.org/bokeh/release/bokeh-0.12.16.min.css\");\n",
       "      console.log(\"Bokeh: injecting CSS: https://cdn.pydata.org/bokeh/release/bokeh-widgets-0.12.16.min.css\");\n",
       "      Bokeh.embed.inject_css(\"https://cdn.pydata.org/bokeh/release/bokeh-widgets-0.12.16.min.css\");\n",
       "      console.log(\"Bokeh: injecting CSS: https://cdn.pydata.org/bokeh/release/bokeh-tables-0.12.16.min.css\");\n",
       "      Bokeh.embed.inject_css(\"https://cdn.pydata.org/bokeh/release/bokeh-tables-0.12.16.min.css\");\n",
       "    }\n",
       "  ];\n",
       "\n",
       "  function run_inline_js() {\n",
       "    \n",
       "    if ((root.Bokeh !== undefined) || (force === true)) {\n",
       "      for (var i = 0; i < inline_js.length; i++) {\n",
       "        inline_js[i].call(root, root.Bokeh);\n",
       "      }if (force === true) {\n",
       "        display_loaded();\n",
       "      }} else if (Date.now() < root._bokeh_timeout) {\n",
       "      setTimeout(run_inline_js, 100);\n",
       "    } else if (!root._bokeh_failed_load) {\n",
       "      console.log(\"Bokeh: BokehJS failed to load within specified timeout.\");\n",
       "      root._bokeh_failed_load = true;\n",
       "    } else if (force !== true) {\n",
       "      var cell = $(document.getElementById(\"74e5cca6-3273-4d56-883b-039c538f245b\")).parents('.cell').data().cell;\n",
       "      cell.output_area.append_execute_result(NB_LOAD_WARNING)\n",
       "    }\n",
       "\n",
       "  }\n",
       "\n",
       "  if (root._bokeh_is_loading === 0) {\n",
       "    console.log(\"Bokeh: BokehJS loaded, going straight to plotting\");\n",
       "    run_inline_js();\n",
       "  } else {\n",
       "    load_libs(js_urls, function() {\n",
       "      console.log(\"Bokeh: BokehJS plotting callback run at\", now());\n",
       "      run_inline_js();\n",
       "    });\n",
       "  }\n",
       "}(window));"
      ],
      "application/vnd.bokehjs_load.v0+json": "\n(function(root) {\n  function now() {\n    return new Date();\n  }\n\n  var force = true;\n\n  if (typeof (root._bokeh_onload_callbacks) === \"undefined\" || force === true) {\n    root._bokeh_onload_callbacks = [];\n    root._bokeh_is_loading = undefined;\n  }\n\n  \n\n  \n  if (typeof (root._bokeh_timeout) === \"undefined\" || force === true) {\n    root._bokeh_timeout = Date.now() + 5000;\n    root._bokeh_failed_load = false;\n  }\n\n  var NB_LOAD_WARNING = {'data': {'text/html':\n     \"<div style='background-color: #fdd'>\\n\"+\n     \"<p>\\n\"+\n     \"BokehJS does not appear to have successfully loaded. If loading BokehJS from CDN, this \\n\"+\n     \"may be due to a slow or bad network connection. Possible fixes:\\n\"+\n     \"</p>\\n\"+\n     \"<ul>\\n\"+\n     \"<li>re-rerun `output_notebook()` to attempt to load from CDN again, or</li>\\n\"+\n     \"<li>use INLINE resources instead, as so:</li>\\n\"+\n     \"</ul>\\n\"+\n     \"<code>\\n\"+\n     \"from bokeh.resources import INLINE\\n\"+\n     \"output_notebook(resources=INLINE)\\n\"+\n     \"</code>\\n\"+\n     \"</div>\"}};\n\n  function display_loaded() {\n    var el = document.getElementById(\"74e5cca6-3273-4d56-883b-039c538f245b\");\n    if (el != null) {\n      el.textContent = \"BokehJS is loading...\";\n    }\n    if (root.Bokeh !== undefined) {\n      if (el != null) {\n        el.textContent = \"BokehJS \" + root.Bokeh.version + \" successfully loaded.\";\n      }\n    } else if (Date.now() < root._bokeh_timeout) {\n      setTimeout(display_loaded, 100)\n    }\n  }\n\n\n  function run_callbacks() {\n    try {\n      root._bokeh_onload_callbacks.forEach(function(callback) { callback() });\n    }\n    finally {\n      delete root._bokeh_onload_callbacks\n    }\n    console.info(\"Bokeh: all callbacks have finished\");\n  }\n\n  function load_libs(js_urls, callback) {\n    root._bokeh_onload_callbacks.push(callback);\n    if (root._bokeh_is_loading > 0) {\n      console.log(\"Bokeh: BokehJS is being loaded, scheduling callback at\", now());\n      return null;\n    }\n    if (js_urls == null || js_urls.length === 0) {\n      run_callbacks();\n      return null;\n    }\n    console.log(\"Bokeh: BokehJS not loaded, scheduling load and callback at\", now());\n    root._bokeh_is_loading = js_urls.length;\n    for (var i = 0; i < js_urls.length; i++) {\n      var url = js_urls[i];\n      var s = document.createElement('script');\n      s.src = url;\n      s.async = false;\n      s.onreadystatechange = s.onload = function() {\n        root._bokeh_is_loading--;\n        if (root._bokeh_is_loading === 0) {\n          console.log(\"Bokeh: all BokehJS libraries loaded\");\n          run_callbacks()\n        }\n      };\n      s.onerror = function() {\n        console.warn(\"failed to load library \" + url);\n      };\n      console.log(\"Bokeh: injecting script tag for BokehJS library: \", url);\n      document.getElementsByTagName(\"head\")[0].appendChild(s);\n    }\n  };var element = document.getElementById(\"74e5cca6-3273-4d56-883b-039c538f245b\");\n  if (element == null) {\n    console.log(\"Bokeh: ERROR: autoload.js configured with elementid '74e5cca6-3273-4d56-883b-039c538f245b' but no matching script tag was found. \")\n    return false;\n  }\n\n  var js_urls = [\"https://cdn.pydata.org/bokeh/release/bokeh-0.12.16.min.js\", \"https://cdn.pydata.org/bokeh/release/bokeh-widgets-0.12.16.min.js\", \"https://cdn.pydata.org/bokeh/release/bokeh-tables-0.12.16.min.js\", \"https://cdn.pydata.org/bokeh/release/bokeh-gl-0.12.16.min.js\"];\n\n  var inline_js = [\n    function(Bokeh) {\n      Bokeh.set_log_level(\"info\");\n    },\n    \n    function(Bokeh) {\n      \n    },\n    function(Bokeh) {\n      console.log(\"Bokeh: injecting CSS: https://cdn.pydata.org/bokeh/release/bokeh-0.12.16.min.css\");\n      Bokeh.embed.inject_css(\"https://cdn.pydata.org/bokeh/release/bokeh-0.12.16.min.css\");\n      console.log(\"Bokeh: injecting CSS: https://cdn.pydata.org/bokeh/release/bokeh-widgets-0.12.16.min.css\");\n      Bokeh.embed.inject_css(\"https://cdn.pydata.org/bokeh/release/bokeh-widgets-0.12.16.min.css\");\n      console.log(\"Bokeh: injecting CSS: https://cdn.pydata.org/bokeh/release/bokeh-tables-0.12.16.min.css\");\n      Bokeh.embed.inject_css(\"https://cdn.pydata.org/bokeh/release/bokeh-tables-0.12.16.min.css\");\n    }\n  ];\n\n  function run_inline_js() {\n    \n    if ((root.Bokeh !== undefined) || (force === true)) {\n      for (var i = 0; i < inline_js.length; i++) {\n        inline_js[i].call(root, root.Bokeh);\n      }if (force === true) {\n        display_loaded();\n      }} else if (Date.now() < root._bokeh_timeout) {\n      setTimeout(run_inline_js, 100);\n    } else if (!root._bokeh_failed_load) {\n      console.log(\"Bokeh: BokehJS failed to load within specified timeout.\");\n      root._bokeh_failed_load = true;\n    } else if (force !== true) {\n      var cell = $(document.getElementById(\"74e5cca6-3273-4d56-883b-039c538f245b\")).parents('.cell').data().cell;\n      cell.output_area.append_execute_result(NB_LOAD_WARNING)\n    }\n\n  }\n\n  if (root._bokeh_is_loading === 0) {\n    console.log(\"Bokeh: BokehJS loaded, going straight to plotting\");\n    run_inline_js();\n  } else {\n    load_libs(js_urls, function() {\n      console.log(\"Bokeh: BokehJS plotting callback run at\", now());\n      run_inline_js();\n    });\n  }\n}(window));"
     },
     "metadata": {},
     "output_type": "display_data"
    }
   ],
   "source": [
    "from bokeh.plotting import figure, show\n",
    "from bokeh.io import output_notebook\n",
    "output_notebook()"
   ]
  },
  {
   "cell_type": "markdown",
   "metadata": {},
   "source": [
    "- Manos a la obra"
   ]
  },
  {
   "cell_type": "code",
   "execution_count": 202,
   "metadata": {},
   "outputs": [],
   "source": [
    "#poniendo nombre a los ejes 'x' y 'y'\n",
    "p = figure(x_axis_label = 'Tasa de natalidad (niños por mujer)', y_axis_label = 'Alfabetización femenina (% de la población)') "
   ]
  },
  {
   "cell_type": "code",
   "execution_count": 203,
   "metadata": {},
   "outputs": [
    {
     "data": {
      "text/html": [
       "<div style=\"display: table;\"><div style=\"display: table-row;\"><div style=\"display: table-cell;\"><b title=\"bokeh.models.renderers.GlyphRenderer\">GlyphRenderer</b>(</div><div style=\"display: table-cell;\">id&nbsp;=&nbsp;'13c109f2-6137-4c99-8cfd-aa26e207d053', <span id=\"73a8696a-f03b-464b-9959-81ffd690c484\" style=\"cursor: pointer;\">&hellip;)</span></div></div><div class=\"f5b78fd1-a96e-44a7-9e0b-55488363ce2d\" style=\"display: none;\"><div style=\"display: table-cell;\"></div><div style=\"display: table-cell;\">data_source&nbsp;=&nbsp;ColumnDataSource(id='a4024ad6-f31c-4d94-a9c9-502f8d975834', ...),</div></div><div class=\"f5b78fd1-a96e-44a7-9e0b-55488363ce2d\" style=\"display: none;\"><div style=\"display: table-cell;\"></div><div style=\"display: table-cell;\">glyph&nbsp;=&nbsp;Circle(id='4870dcf5-b6d3-485e-a889-c33d044f35be', ...),</div></div><div class=\"f5b78fd1-a96e-44a7-9e0b-55488363ce2d\" style=\"display: none;\"><div style=\"display: table-cell;\"></div><div style=\"display: table-cell;\">hover_glyph&nbsp;=&nbsp;None,</div></div><div class=\"f5b78fd1-a96e-44a7-9e0b-55488363ce2d\" style=\"display: none;\"><div style=\"display: table-cell;\"></div><div style=\"display: table-cell;\">js_event_callbacks&nbsp;=&nbsp;{},</div></div><div class=\"f5b78fd1-a96e-44a7-9e0b-55488363ce2d\" style=\"display: none;\"><div style=\"display: table-cell;\"></div><div style=\"display: table-cell;\">js_property_callbacks&nbsp;=&nbsp;{},</div></div><div class=\"f5b78fd1-a96e-44a7-9e0b-55488363ce2d\" style=\"display: none;\"><div style=\"display: table-cell;\"></div><div style=\"display: table-cell;\">level&nbsp;=&nbsp;'glyph',</div></div><div class=\"f5b78fd1-a96e-44a7-9e0b-55488363ce2d\" style=\"display: none;\"><div style=\"display: table-cell;\"></div><div style=\"display: table-cell;\">muted&nbsp;=&nbsp;False,</div></div><div class=\"f5b78fd1-a96e-44a7-9e0b-55488363ce2d\" style=\"display: none;\"><div style=\"display: table-cell;\"></div><div style=\"display: table-cell;\">muted_glyph&nbsp;=&nbsp;None,</div></div><div class=\"f5b78fd1-a96e-44a7-9e0b-55488363ce2d\" style=\"display: none;\"><div style=\"display: table-cell;\"></div><div style=\"display: table-cell;\">name&nbsp;=&nbsp;None,</div></div><div class=\"f5b78fd1-a96e-44a7-9e0b-55488363ce2d\" style=\"display: none;\"><div style=\"display: table-cell;\"></div><div style=\"display: table-cell;\">nonselection_glyph&nbsp;=&nbsp;Circle(id='e180d817-9634-434b-8b0f-3ce5e19a8f13', ...),</div></div><div class=\"f5b78fd1-a96e-44a7-9e0b-55488363ce2d\" style=\"display: none;\"><div style=\"display: table-cell;\"></div><div style=\"display: table-cell;\">selection_glyph&nbsp;=&nbsp;None,</div></div><div class=\"f5b78fd1-a96e-44a7-9e0b-55488363ce2d\" style=\"display: none;\"><div style=\"display: table-cell;\"></div><div style=\"display: table-cell;\">subscribed_events&nbsp;=&nbsp;[],</div></div><div class=\"f5b78fd1-a96e-44a7-9e0b-55488363ce2d\" style=\"display: none;\"><div style=\"display: table-cell;\"></div><div style=\"display: table-cell;\">tags&nbsp;=&nbsp;[],</div></div><div class=\"f5b78fd1-a96e-44a7-9e0b-55488363ce2d\" style=\"display: none;\"><div style=\"display: table-cell;\"></div><div style=\"display: table-cell;\">view&nbsp;=&nbsp;CDSView(id='0f9f03b7-d1ee-4759-8364-db26b2adb6d0', ...),</div></div><div class=\"f5b78fd1-a96e-44a7-9e0b-55488363ce2d\" style=\"display: none;\"><div style=\"display: table-cell;\"></div><div style=\"display: table-cell;\">visible&nbsp;=&nbsp;True,</div></div><div class=\"f5b78fd1-a96e-44a7-9e0b-55488363ce2d\" style=\"display: none;\"><div style=\"display: table-cell;\"></div><div style=\"display: table-cell;\">x_range_name&nbsp;=&nbsp;'default',</div></div><div class=\"f5b78fd1-a96e-44a7-9e0b-55488363ce2d\" style=\"display: none;\"><div style=\"display: table-cell;\"></div><div style=\"display: table-cell;\">y_range_name&nbsp;=&nbsp;'default')</div></div></div>\n",
       "<script>\n",
       "(function() {\n",
       "  var expanded = false;\n",
       "  var ellipsis = document.getElementById(\"73a8696a-f03b-464b-9959-81ffd690c484\");\n",
       "  ellipsis.addEventListener(\"click\", function() {\n",
       "    var rows = document.getElementsByClassName(\"f5b78fd1-a96e-44a7-9e0b-55488363ce2d\");\n",
       "    for (var i = 0; i < rows.length; i++) {\n",
       "      var el = rows[i];\n",
       "      el.style.display = expanded ? \"none\" : \"table-row\";\n",
       "    }\n",
       "    ellipsis.innerHTML = expanded ? \"&hellip;)\" : \"&lsaquo;&lsaquo;&lsaquo;\";\n",
       "    expanded = !expanded;\n",
       "  });\n",
       "})();\n",
       "</script>\n"
      ],
      "text/plain": [
       "bokeh.models.renderers.GlyphRenderer(\n",
       "    id='13c109f2-6137-4c99-8cfd-aa26e207d053',\n",
       "    data_source=bokeh.models.sources.ColumnDataSource(\n",
       "        id='a4024ad6-f31c-4d94-a9c9-502f8d975834',\n",
       "        callback=None,\n",
       "        data={'x': {'__ndarray__': '6Pup8dJN/D/b+X5qvHQFQARWDi2ynQBAdJMYBFYOAUAIrBxaZDv9P2Dl0CLb+Q5A6Pup8dJNAkD91HjpJrEUQH0/NV66SfY//tR46SYx9D9zaJHtfD8BQGmR7Xw/NQhA3SQGgZVDAEDJdr6fGi/1P7tJDAIrhwZA8tJNYhDYFEDNzMzMzMwAQOXQItv5fvw/8/3UeOkm/T9uEoPAyqEXQH9qvHSTGP4/bhKDwMqh/T89CtejcD32P3Noke18PwJACtejcD0KBEAv3SQGgZXzPy2yne+nxvU/sXJoke189z8IrBxaZDsDQBSuR+F6FBZACKwcWmQ7EEBjEFg5tMgBQFYOLbKdbxNAE4PAyqFF9D8j2/l+arwCQN0kBoGVQ/k/arx0kxgEGUB56SYxCKwCQOSlm8QgsA9AhetRuB4FGkA9CtejcD0EQC/dJAaBlQZAlkOLbOf7A0CWQ4ts5/sBQKrx0k1iEARAUrgehetRCEBEi2zn+6n9P+F6FK5H4RBAZmZmZmZmFECR7Xw/Nd4TQDMzMzMzM/U/dJMYBFYOEkD8qfHSTWIJQBFYObTIdgJAexSuR+F6EkBEi2zn+ykSQEA1XrpJjBZAN4lBYOXQ/j/AyqFFtvP7PycxCKwcWgJAd76fGi9dF0BSuB6F69EVQC2yne+nRhxArBxaZDvfBkDfT42XbhIQQLTIdr6fGgRAH4XrUbieFUCmm8QgsPIWQIGVQ4ts5wpAj8L1KFyPE0ApXI/C9Sj2PxSuR+F6FPg/bef7qfFSGEAlBoGVQ4v8P0A1XrpJDPY/MzMzMzMz9z/b+X5qvHT9P+xRuB6F6/U/TDeJQWDlBEA3iUFg5VAVQFK4HoXrURVALIcW2c73CkDl0CLb+X70P1YOLbKd7/0/001iEFg5AUBPjZduEoMVQM3MzMzMzBFAXI/C9Shc9z9g5dAi2/n2P5duEoPAyvk/hetRuB6FCUBqvHSTGAQGQM3MzMzMzApACtejcD0KEEBEi2zn+6kQQIlBYOXQIgVAN4lBYOXQB0BSuB6F61ELQFyPwvUoXAJA8/3UeOkmCEARWDm0yHYFQClcj8L1qBRAL90kBoGV/T/GSzeJQWD9P7+fGi/dJARAcT0K16NwA0DqJjEIrBwSQGiR7Xw/NfQ/KVyPwvUo/j9KDAIrhxb/P/yp8dJNYv4/30+Nl24S9z9zaJHtfD//P30/NV66yRJAHFpkO99P+T8zMzMzMzMAQNv5fmq8dP0/JQaBlUMLFEAxCKwcWmTzP9R46SYxCPg/VOOlm8QgBECsHFpkO9/1P4PAyqFFtgBAWmQ730+NEUBEi2zn+6n9PyyHFtnO9/s/bef7qfHSB0Cd76fGSzcBQEw3iUFg5QJAAyuHFtnO/z83iUFg5dD2P1K4HoXrUQpA6SYxCKwcCkBg5dAi2/n2P30/NV66SfY/+n5qvHSTBkDGSzeJQeATQIlBYOXQohZA7FG4HoXrCUBKDAIrhxb7PyYxCKwcWvo/4XoUrkfhAkB46SYxCKz8P5qZmZmZmQtAqMZLN4lB+D93vp8aL90BQBsv3SQGgQRAbhKDwMohFUAUrkfhehQPQLbz/dR46e4/lkOLbOf7AkDo+6nx0k0FQGq8dJMYBPQ/0SLb+X5qAEAshxbZzvcKQFg5tMh2vgBAAAAAAAAAAECq8dJNYhAPQDeJQWDl0A5AWDm0yHa+DUCDwMqhRbb7PwaBlUOLbA9A',\n",
       "          'shape': (162,),\n",
       "          'dtype': 'float64'},\n",
       "         'y': {'__ndarray__': 'AAAAAACgVkBmZmZmZmZJQAAAAAAAwFhAMzMzMzMzVkDNzMzMzIxWQAAAAAAAAERAZmZmZmbmSEBmZmZmZmZIQJqZmZmZ2VhAAAAAAADAWEAAAAAAAOBWQJqZmZmZeVdAzczMzMyMVkAAAAAAAMBYQGZmZmZm5kxAzczMzMzMNkAzMzMzM1NUQM3MzMzMTFNAAAAAAADgVkDNzMzMzAxMQAAAAAAAwFhAAAAAAADAWEAAAAAAAKBYQM3MzMzMTFZAZmZmZmYGVkBmZmZmZiZYQGZmZmZm5lhAmpmZmZk5WECamZmZmVlXQDMzMzMzk1BAzczMzMzMTUDNzMzMzGxYQDMzMzMzs1RAMzMzMzPTWEAzMzMzM/NPQAAAAAAAwFhAMzMzMzOzUEDNzMzMzAxGQM3MzMzMTFFAMzMzMzMzKUBmZmZmZiZVQDMzMzMzs0ZAmpmZmZm5V0CamZmZmblYQDMzMzMzc1ZAzczMzMwMVEAAAAAAAABZQGZmZmZmpk1AZmZmZmZmRUDNzMzMzAxEQJqZmZmZOVhAZmZmZmYmRkDNzMzMzExTQGZmZmZmRlZAMzMzMzNTUEAzMzMzM/NQQAAAAAAAgExAzczMzMysWEAAAAAAAMBYQAAAAAAA4FhAmpmZmZmZNUAzMzMzM3NQQDMzMzMzMy5AmpmZmZm5UUDNzMzMzCxRQM3MzMzMbFRAMzMzMzMzMkAAAAAAAIBOQDMzMzMzM1ZAAAAAAACAQECamZmZmflXQDMzMzMz81hAZmZmZmbmNUAAAAAAAMBYQJqZmZmZOVdAAAAAAADAWEAAAAAAAMBRQJqZmZmZuVhAMzMzMzMTVkBmZmZmZmY6QGZmZmZmhlBAAAAAAACAVUDNzMzMzOxYQAAAAAAAwFhAzczMzMzMWECamZmZmRk8QDMzMzMz801AAAAAAADAWECamZmZmXlYQM3MzMzMDFhAAAAAAADgVECamZmZmflXQAAAAAAA4FhAzczMzMzMS0CamZmZmdlKQDMzMzMzU1RAAAAAAABgV0CamZmZmZlPQJqZmZmZWVRAmpmZmZk5VkCamZmZmXlTQGZmZmZm5jxAAAAAAADAWEAAAAAAAABZQGZmZmZmxlhAMzMzMzPTWEAAAAAAAEBLQGZmZmZm5lZAAAAAAAAAWUDNzMzMzAxYQAAAAAAA4FZAAAAAAACAWEAAAAAAAMBYQM3MzMzMjERAzczMzMzsWEAAAAAAAMBYQAAAAAAAgFVAAAAAAACASkCamZmZmflXQDMzMzMzc1hAMzMzMzMzV0DNzMzMzOxYQAAAAAAAoFhAAAAAAADASEDNzMzMzKxYQJqZmZmZ2VhAmpmZmZk5VEBmZmZmZkZXQDMzMzMzs1ZAMzMzMzNzWEAzMzMzM/NYQM3MzMzM7FVAZmZmZmbGV0CamZmZmdlXQM3MzMzM7FhAAAAAAADgVEBmZmZmZiZBQAAAAAAAQEJAzczMzMzMVEAzMzMzM/NYQM3MzMzMjFhAmpmZmZmZVkAzMzMzMzNVQGZmZmZmZlVAzczMzMwsWECamZmZmVlWQJqZmZmZWUNAZmZmZmZGVkAzMzMzM/NQQM3MzMzMrFZAmpmZmZkZVkAzMzMzM9NTQAAAAAAAYFdAMzMzMzNTV0AAAAAAACBYQAAAAAAAwFhAmpmZmZmZWEAAAAAAAOBTQAAAAAAAoFhAMzMzMzPTVEAAAAAAAIBYQGZmZmZmxlhA',\n",
       "          'shape': (162,),\n",
       "          'dtype': 'float64'}},\n",
       "        js_event_callbacks={},\n",
       "        js_property_callbacks={},\n",
       "        name=None,\n",
       "        selected=bokeh.models.selections.Selection(\n",
       "            id='1f264515-c163-432c-a7dc-927e16952d82',\n",
       "            indices=[],\n",
       "            js_event_callbacks={},\n",
       "            js_property_callbacks={},\n",
       "            line_indices=[],\n",
       "            multiline_indices={},\n",
       "            name=None,\n",
       "            subscribed_events=[],\n",
       "            tags=[]),\n",
       "        selection_policy=bokeh.models.selections.UnionRenderers(\n",
       "            id='7a4eea51-e6dc-4d4e-bf89-227d2f1c158c',\n",
       "            js_event_callbacks={},\n",
       "            js_property_callbacks={},\n",
       "            name=None,\n",
       "            subscribed_events=[],\n",
       "            tags=[]),\n",
       "        subscribed_events=[],\n",
       "        tags=[]),\n",
       "    glyph=bokeh.models.markers.Circle(\n",
       "        id='4870dcf5-b6d3-485e-a889-c33d044f35be',\n",
       "        angle={'value': 0.0, 'units': 'rad'},\n",
       "        fill_alpha={'value': 1.0},\n",
       "        fill_color={'value': '#1f77b4'},\n",
       "        js_event_callbacks={},\n",
       "        js_property_callbacks={},\n",
       "        line_alpha={'value': 1.0},\n",
       "        line_cap='butt',\n",
       "        line_color={'value': '#1f77b4'},\n",
       "        line_dash=[],\n",
       "        line_dash_offset=0,\n",
       "        line_join='miter',\n",
       "        line_width={'value': 1},\n",
       "        name=None,\n",
       "        radius=None,\n",
       "        radius_dimension='x',\n",
       "        size={'value': 4, 'units': 'screen'},\n",
       "        subscribed_events=[],\n",
       "        tags=[],\n",
       "        x={'field': 'x'},\n",
       "        y={'field': 'y'}),\n",
       "    hover_glyph=None,\n",
       "    js_event_callbacks={},\n",
       "    js_property_callbacks={},\n",
       "    level='glyph',\n",
       "    muted=False,\n",
       "    muted_glyph=None,\n",
       "    name=None,\n",
       "    nonselection_glyph=bokeh.models.markers.Circle(\n",
       "        id='e180d817-9634-434b-8b0f-3ce5e19a8f13',\n",
       "        angle={'value': 0.0, 'units': 'rad'},\n",
       "        fill_alpha={'value': 0.1},\n",
       "        fill_color={'value': '#1f77b4'},\n",
       "        js_event_callbacks={},\n",
       "        js_property_callbacks={},\n",
       "        line_alpha={'value': 0.1},\n",
       "        line_cap='butt',\n",
       "        line_color={'value': '#1f77b4'},\n",
       "        line_dash=[],\n",
       "        line_dash_offset=0,\n",
       "        line_join='miter',\n",
       "        line_width={'value': 1},\n",
       "        name=None,\n",
       "        radius=None,\n",
       "        radius_dimension='x',\n",
       "        size={'value': 4, 'units': 'screen'},\n",
       "        subscribed_events=[],\n",
       "        tags=[],\n",
       "        x={'field': 'x'},\n",
       "        y={'field': 'y'}),\n",
       "    selection_glyph=None,\n",
       "    subscribed_events=[],\n",
       "    tags=[],\n",
       "    view=bokeh.models.sources.CDSView(\n",
       "        id='0f9f03b7-d1ee-4759-8364-db26b2adb6d0',\n",
       "        filters=[],\n",
       "        js_event_callbacks={},\n",
       "        js_property_callbacks={},\n",
       "        name=None,\n",
       "        source=bokeh.models.sources.ColumnDataSource(\n",
       "            id='a4024ad6-f31c-4d94-a9c9-502f8d975834',\n",
       "            callback=None,\n",
       "            data={'x': {'__ndarray__': '6Pup8dJN/D/b+X5qvHQFQARWDi2ynQBAdJMYBFYOAUAIrBxaZDv9P2Dl0CLb+Q5A6Pup8dJNAkD91HjpJrEUQH0/NV66SfY//tR46SYx9D9zaJHtfD8BQGmR7Xw/NQhA3SQGgZVDAEDJdr6fGi/1P7tJDAIrhwZA8tJNYhDYFEDNzMzMzMwAQOXQItv5fvw/8/3UeOkm/T9uEoPAyqEXQH9qvHSTGP4/bhKDwMqh/T89CtejcD32P3Noke18PwJACtejcD0KBEAv3SQGgZXzPy2yne+nxvU/sXJoke189z8IrBxaZDsDQBSuR+F6FBZACKwcWmQ7EEBjEFg5tMgBQFYOLbKdbxNAE4PAyqFF9D8j2/l+arwCQN0kBoGVQ/k/arx0kxgEGUB56SYxCKwCQOSlm8QgsA9AhetRuB4FGkA9CtejcD0EQC/dJAaBlQZAlkOLbOf7A0CWQ4ts5/sBQKrx0k1iEARAUrgehetRCEBEi2zn+6n9P+F6FK5H4RBAZmZmZmZmFECR7Xw/Nd4TQDMzMzMzM/U/dJMYBFYOEkD8qfHSTWIJQBFYObTIdgJAexSuR+F6EkBEi2zn+ykSQEA1XrpJjBZAN4lBYOXQ/j/AyqFFtvP7PycxCKwcWgJAd76fGi9dF0BSuB6F69EVQC2yne+nRhxArBxaZDvfBkDfT42XbhIQQLTIdr6fGgRAH4XrUbieFUCmm8QgsPIWQIGVQ4ts5wpAj8L1KFyPE0ApXI/C9Sj2PxSuR+F6FPg/bef7qfFSGEAlBoGVQ4v8P0A1XrpJDPY/MzMzMzMz9z/b+X5qvHT9P+xRuB6F6/U/TDeJQWDlBEA3iUFg5VAVQFK4HoXrURVALIcW2c73CkDl0CLb+X70P1YOLbKd7/0/001iEFg5AUBPjZduEoMVQM3MzMzMzBFAXI/C9Shc9z9g5dAi2/n2P5duEoPAyvk/hetRuB6FCUBqvHSTGAQGQM3MzMzMzApACtejcD0KEEBEi2zn+6kQQIlBYOXQIgVAN4lBYOXQB0BSuB6F61ELQFyPwvUoXAJA8/3UeOkmCEARWDm0yHYFQClcj8L1qBRAL90kBoGV/T/GSzeJQWD9P7+fGi/dJARAcT0K16NwA0DqJjEIrBwSQGiR7Xw/NfQ/KVyPwvUo/j9KDAIrhxb/P/yp8dJNYv4/30+Nl24S9z9zaJHtfD//P30/NV66yRJAHFpkO99P+T8zMzMzMzMAQNv5fmq8dP0/JQaBlUMLFEAxCKwcWmTzP9R46SYxCPg/VOOlm8QgBECsHFpkO9/1P4PAyqFFtgBAWmQ730+NEUBEi2zn+6n9PyyHFtnO9/s/bef7qfHSB0Cd76fGSzcBQEw3iUFg5QJAAyuHFtnO/z83iUFg5dD2P1K4HoXrUQpA6SYxCKwcCkBg5dAi2/n2P30/NV66SfY/+n5qvHSTBkDGSzeJQeATQIlBYOXQohZA7FG4HoXrCUBKDAIrhxb7PyYxCKwcWvo/4XoUrkfhAkB46SYxCKz8P5qZmZmZmQtAqMZLN4lB+D93vp8aL90BQBsv3SQGgQRAbhKDwMohFUAUrkfhehQPQLbz/dR46e4/lkOLbOf7AkDo+6nx0k0FQGq8dJMYBPQ/0SLb+X5qAEAshxbZzvcKQFg5tMh2vgBAAAAAAAAAAECq8dJNYhAPQDeJQWDl0A5AWDm0yHa+DUCDwMqhRbb7PwaBlUOLbA9A',\n",
       "              'shape': (162,),\n",
       "              'dtype': 'float64'},\n",
       "             'y': {'__ndarray__': 'AAAAAACgVkBmZmZmZmZJQAAAAAAAwFhAMzMzMzMzVkDNzMzMzIxWQAAAAAAAAERAZmZmZmbmSEBmZmZmZmZIQJqZmZmZ2VhAAAAAAADAWEAAAAAAAOBWQJqZmZmZeVdAzczMzMyMVkAAAAAAAMBYQGZmZmZm5kxAzczMzMzMNkAzMzMzM1NUQM3MzMzMTFNAAAAAAADgVkDNzMzMzAxMQAAAAAAAwFhAAAAAAADAWEAAAAAAAKBYQM3MzMzMTFZAZmZmZmYGVkBmZmZmZiZYQGZmZmZm5lhAmpmZmZk5WECamZmZmVlXQDMzMzMzk1BAzczMzMzMTUDNzMzMzGxYQDMzMzMzs1RAMzMzMzPTWEAzMzMzM/NPQAAAAAAAwFhAMzMzMzOzUEDNzMzMzAxGQM3MzMzMTFFAMzMzMzMzKUBmZmZmZiZVQDMzMzMzs0ZAmpmZmZm5V0CamZmZmblYQDMzMzMzc1ZAzczMzMwMVEAAAAAAAABZQGZmZmZmpk1AZmZmZmZmRUDNzMzMzAxEQJqZmZmZOVhAZmZmZmYmRkDNzMzMzExTQGZmZmZmRlZAMzMzMzNTUEAzMzMzM/NQQAAAAAAAgExAzczMzMysWEAAAAAAAMBYQAAAAAAA4FhAmpmZmZmZNUAzMzMzM3NQQDMzMzMzMy5AmpmZmZm5UUDNzMzMzCxRQM3MzMzMbFRAMzMzMzMzMkAAAAAAAIBOQDMzMzMzM1ZAAAAAAACAQECamZmZmflXQDMzMzMz81hAZmZmZmbmNUAAAAAAAMBYQJqZmZmZOVdAAAAAAADAWEAAAAAAAMBRQJqZmZmZuVhAMzMzMzMTVkBmZmZmZmY6QGZmZmZmhlBAAAAAAACAVUDNzMzMzOxYQAAAAAAAwFhAzczMzMzMWECamZmZmRk8QDMzMzMz801AAAAAAADAWECamZmZmXlYQM3MzMzMDFhAAAAAAADgVECamZmZmflXQAAAAAAA4FhAzczMzMzMS0CamZmZmdlKQDMzMzMzU1RAAAAAAABgV0CamZmZmZlPQJqZmZmZWVRAmpmZmZk5VkCamZmZmXlTQGZmZmZm5jxAAAAAAADAWEAAAAAAAABZQGZmZmZmxlhAMzMzMzPTWEAAAAAAAEBLQGZmZmZm5lZAAAAAAAAAWUDNzMzMzAxYQAAAAAAA4FZAAAAAAACAWEAAAAAAAMBYQM3MzMzMjERAzczMzMzsWEAAAAAAAMBYQAAAAAAAgFVAAAAAAACASkCamZmZmflXQDMzMzMzc1hAMzMzMzMzV0DNzMzMzOxYQAAAAAAAoFhAAAAAAADASEDNzMzMzKxYQJqZmZmZ2VhAmpmZmZk5VEBmZmZmZkZXQDMzMzMzs1ZAMzMzMzNzWEAzMzMzM/NYQM3MzMzM7FVAZmZmZmbGV0CamZmZmdlXQM3MzMzM7FhAAAAAAADgVEBmZmZmZiZBQAAAAAAAQEJAzczMzMzMVEAzMzMzM/NYQM3MzMzMjFhAmpmZmZmZVkAzMzMzMzNVQGZmZmZmZlVAzczMzMwsWECamZmZmVlWQJqZmZmZWUNAZmZmZmZGVkAzMzMzM/NQQM3MzMzMrFZAmpmZmZkZVkAzMzMzM9NTQAAAAAAAYFdAMzMzMzNTV0AAAAAAACBYQAAAAAAAwFhAmpmZmZmZWEAAAAAAAOBTQAAAAAAAoFhAMzMzMzPTVEAAAAAAAIBYQGZmZmZmxlhA',\n",
       "              'shape': (162,),\n",
       "              'dtype': 'float64'}},\n",
       "            js_event_callbacks={},\n",
       "            js_property_callbacks={},\n",
       "            name=None,\n",
       "            selected=bokeh.models.selections.Selection(\n",
       "                id='1f264515-c163-432c-a7dc-927e16952d82',\n",
       "                indices=[],\n",
       "                js_event_callbacks={},\n",
       "                js_property_callbacks={},\n",
       "                line_indices=[],\n",
       "                multiline_indices={},\n",
       "                name=None,\n",
       "                subscribed_events=[],\n",
       "                tags=[]),\n",
       "            selection_policy=bokeh.models.selections.UnionRenderers(\n",
       "                id='7a4eea51-e6dc-4d4e-bf89-227d2f1c158c',\n",
       "                js_event_callbacks={},\n",
       "                js_property_callbacks={},\n",
       "                name=None,\n",
       "                subscribed_events=[],\n",
       "                tags=[]),\n",
       "            subscribed_events=[],\n",
       "            tags=[]),\n",
       "        subscribed_events=[],\n",
       "        tags=[]),\n",
       "    visible=True,\n",
       "    x_range_name='default',\n",
       "    y_range_name='default')"
      ]
     },
     "execution_count": 203,
     "metadata": {},
     "output_type": "execute_result"
    }
   ],
   "source": [
    "p.circle(x,y) #Colocando los ejes"
   ]
  },
  {
   "cell_type": "code",
   "execution_count": 204,
   "metadata": {
    "scrolled": false
   },
   "outputs": [
    {
     "data": {
      "text/html": [
       "\n",
       "<div class=\"bk-root\">\n",
       "    <div class=\"bk-plotdiv\" id=\"0cbacd3c-e124-4755-b610-fe92d73b8b9c\"></div>\n",
       "</div>"
      ]
     },
     "metadata": {},
     "output_type": "display_data"
    },
    {
     "data": {
      "application/javascript": [
       "(function(root) {\n",
       "  function embed_document(root) {\n",
       "    \n",
       "  var docs_json = {\"ed1ac27c-dbc4-40c9-a2ab-62fe59d4c4bb\":{\"roots\":{\"references\":[{\"attributes\":{},\"id\":\"0fdb2d18-40f8-49f0-97de-199ef1c2a3b2\",\"type\":\"BasicTickFormatter\"},{\"attributes\":{},\"id\":\"4bf643e3-66ea-4e15-add8-368c9499de28\",\"type\":\"BasicTicker\"},{\"attributes\":{\"dimension\":1,\"plot\":{\"id\":\"37b7ea8b-2f6a-4b9f-87ea-f7ac6ac22199\",\"subtype\":\"Figure\",\"type\":\"Plot\"},\"ticker\":{\"id\":\"4bf643e3-66ea-4e15-add8-368c9499de28\",\"type\":\"BasicTicker\"}},\"id\":\"0cc61049-a38b-42db-b6fc-89d68440f573\",\"type\":\"Grid\"},{\"attributes\":{},\"id\":\"2f4a8614-4085-40e9-af26-c2ff2d04b26a\",\"type\":\"LinearScale\"},{\"attributes\":{\"callback\":null,\"data\":{\"x\":{\"__ndarray__\":\"6Pup8dJN/D/b+X5qvHQFQARWDi2ynQBAdJMYBFYOAUAIrBxaZDv9P2Dl0CLb+Q5A6Pup8dJNAkD91HjpJrEUQH0/NV66SfY//tR46SYx9D9zaJHtfD8BQGmR7Xw/NQhA3SQGgZVDAEDJdr6fGi/1P7tJDAIrhwZA8tJNYhDYFEDNzMzMzMwAQOXQItv5fvw/8/3UeOkm/T9uEoPAyqEXQH9qvHSTGP4/bhKDwMqh/T89CtejcD32P3Noke18PwJACtejcD0KBEAv3SQGgZXzPy2yne+nxvU/sXJoke189z8IrBxaZDsDQBSuR+F6FBZACKwcWmQ7EEBjEFg5tMgBQFYOLbKdbxNAE4PAyqFF9D8j2/l+arwCQN0kBoGVQ/k/arx0kxgEGUB56SYxCKwCQOSlm8QgsA9AhetRuB4FGkA9CtejcD0EQC/dJAaBlQZAlkOLbOf7A0CWQ4ts5/sBQKrx0k1iEARAUrgehetRCEBEi2zn+6n9P+F6FK5H4RBAZmZmZmZmFECR7Xw/Nd4TQDMzMzMzM/U/dJMYBFYOEkD8qfHSTWIJQBFYObTIdgJAexSuR+F6EkBEi2zn+ykSQEA1XrpJjBZAN4lBYOXQ/j/AyqFFtvP7PycxCKwcWgJAd76fGi9dF0BSuB6F69EVQC2yne+nRhxArBxaZDvfBkDfT42XbhIQQLTIdr6fGgRAH4XrUbieFUCmm8QgsPIWQIGVQ4ts5wpAj8L1KFyPE0ApXI/C9Sj2PxSuR+F6FPg/bef7qfFSGEAlBoGVQ4v8P0A1XrpJDPY/MzMzMzMz9z/b+X5qvHT9P+xRuB6F6/U/TDeJQWDlBEA3iUFg5VAVQFK4HoXrURVALIcW2c73CkDl0CLb+X70P1YOLbKd7/0/001iEFg5AUBPjZduEoMVQM3MzMzMzBFAXI/C9Shc9z9g5dAi2/n2P5duEoPAyvk/hetRuB6FCUBqvHSTGAQGQM3MzMzMzApACtejcD0KEEBEi2zn+6kQQIlBYOXQIgVAN4lBYOXQB0BSuB6F61ELQFyPwvUoXAJA8/3UeOkmCEARWDm0yHYFQClcj8L1qBRAL90kBoGV/T/GSzeJQWD9P7+fGi/dJARAcT0K16NwA0DqJjEIrBwSQGiR7Xw/NfQ/KVyPwvUo/j9KDAIrhxb/P/yp8dJNYv4/30+Nl24S9z9zaJHtfD//P30/NV66yRJAHFpkO99P+T8zMzMzMzMAQNv5fmq8dP0/JQaBlUMLFEAxCKwcWmTzP9R46SYxCPg/VOOlm8QgBECsHFpkO9/1P4PAyqFFtgBAWmQ730+NEUBEi2zn+6n9PyyHFtnO9/s/bef7qfHSB0Cd76fGSzcBQEw3iUFg5QJAAyuHFtnO/z83iUFg5dD2P1K4HoXrUQpA6SYxCKwcCkBg5dAi2/n2P30/NV66SfY/+n5qvHSTBkDGSzeJQeATQIlBYOXQohZA7FG4HoXrCUBKDAIrhxb7PyYxCKwcWvo/4XoUrkfhAkB46SYxCKz8P5qZmZmZmQtAqMZLN4lB+D93vp8aL90BQBsv3SQGgQRAbhKDwMohFUAUrkfhehQPQLbz/dR46e4/lkOLbOf7AkDo+6nx0k0FQGq8dJMYBPQ/0SLb+X5qAEAshxbZzvcKQFg5tMh2vgBAAAAAAAAAAECq8dJNYhAPQDeJQWDl0A5AWDm0yHa+DUCDwMqhRbb7PwaBlUOLbA9A\",\"dtype\":\"float64\",\"shape\":[162]},\"y\":{\"__ndarray__\":\"AAAAAACgVkBmZmZmZmZJQAAAAAAAwFhAMzMzMzMzVkDNzMzMzIxWQAAAAAAAAERAZmZmZmbmSEBmZmZmZmZIQJqZmZmZ2VhAAAAAAADAWEAAAAAAAOBWQJqZmZmZeVdAzczMzMyMVkAAAAAAAMBYQGZmZmZm5kxAzczMzMzMNkAzMzMzM1NUQM3MzMzMTFNAAAAAAADgVkDNzMzMzAxMQAAAAAAAwFhAAAAAAADAWEAAAAAAAKBYQM3MzMzMTFZAZmZmZmYGVkBmZmZmZiZYQGZmZmZm5lhAmpmZmZk5WECamZmZmVlXQDMzMzMzk1BAzczMzMzMTUDNzMzMzGxYQDMzMzMzs1RAMzMzMzPTWEAzMzMzM/NPQAAAAAAAwFhAMzMzMzOzUEDNzMzMzAxGQM3MzMzMTFFAMzMzMzMzKUBmZmZmZiZVQDMzMzMzs0ZAmpmZmZm5V0CamZmZmblYQDMzMzMzc1ZAzczMzMwMVEAAAAAAAABZQGZmZmZmpk1AZmZmZmZmRUDNzMzMzAxEQJqZmZmZOVhAZmZmZmYmRkDNzMzMzExTQGZmZmZmRlZAMzMzMzNTUEAzMzMzM/NQQAAAAAAAgExAzczMzMysWEAAAAAAAMBYQAAAAAAA4FhAmpmZmZmZNUAzMzMzM3NQQDMzMzMzMy5AmpmZmZm5UUDNzMzMzCxRQM3MzMzMbFRAMzMzMzMzMkAAAAAAAIBOQDMzMzMzM1ZAAAAAAACAQECamZmZmflXQDMzMzMz81hAZmZmZmbmNUAAAAAAAMBYQJqZmZmZOVdAAAAAAADAWEAAAAAAAMBRQJqZmZmZuVhAMzMzMzMTVkBmZmZmZmY6QGZmZmZmhlBAAAAAAACAVUDNzMzMzOxYQAAAAAAAwFhAzczMzMzMWECamZmZmRk8QDMzMzMz801AAAAAAADAWECamZmZmXlYQM3MzMzMDFhAAAAAAADgVECamZmZmflXQAAAAAAA4FhAzczMzMzMS0CamZmZmdlKQDMzMzMzU1RAAAAAAABgV0CamZmZmZlPQJqZmZmZWVRAmpmZmZk5VkCamZmZmXlTQGZmZmZm5jxAAAAAAADAWEAAAAAAAABZQGZmZmZmxlhAMzMzMzPTWEAAAAAAAEBLQGZmZmZm5lZAAAAAAAAAWUDNzMzMzAxYQAAAAAAA4FZAAAAAAACAWEAAAAAAAMBYQM3MzMzMjERAzczMzMzsWEAAAAAAAMBYQAAAAAAAgFVAAAAAAACASkCamZmZmflXQDMzMzMzc1hAMzMzMzMzV0DNzMzMzOxYQAAAAAAAoFhAAAAAAADASEDNzMzMzKxYQJqZmZmZ2VhAmpmZmZk5VEBmZmZmZkZXQDMzMzMzs1ZAMzMzMzNzWEAzMzMzM/NYQM3MzMzM7FVAZmZmZmbGV0CamZmZmdlXQM3MzMzM7FhAAAAAAADgVEBmZmZmZiZBQAAAAAAAQEJAzczMzMzMVEAzMzMzM/NYQM3MzMzMjFhAmpmZmZmZVkAzMzMzMzNVQGZmZmZmZlVAzczMzMwsWECamZmZmVlWQJqZmZmZWUNAZmZmZmZGVkAzMzMzM/NQQM3MzMzMrFZAmpmZmZkZVkAzMzMzM9NTQAAAAAAAYFdAMzMzMzNTV0AAAAAAACBYQAAAAAAAwFhAmpmZmZmZWEAAAAAAAOBTQAAAAAAAoFhAMzMzMzPTVEAAAAAAAIBYQGZmZmZmxlhA\",\"dtype\":\"float64\",\"shape\":[162]}},\"selected\":{\"id\":\"1f264515-c163-432c-a7dc-927e16952d82\",\"type\":\"Selection\"},\"selection_policy\":{\"id\":\"7a4eea51-e6dc-4d4e-bf89-227d2f1c158c\",\"type\":\"UnionRenderers\"}},\"id\":\"a4024ad6-f31c-4d94-a9c9-502f8d975834\",\"type\":\"ColumnDataSource\"},{\"attributes\":{\"source\":{\"id\":\"a4024ad6-f31c-4d94-a9c9-502f8d975834\",\"type\":\"ColumnDataSource\"}},\"id\":\"0f9f03b7-d1ee-4759-8364-db26b2adb6d0\",\"type\":\"CDSView\"},{\"attributes\":{\"fill_color\":{\"value\":\"#1f77b4\"},\"line_color\":{\"value\":\"#1f77b4\"},\"x\":{\"field\":\"x\"},\"y\":{\"field\":\"y\"}},\"id\":\"4870dcf5-b6d3-485e-a889-c33d044f35be\",\"type\":\"Circle\"},{\"attributes\":{},\"id\":\"7a4eea51-e6dc-4d4e-bf89-227d2f1c158c\",\"type\":\"UnionRenderers\"},{\"attributes\":{\"data_source\":{\"id\":\"a4024ad6-f31c-4d94-a9c9-502f8d975834\",\"type\":\"ColumnDataSource\"},\"glyph\":{\"id\":\"4870dcf5-b6d3-485e-a889-c33d044f35be\",\"type\":\"Circle\"},\"hover_glyph\":null,\"muted_glyph\":null,\"nonselection_glyph\":{\"id\":\"e180d817-9634-434b-8b0f-3ce5e19a8f13\",\"type\":\"Circle\"},\"selection_glyph\":null,\"view\":{\"id\":\"0f9f03b7-d1ee-4759-8364-db26b2adb6d0\",\"type\":\"CDSView\"}},\"id\":\"13c109f2-6137-4c99-8cfd-aa26e207d053\",\"type\":\"GlyphRenderer\"},{\"attributes\":{\"callback\":null},\"id\":\"2cdaaba6-ba65-49af-81eb-395d3efba3a3\",\"type\":\"DataRange1d\"},{\"attributes\":{\"fill_alpha\":{\"value\":0.1},\"fill_color\":{\"value\":\"#1f77b4\"},\"line_alpha\":{\"value\":0.1},\"line_color\":{\"value\":\"#1f77b4\"},\"x\":{\"field\":\"x\"},\"y\":{\"field\":\"y\"}},\"id\":\"e180d817-9634-434b-8b0f-3ce5e19a8f13\",\"type\":\"Circle\"},{\"attributes\":{\"indices\":[],\"line_indices\":[]},\"id\":\"1f264515-c163-432c-a7dc-927e16952d82\",\"type\":\"Selection\"},{\"attributes\":{},\"id\":\"ece0a9cf-212f-4ed4-a028-0138138fdced\",\"type\":\"WheelZoomTool\"},{\"attributes\":{\"below\":[{\"id\":\"97a07422-f0b6-4717-985c-f24c4479dd66\",\"type\":\"LinearAxis\"}],\"left\":[{\"id\":\"c34782d7-493d-4448-8a5c-7d828fa73dc0\",\"type\":\"LinearAxis\"}],\"renderers\":[{\"id\":\"97a07422-f0b6-4717-985c-f24c4479dd66\",\"type\":\"LinearAxis\"},{\"id\":\"e519ac47-737d-46c0-bf49-7a588e306f4b\",\"type\":\"Grid\"},{\"id\":\"c34782d7-493d-4448-8a5c-7d828fa73dc0\",\"type\":\"LinearAxis\"},{\"id\":\"0cc61049-a38b-42db-b6fc-89d68440f573\",\"type\":\"Grid\"},{\"id\":\"3693afe9-3fde-4a32-b208-5ac97447c505\",\"type\":\"BoxAnnotation\"},{\"id\":\"13c109f2-6137-4c99-8cfd-aa26e207d053\",\"type\":\"GlyphRenderer\"}],\"title\":{\"id\":\"6db07593-f8c4-49c6-a649-5ca4ff9f5de5\",\"type\":\"Title\"},\"toolbar\":{\"id\":\"5c4187f3-0894-4531-b0cb-b51e3551f9d0\",\"type\":\"Toolbar\"},\"x_range\":{\"id\":\"2cdaaba6-ba65-49af-81eb-395d3efba3a3\",\"type\":\"DataRange1d\"},\"x_scale\":{\"id\":\"2f4a8614-4085-40e9-af26-c2ff2d04b26a\",\"type\":\"LinearScale\"},\"y_range\":{\"id\":\"a11d95ef-a434-490d-a597-b118e5d9e488\",\"type\":\"DataRange1d\"},\"y_scale\":{\"id\":\"3dd58c92-a9a5-45dc-ab65-80e4319c509c\",\"type\":\"LinearScale\"}},\"id\":\"37b7ea8b-2f6a-4b9f-87ea-f7ac6ac22199\",\"subtype\":\"Figure\",\"type\":\"Plot\"},{\"attributes\":{\"overlay\":{\"id\":\"3693afe9-3fde-4a32-b208-5ac97447c505\",\"type\":\"BoxAnnotation\"}},\"id\":\"c0a22880-45e9-4bd1-aea3-a2fb4dd532c2\",\"type\":\"BoxZoomTool\"},{\"attributes\":{},\"id\":\"94d376f3-17ff-499e-b91c-5ba99b842ba9\",\"type\":\"SaveTool\"},{\"attributes\":{},\"id\":\"cf0e3f83-7b4c-4d1b-af0d-ef899036a5e0\",\"type\":\"ResetTool\"},{\"attributes\":{},\"id\":\"3dd58c92-a9a5-45dc-ab65-80e4319c509c\",\"type\":\"LinearScale\"},{\"attributes\":{},\"id\":\"552d79a6-b6ce-4db8-b75a-a5f9ede6b675\",\"type\":\"HelpTool\"},{\"attributes\":{\"bottom_units\":\"screen\",\"fill_alpha\":{\"value\":0.5},\"fill_color\":{\"value\":\"lightgrey\"},\"left_units\":\"screen\",\"level\":\"overlay\",\"line_alpha\":{\"value\":1.0},\"line_color\":{\"value\":\"black\"},\"line_dash\":[4,4],\"line_width\":{\"value\":2},\"plot\":null,\"render_mode\":\"css\",\"right_units\":\"screen\",\"top_units\":\"screen\"},\"id\":\"3693afe9-3fde-4a32-b208-5ac97447c505\",\"type\":\"BoxAnnotation\"},{\"attributes\":{\"active_drag\":\"auto\",\"active_inspect\":\"auto\",\"active_scroll\":\"auto\",\"active_tap\":\"auto\",\"tools\":[{\"id\":\"85790cc1-739a-4844-bd30-14ff9625651c\",\"type\":\"PanTool\"},{\"id\":\"ece0a9cf-212f-4ed4-a028-0138138fdced\",\"type\":\"WheelZoomTool\"},{\"id\":\"c0a22880-45e9-4bd1-aea3-a2fb4dd532c2\",\"type\":\"BoxZoomTool\"},{\"id\":\"94d376f3-17ff-499e-b91c-5ba99b842ba9\",\"type\":\"SaveTool\"},{\"id\":\"cf0e3f83-7b4c-4d1b-af0d-ef899036a5e0\",\"type\":\"ResetTool\"},{\"id\":\"552d79a6-b6ce-4db8-b75a-a5f9ede6b675\",\"type\":\"HelpTool\"}]},\"id\":\"5c4187f3-0894-4531-b0cb-b51e3551f9d0\",\"type\":\"Toolbar\"},{\"attributes\":{\"plot\":null,\"text\":\"\"},\"id\":\"6db07593-f8c4-49c6-a649-5ca4ff9f5de5\",\"type\":\"Title\"},{\"attributes\":{},\"id\":\"85790cc1-739a-4844-bd30-14ff9625651c\",\"type\":\"PanTool\"},{\"attributes\":{\"callback\":null},\"id\":\"a11d95ef-a434-490d-a597-b118e5d9e488\",\"type\":\"DataRange1d\"},{\"attributes\":{\"axis_label\":\"Tasa de natalidad (ni\\u00f1os por mujer)\",\"formatter\":{\"id\":\"fe99c360-329f-40c0-8e91-b339b8e5e5f0\",\"type\":\"BasicTickFormatter\"},\"plot\":{\"id\":\"37b7ea8b-2f6a-4b9f-87ea-f7ac6ac22199\",\"subtype\":\"Figure\",\"type\":\"Plot\"},\"ticker\":{\"id\":\"3efa66a6-c098-4bda-97dc-3896fe6f7bf3\",\"type\":\"BasicTicker\"}},\"id\":\"97a07422-f0b6-4717-985c-f24c4479dd66\",\"type\":\"LinearAxis\"},{\"attributes\":{\"plot\":{\"id\":\"37b7ea8b-2f6a-4b9f-87ea-f7ac6ac22199\",\"subtype\":\"Figure\",\"type\":\"Plot\"},\"ticker\":{\"id\":\"3efa66a6-c098-4bda-97dc-3896fe6f7bf3\",\"type\":\"BasicTicker\"}},\"id\":\"e519ac47-737d-46c0-bf49-7a588e306f4b\",\"type\":\"Grid\"},{\"attributes\":{},\"id\":\"3efa66a6-c098-4bda-97dc-3896fe6f7bf3\",\"type\":\"BasicTicker\"},{\"attributes\":{},\"id\":\"fe99c360-329f-40c0-8e91-b339b8e5e5f0\",\"type\":\"BasicTickFormatter\"},{\"attributes\":{\"axis_label\":\"Alfabetizaci\\u00f3n femenina (% de la poblaci\\u00f3n)\",\"formatter\":{\"id\":\"0fdb2d18-40f8-49f0-97de-199ef1c2a3b2\",\"type\":\"BasicTickFormatter\"},\"plot\":{\"id\":\"37b7ea8b-2f6a-4b9f-87ea-f7ac6ac22199\",\"subtype\":\"Figure\",\"type\":\"Plot\"},\"ticker\":{\"id\":\"4bf643e3-66ea-4e15-add8-368c9499de28\",\"type\":\"BasicTicker\"}},\"id\":\"c34782d7-493d-4448-8a5c-7d828fa73dc0\",\"type\":\"LinearAxis\"}],\"root_ids\":[\"37b7ea8b-2f6a-4b9f-87ea-f7ac6ac22199\"]},\"title\":\"Bokeh Application\",\"version\":\"0.12.16\"}};\n",
       "  var render_items = [{\"docid\":\"ed1ac27c-dbc4-40c9-a2ab-62fe59d4c4bb\",\"elementid\":\"0cbacd3c-e124-4755-b610-fe92d73b8b9c\",\"modelid\":\"37b7ea8b-2f6a-4b9f-87ea-f7ac6ac22199\"}];\n",
       "  root.Bokeh.embed.embed_items_notebook(docs_json, render_items);\n",
       "\n",
       "  }\n",
       "  if (root.Bokeh !== undefined) {\n",
       "    embed_document(root);\n",
       "  } else {\n",
       "    var attempts = 0;\n",
       "    var timer = setInterval(function(root) {\n",
       "      if (root.Bokeh !== undefined) {\n",
       "        embed_document(root);\n",
       "        clearInterval(timer);\n",
       "      }\n",
       "      attempts++;\n",
       "      if (attempts > 100) {\n",
       "        console.log(\"Bokeh: ERROR: Unable to run BokehJS code because BokehJS library is missing\")\n",
       "        clearInterval(timer);\n",
       "      }\n",
       "    }, 10, root)\n",
       "  }\n",
       "})(window);"
      ],
      "application/vnd.bokehjs_exec.v0+json": ""
     },
     "metadata": {
      "application/vnd.bokehjs_exec.v0+json": {
       "id": "37b7ea8b-2f6a-4b9f-87ea-f7ac6ac22199"
      }
     },
     "output_type": "display_data"
    }
   ],
   "source": [
    "show(p) #imprimir en el notebook"
   ]
  },
  {
   "cell_type": "code",
   "execution_count": 205,
   "metadata": {},
   "outputs": [
    {
     "data": {
      "text/html": [
       "\n",
       "<div class=\"bk-root\">\n",
       "    <div class=\"bk-plotdiv\" id=\"43ef99a4-a5f0-4af1-9597-50783f4e7d72\"></div>\n",
       "</div>"
      ]
     },
     "metadata": {},
     "output_type": "display_data"
    },
    {
     "data": {
      "application/javascript": [
       "(function(root) {\n",
       "  function embed_document(root) {\n",
       "    \n",
       "  var docs_json = {\"26375e85-590f-4870-b494-227f71c300df\":{\"roots\":{\"references\":[{\"attributes\":{},\"id\":\"4bf643e3-66ea-4e15-add8-368c9499de28\",\"type\":\"BasicTicker\"},{\"attributes\":{\"dimension\":1,\"plot\":{\"id\":\"37b7ea8b-2f6a-4b9f-87ea-f7ac6ac22199\",\"subtype\":\"Figure\",\"type\":\"Plot\"},\"ticker\":{\"id\":\"4bf643e3-66ea-4e15-add8-368c9499de28\",\"type\":\"BasicTicker\"}},\"id\":\"0cc61049-a38b-42db-b6fc-89d68440f573\",\"type\":\"Grid\"},{\"attributes\":{\"callback\":null,\"data\":{\"x\":{\"__ndarray__\":\"6Pup8dJN/D/b+X5qvHQFQARWDi2ynQBAdJMYBFYOAUAIrBxaZDv9P2Dl0CLb+Q5A6Pup8dJNAkD91HjpJrEUQH0/NV66SfY//tR46SYx9D9zaJHtfD8BQGmR7Xw/NQhA3SQGgZVDAEDJdr6fGi/1P7tJDAIrhwZA8tJNYhDYFEDNzMzMzMwAQOXQItv5fvw/8/3UeOkm/T9uEoPAyqEXQH9qvHSTGP4/bhKDwMqh/T89CtejcD32P3Noke18PwJACtejcD0KBEAv3SQGgZXzPy2yne+nxvU/sXJoke189z8IrBxaZDsDQBSuR+F6FBZACKwcWmQ7EEBjEFg5tMgBQFYOLbKdbxNAE4PAyqFF9D8j2/l+arwCQN0kBoGVQ/k/arx0kxgEGUB56SYxCKwCQOSlm8QgsA9AhetRuB4FGkA9CtejcD0EQC/dJAaBlQZAlkOLbOf7A0CWQ4ts5/sBQKrx0k1iEARAUrgehetRCEBEi2zn+6n9P+F6FK5H4RBAZmZmZmZmFECR7Xw/Nd4TQDMzMzMzM/U/dJMYBFYOEkD8qfHSTWIJQBFYObTIdgJAexSuR+F6EkBEi2zn+ykSQEA1XrpJjBZAN4lBYOXQ/j/AyqFFtvP7PycxCKwcWgJAd76fGi9dF0BSuB6F69EVQC2yne+nRhxArBxaZDvfBkDfT42XbhIQQLTIdr6fGgRAH4XrUbieFUCmm8QgsPIWQIGVQ4ts5wpAj8L1KFyPE0ApXI/C9Sj2PxSuR+F6FPg/bef7qfFSGEAlBoGVQ4v8P0A1XrpJDPY/MzMzMzMz9z/b+X5qvHT9P+xRuB6F6/U/TDeJQWDlBEA3iUFg5VAVQFK4HoXrURVALIcW2c73CkDl0CLb+X70P1YOLbKd7/0/001iEFg5AUBPjZduEoMVQM3MzMzMzBFAXI/C9Shc9z9g5dAi2/n2P5duEoPAyvk/hetRuB6FCUBqvHSTGAQGQM3MzMzMzApACtejcD0KEEBEi2zn+6kQQIlBYOXQIgVAN4lBYOXQB0BSuB6F61ELQFyPwvUoXAJA8/3UeOkmCEARWDm0yHYFQClcj8L1qBRAL90kBoGV/T/GSzeJQWD9P7+fGi/dJARAcT0K16NwA0DqJjEIrBwSQGiR7Xw/NfQ/KVyPwvUo/j9KDAIrhxb/P/yp8dJNYv4/30+Nl24S9z9zaJHtfD//P30/NV66yRJAHFpkO99P+T8zMzMzMzMAQNv5fmq8dP0/JQaBlUMLFEAxCKwcWmTzP9R46SYxCPg/VOOlm8QgBECsHFpkO9/1P4PAyqFFtgBAWmQ730+NEUBEi2zn+6n9PyyHFtnO9/s/bef7qfHSB0Cd76fGSzcBQEw3iUFg5QJAAyuHFtnO/z83iUFg5dD2P1K4HoXrUQpA6SYxCKwcCkBg5dAi2/n2P30/NV66SfY/+n5qvHSTBkDGSzeJQeATQIlBYOXQohZA7FG4HoXrCUBKDAIrhxb7PyYxCKwcWvo/4XoUrkfhAkB46SYxCKz8P5qZmZmZmQtAqMZLN4lB+D93vp8aL90BQBsv3SQGgQRAbhKDwMohFUAUrkfhehQPQLbz/dR46e4/lkOLbOf7AkDo+6nx0k0FQGq8dJMYBPQ/0SLb+X5qAEAshxbZzvcKQFg5tMh2vgBAAAAAAAAAAECq8dJNYhAPQDeJQWDl0A5AWDm0yHa+DUCDwMqhRbb7PwaBlUOLbA9A\",\"dtype\":\"float64\",\"shape\":[162]},\"y\":{\"__ndarray__\":\"AAAAAACgVkBmZmZmZmZJQAAAAAAAwFhAMzMzMzMzVkDNzMzMzIxWQAAAAAAAAERAZmZmZmbmSEBmZmZmZmZIQJqZmZmZ2VhAAAAAAADAWEAAAAAAAOBWQJqZmZmZeVdAzczMzMyMVkAAAAAAAMBYQGZmZmZm5kxAzczMzMzMNkAzMzMzM1NUQM3MzMzMTFNAAAAAAADgVkDNzMzMzAxMQAAAAAAAwFhAAAAAAADAWEAAAAAAAKBYQM3MzMzMTFZAZmZmZmYGVkBmZmZmZiZYQGZmZmZm5lhAmpmZmZk5WECamZmZmVlXQDMzMzMzk1BAzczMzMzMTUDNzMzMzGxYQDMzMzMzs1RAMzMzMzPTWEAzMzMzM/NPQAAAAAAAwFhAMzMzMzOzUEDNzMzMzAxGQM3MzMzMTFFAMzMzMzMzKUBmZmZmZiZVQDMzMzMzs0ZAmpmZmZm5V0CamZmZmblYQDMzMzMzc1ZAzczMzMwMVEAAAAAAAABZQGZmZmZmpk1AZmZmZmZmRUDNzMzMzAxEQJqZmZmZOVhAZmZmZmYmRkDNzMzMzExTQGZmZmZmRlZAMzMzMzNTUEAzMzMzM/NQQAAAAAAAgExAzczMzMysWEAAAAAAAMBYQAAAAAAA4FhAmpmZmZmZNUAzMzMzM3NQQDMzMzMzMy5AmpmZmZm5UUDNzMzMzCxRQM3MzMzMbFRAMzMzMzMzMkAAAAAAAIBOQDMzMzMzM1ZAAAAAAACAQECamZmZmflXQDMzMzMz81hAZmZmZmbmNUAAAAAAAMBYQJqZmZmZOVdAAAAAAADAWEAAAAAAAMBRQJqZmZmZuVhAMzMzMzMTVkBmZmZmZmY6QGZmZmZmhlBAAAAAAACAVUDNzMzMzOxYQAAAAAAAwFhAzczMzMzMWECamZmZmRk8QDMzMzMz801AAAAAAADAWECamZmZmXlYQM3MzMzMDFhAAAAAAADgVECamZmZmflXQAAAAAAA4FhAzczMzMzMS0CamZmZmdlKQDMzMzMzU1RAAAAAAABgV0CamZmZmZlPQJqZmZmZWVRAmpmZmZk5VkCamZmZmXlTQGZmZmZm5jxAAAAAAADAWEAAAAAAAABZQGZmZmZmxlhAMzMzMzPTWEAAAAAAAEBLQGZmZmZm5lZAAAAAAAAAWUDNzMzMzAxYQAAAAAAA4FZAAAAAAACAWEAAAAAAAMBYQM3MzMzMjERAzczMzMzsWEAAAAAAAMBYQAAAAAAAgFVAAAAAAACASkCamZmZmflXQDMzMzMzc1hAMzMzMzMzV0DNzMzMzOxYQAAAAAAAoFhAAAAAAADASEDNzMzMzKxYQJqZmZmZ2VhAmpmZmZk5VEBmZmZmZkZXQDMzMzMzs1ZAMzMzMzNzWEAzMzMzM/NYQM3MzMzM7FVAZmZmZmbGV0CamZmZmdlXQM3MzMzM7FhAAAAAAADgVEBmZmZmZiZBQAAAAAAAQEJAzczMzMzMVEAzMzMzM/NYQM3MzMzMjFhAmpmZmZmZVkAzMzMzMzNVQGZmZmZmZlVAzczMzMwsWECamZmZmVlWQJqZmZmZWUNAZmZmZmZGVkAzMzMzM/NQQM3MzMzMrFZAmpmZmZkZVkAzMzMzM9NTQAAAAAAAYFdAMzMzMzNTV0AAAAAAACBYQAAAAAAAwFhAmpmZmZmZWEAAAAAAAOBTQAAAAAAAoFhAMzMzMzPTVEAAAAAAAIBYQGZmZmZmxlhA\",\"dtype\":\"float64\",\"shape\":[162]}},\"selected\":{\"id\":\"1f264515-c163-432c-a7dc-927e16952d82\",\"type\":\"Selection\"},\"selection_policy\":{\"id\":\"7a4eea51-e6dc-4d4e-bf89-227d2f1c158c\",\"type\":\"UnionRenderers\"}},\"id\":\"a4024ad6-f31c-4d94-a9c9-502f8d975834\",\"type\":\"ColumnDataSource\"},{\"attributes\":{\"source\":{\"id\":\"a4024ad6-f31c-4d94-a9c9-502f8d975834\",\"type\":\"ColumnDataSource\"}},\"id\":\"0f9f03b7-d1ee-4759-8364-db26b2adb6d0\",\"type\":\"CDSView\"},{\"attributes\":{\"data_source\":{\"id\":\"a4024ad6-f31c-4d94-a9c9-502f8d975834\",\"type\":\"ColumnDataSource\"},\"glyph\":{\"id\":\"4870dcf5-b6d3-485e-a889-c33d044f35be\",\"type\":\"Circle\"},\"hover_glyph\":null,\"muted_glyph\":null,\"nonselection_glyph\":{\"id\":\"e180d817-9634-434b-8b0f-3ce5e19a8f13\",\"type\":\"Circle\"},\"selection_glyph\":null,\"view\":{\"id\":\"0f9f03b7-d1ee-4759-8364-db26b2adb6d0\",\"type\":\"CDSView\"}},\"id\":\"13c109f2-6137-4c99-8cfd-aa26e207d053\",\"type\":\"GlyphRenderer\"},{\"attributes\":{\"fill_alpha\":{\"value\":0.1},\"fill_color\":{\"value\":\"#1f77b4\"},\"line_alpha\":{\"value\":0.1},\"line_color\":{\"value\":\"#1f77b4\"},\"x\":{\"field\":\"x\"},\"y\":{\"field\":\"y\"}},\"id\":\"e180d817-9634-434b-8b0f-3ce5e19a8f13\",\"type\":\"Circle\"},{\"attributes\":{},\"id\":\"ece0a9cf-212f-4ed4-a028-0138138fdced\",\"type\":\"WheelZoomTool\"},{\"attributes\":{\"callback\":null,\"data\":{\"x\":{\"__ndarray__\":\"6Pup8dJN/D/b+X5qvHQFQARWDi2ynQBAdJMYBFYOAUAIrBxaZDv9P2Dl0CLb+Q5A6Pup8dJNAkD91HjpJrEUQH0/NV66SfY//tR46SYx9D9zaJHtfD8BQGmR7Xw/NQhA3SQGgZVDAEDJdr6fGi/1P7tJDAIrhwZA8tJNYhDYFEDNzMzMzMwAQOXQItv5fvw/8/3UeOkm/T9uEoPAyqEXQH9qvHSTGP4/bhKDwMqh/T89CtejcD32P3Noke18PwJACtejcD0KBEAv3SQGgZXzPy2yne+nxvU/sXJoke189z8IrBxaZDsDQBSuR+F6FBZACKwcWmQ7EEBjEFg5tMgBQFYOLbKdbxNAE4PAyqFF9D8j2/l+arwCQN0kBoGVQ/k/arx0kxgEGUB56SYxCKwCQOSlm8QgsA9AhetRuB4FGkA9CtejcD0EQC/dJAaBlQZAlkOLbOf7A0CWQ4ts5/sBQKrx0k1iEARAUrgehetRCEBEi2zn+6n9P+F6FK5H4RBAZmZmZmZmFECR7Xw/Nd4TQDMzMzMzM/U/dJMYBFYOEkD8qfHSTWIJQBFYObTIdgJAexSuR+F6EkBEi2zn+ykSQEA1XrpJjBZAN4lBYOXQ/j/AyqFFtvP7PycxCKwcWgJAd76fGi9dF0BSuB6F69EVQC2yne+nRhxArBxaZDvfBkDfT42XbhIQQLTIdr6fGgRAH4XrUbieFUCmm8QgsPIWQIGVQ4ts5wpAj8L1KFyPE0ApXI/C9Sj2PxSuR+F6FPg/bef7qfFSGEAlBoGVQ4v8P0A1XrpJDPY/MzMzMzMz9z/b+X5qvHT9P+xRuB6F6/U/TDeJQWDlBEA3iUFg5VAVQFK4HoXrURVALIcW2c73CkDl0CLb+X70P1YOLbKd7/0/001iEFg5AUBPjZduEoMVQM3MzMzMzBFAXI/C9Shc9z9g5dAi2/n2P5duEoPAyvk/hetRuB6FCUBqvHSTGAQGQM3MzMzMzApACtejcD0KEEBEi2zn+6kQQIlBYOXQIgVAN4lBYOXQB0BSuB6F61ELQFyPwvUoXAJA8/3UeOkmCEARWDm0yHYFQClcj8L1qBRAL90kBoGV/T/GSzeJQWD9P7+fGi/dJARAcT0K16NwA0DqJjEIrBwSQGiR7Xw/NfQ/KVyPwvUo/j9KDAIrhxb/P/yp8dJNYv4/30+Nl24S9z9zaJHtfD//P30/NV66yRJAHFpkO99P+T8zMzMzMzMAQNv5fmq8dP0/JQaBlUMLFEAxCKwcWmTzP9R46SYxCPg/VOOlm8QgBECsHFpkO9/1P4PAyqFFtgBAWmQ730+NEUBEi2zn+6n9PyyHFtnO9/s/bef7qfHSB0Cd76fGSzcBQEw3iUFg5QJAAyuHFtnO/z83iUFg5dD2P1K4HoXrUQpA6SYxCKwcCkBg5dAi2/n2P30/NV66SfY/+n5qvHSTBkDGSzeJQeATQIlBYOXQohZA7FG4HoXrCUBKDAIrhxb7PyYxCKwcWvo/4XoUrkfhAkB46SYxCKz8P5qZmZmZmQtAqMZLN4lB+D93vp8aL90BQBsv3SQGgQRAbhKDwMohFUAUrkfhehQPQLbz/dR46e4/lkOLbOf7AkDo+6nx0k0FQGq8dJMYBPQ/0SLb+X5qAEAshxbZzvcKQFg5tMh2vgBAAAAAAAAAAECq8dJNYhAPQDeJQWDl0A5AWDm0yHa+DUCDwMqhRbb7PwaBlUOLbA9A\",\"dtype\":\"float64\",\"shape\":[162]},\"y\":{\"__ndarray__\":\"AAAAAACgVkBmZmZmZmZJQAAAAAAAwFhAMzMzMzMzVkDNzMzMzIxWQAAAAAAAAERAZmZmZmbmSEBmZmZmZmZIQJqZmZmZ2VhAAAAAAADAWEAAAAAAAOBWQJqZmZmZeVdAzczMzMyMVkAAAAAAAMBYQGZmZmZm5kxAzczMzMzMNkAzMzMzM1NUQM3MzMzMTFNAAAAAAADgVkDNzMzMzAxMQAAAAAAAwFhAAAAAAADAWEAAAAAAAKBYQM3MzMzMTFZAZmZmZmYGVkBmZmZmZiZYQGZmZmZm5lhAmpmZmZk5WECamZmZmVlXQDMzMzMzk1BAzczMzMzMTUDNzMzMzGxYQDMzMzMzs1RAMzMzMzPTWEAzMzMzM/NPQAAAAAAAwFhAMzMzMzOzUEDNzMzMzAxGQM3MzMzMTFFAMzMzMzMzKUBmZmZmZiZVQDMzMzMzs0ZAmpmZmZm5V0CamZmZmblYQDMzMzMzc1ZAzczMzMwMVEAAAAAAAABZQGZmZmZmpk1AZmZmZmZmRUDNzMzMzAxEQJqZmZmZOVhAZmZmZmYmRkDNzMzMzExTQGZmZmZmRlZAMzMzMzNTUEAzMzMzM/NQQAAAAAAAgExAzczMzMysWEAAAAAAAMBYQAAAAAAA4FhAmpmZmZmZNUAzMzMzM3NQQDMzMzMzMy5AmpmZmZm5UUDNzMzMzCxRQM3MzMzMbFRAMzMzMzMzMkAAAAAAAIBOQDMzMzMzM1ZAAAAAAACAQECamZmZmflXQDMzMzMz81hAZmZmZmbmNUAAAAAAAMBYQJqZmZmZOVdAAAAAAADAWEAAAAAAAMBRQJqZmZmZuVhAMzMzMzMTVkBmZmZmZmY6QGZmZmZmhlBAAAAAAACAVUDNzMzMzOxYQAAAAAAAwFhAzczMzMzMWECamZmZmRk8QDMzMzMz801AAAAAAADAWECamZmZmXlYQM3MzMzMDFhAAAAAAADgVECamZmZmflXQAAAAAAA4FhAzczMzMzMS0CamZmZmdlKQDMzMzMzU1RAAAAAAABgV0CamZmZmZlPQJqZmZmZWVRAmpmZmZk5VkCamZmZmXlTQGZmZmZm5jxAAAAAAADAWEAAAAAAAABZQGZmZmZmxlhAMzMzMzPTWEAAAAAAAEBLQGZmZmZm5lZAAAAAAAAAWUDNzMzMzAxYQAAAAAAA4FZAAAAAAACAWEAAAAAAAMBYQM3MzMzMjERAzczMzMzsWEAAAAAAAMBYQAAAAAAAgFVAAAAAAACASkCamZmZmflXQDMzMzMzc1hAMzMzMzMzV0DNzMzMzOxYQAAAAAAAoFhAAAAAAADASEDNzMzMzKxYQJqZmZmZ2VhAmpmZmZk5VEBmZmZmZkZXQDMzMzMzs1ZAMzMzMzNzWEAzMzMzM/NYQM3MzMzM7FVAZmZmZmbGV0CamZmZmdlXQM3MzMzM7FhAAAAAAADgVEBmZmZmZiZBQAAAAAAAQEJAzczMzMzMVEAzMzMzM/NYQM3MzMzMjFhAmpmZmZmZVkAzMzMzMzNVQGZmZmZmZlVAzczMzMwsWECamZmZmVlWQJqZmZmZWUNAZmZmZmZGVkAzMzMzM/NQQM3MzMzMrFZAmpmZmZkZVkAzMzMzM9NTQAAAAAAAYFdAMzMzMzNTV0AAAAAAACBYQAAAAAAAwFhAmpmZmZmZWEAAAAAAAOBTQAAAAAAAoFhAMzMzMzPTVEAAAAAAAIBYQGZmZmZmxlhA\",\"dtype\":\"float64\",\"shape\":[162]}},\"selected\":{\"id\":\"f746d91a-4666-427f-a281-294e816a6a42\",\"type\":\"Selection\"},\"selection_policy\":{\"id\":\"dbbb94e6-3fee-4f5a-a3c2-ed6c5e00198a\",\"type\":\"UnionRenderers\"}},\"id\":\"f812e1a4-6383-4e45-ba73-9585bd826d91\",\"type\":\"ColumnDataSource\"},{\"attributes\":{\"overlay\":{\"id\":\"3693afe9-3fde-4a32-b208-5ac97447c505\",\"type\":\"BoxAnnotation\"}},\"id\":\"c0a22880-45e9-4bd1-aea3-a2fb4dd532c2\",\"type\":\"BoxZoomTool\"},{\"attributes\":{},\"id\":\"94d376f3-17ff-499e-b91c-5ba99b842ba9\",\"type\":\"SaveTool\"},{\"attributes\":{},\"id\":\"cf0e3f83-7b4c-4d1b-af0d-ef899036a5e0\",\"type\":\"ResetTool\"},{\"attributes\":{},\"id\":\"3dd58c92-a9a5-45dc-ab65-80e4319c509c\",\"type\":\"LinearScale\"},{\"attributes\":{},\"id\":\"552d79a6-b6ce-4db8-b75a-a5f9ede6b675\",\"type\":\"HelpTool\"},{\"attributes\":{\"active_drag\":\"auto\",\"active_inspect\":\"auto\",\"active_scroll\":\"auto\",\"active_tap\":\"auto\",\"tools\":[{\"id\":\"85790cc1-739a-4844-bd30-14ff9625651c\",\"type\":\"PanTool\"},{\"id\":\"ece0a9cf-212f-4ed4-a028-0138138fdced\",\"type\":\"WheelZoomTool\"},{\"id\":\"c0a22880-45e9-4bd1-aea3-a2fb4dd532c2\",\"type\":\"BoxZoomTool\"},{\"id\":\"94d376f3-17ff-499e-b91c-5ba99b842ba9\",\"type\":\"SaveTool\"},{\"id\":\"cf0e3f83-7b4c-4d1b-af0d-ef899036a5e0\",\"type\":\"ResetTool\"},{\"id\":\"552d79a6-b6ce-4db8-b75a-a5f9ede6b675\",\"type\":\"HelpTool\"}]},\"id\":\"5c4187f3-0894-4531-b0cb-b51e3551f9d0\",\"type\":\"Toolbar\"},{\"attributes\":{\"callback\":null},\"id\":\"a11d95ef-a434-490d-a597-b118e5d9e488\",\"type\":\"DataRange1d\"},{\"attributes\":{\"plot\":{\"id\":\"37b7ea8b-2f6a-4b9f-87ea-f7ac6ac22199\",\"subtype\":\"Figure\",\"type\":\"Plot\"},\"ticker\":{\"id\":\"3efa66a6-c098-4bda-97dc-3896fe6f7bf3\",\"type\":\"BasicTicker\"}},\"id\":\"e519ac47-737d-46c0-bf49-7a588e306f4b\",\"type\":\"Grid\"},{\"attributes\":{},\"id\":\"0fdb2d18-40f8-49f0-97de-199ef1c2a3b2\",\"type\":\"BasicTickFormatter\"},{\"attributes\":{\"fill_alpha\":{\"value\":0.1},\"fill_color\":{\"value\":\"#1f77b4\"},\"line_alpha\":{\"value\":0.1},\"line_color\":{\"value\":\"#1f77b4\"},\"x\":{\"field\":\"x\"},\"y\":{\"field\":\"y\"}},\"id\":\"7cbf12cd-8de9-4319-b3c8-aac124da4cce\",\"type\":\"Circle\"},{\"attributes\":{},\"id\":\"2f4a8614-4085-40e9-af26-c2ff2d04b26a\",\"type\":\"LinearScale\"},{\"attributes\":{},\"id\":\"f746d91a-4666-427f-a281-294e816a6a42\",\"type\":\"Selection\"},{\"attributes\":{\"fill_color\":{\"value\":\"#1f77b4\"},\"line_color\":{\"value\":\"#1f77b4\"},\"x\":{\"field\":\"x\"},\"y\":{\"field\":\"y\"}},\"id\":\"4870dcf5-b6d3-485e-a889-c33d044f35be\",\"type\":\"Circle\"},{\"attributes\":{},\"id\":\"7a4eea51-e6dc-4d4e-bf89-227d2f1c158c\",\"type\":\"UnionRenderers\"},{\"attributes\":{\"callback\":null},\"id\":\"2cdaaba6-ba65-49af-81eb-395d3efba3a3\",\"type\":\"DataRange1d\"},{\"attributes\":{\"indices\":[],\"line_indices\":[]},\"id\":\"1f264515-c163-432c-a7dc-927e16952d82\",\"type\":\"Selection\"},{\"attributes\":{\"below\":[{\"id\":\"97a07422-f0b6-4717-985c-f24c4479dd66\",\"type\":\"LinearAxis\"}],\"left\":[{\"id\":\"c34782d7-493d-4448-8a5c-7d828fa73dc0\",\"type\":\"LinearAxis\"}],\"renderers\":[{\"id\":\"97a07422-f0b6-4717-985c-f24c4479dd66\",\"type\":\"LinearAxis\"},{\"id\":\"e519ac47-737d-46c0-bf49-7a588e306f4b\",\"type\":\"Grid\"},{\"id\":\"c34782d7-493d-4448-8a5c-7d828fa73dc0\",\"type\":\"LinearAxis\"},{\"id\":\"0cc61049-a38b-42db-b6fc-89d68440f573\",\"type\":\"Grid\"},{\"id\":\"3693afe9-3fde-4a32-b208-5ac97447c505\",\"type\":\"BoxAnnotation\"},{\"id\":\"13c109f2-6137-4c99-8cfd-aa26e207d053\",\"type\":\"GlyphRenderer\"},{\"id\":\"c880509a-f67d-4153-9c51-02c0ec5406d5\",\"type\":\"GlyphRenderer\"}],\"title\":{\"id\":\"6db07593-f8c4-49c6-a649-5ca4ff9f5de5\",\"type\":\"Title\"},\"toolbar\":{\"id\":\"5c4187f3-0894-4531-b0cb-b51e3551f9d0\",\"type\":\"Toolbar\"},\"x_range\":{\"id\":\"2cdaaba6-ba65-49af-81eb-395d3efba3a3\",\"type\":\"DataRange1d\"},\"x_scale\":{\"id\":\"2f4a8614-4085-40e9-af26-c2ff2d04b26a\",\"type\":\"LinearScale\"},\"y_range\":{\"id\":\"a11d95ef-a434-490d-a597-b118e5d9e488\",\"type\":\"DataRange1d\"},\"y_scale\":{\"id\":\"3dd58c92-a9a5-45dc-ab65-80e4319c509c\",\"type\":\"LinearScale\"}},\"id\":\"37b7ea8b-2f6a-4b9f-87ea-f7ac6ac22199\",\"subtype\":\"Figure\",\"type\":\"Plot\"},{\"attributes\":{\"source\":{\"id\":\"f812e1a4-6383-4e45-ba73-9585bd826d91\",\"type\":\"ColumnDataSource\"}},\"id\":\"7bf66667-a9d9-4ecc-a1f4-269881b23048\",\"type\":\"CDSView\"},{\"attributes\":{\"data_source\":{\"id\":\"f812e1a4-6383-4e45-ba73-9585bd826d91\",\"type\":\"ColumnDataSource\"},\"glyph\":{\"id\":\"415c75ce-6956-413c-b262-3f598cf43cb5\",\"type\":\"Circle\"},\"hover_glyph\":null,\"muted_glyph\":null,\"nonselection_glyph\":{\"id\":\"7cbf12cd-8de9-4319-b3c8-aac124da4cce\",\"type\":\"Circle\"},\"selection_glyph\":null,\"view\":{\"id\":\"7bf66667-a9d9-4ecc-a1f4-269881b23048\",\"type\":\"CDSView\"}},\"id\":\"c880509a-f67d-4153-9c51-02c0ec5406d5\",\"type\":\"GlyphRenderer\"},{\"attributes\":{\"fill_color\":{\"value\":\"Red\"},\"line_color\":{\"value\":\"Red\"},\"x\":{\"field\":\"x\"},\"y\":{\"field\":\"y\"}},\"id\":\"415c75ce-6956-413c-b262-3f598cf43cb5\",\"type\":\"Circle\"},{\"attributes\":{\"bottom_units\":\"screen\",\"fill_alpha\":{\"value\":0.5},\"fill_color\":{\"value\":\"lightgrey\"},\"left_units\":\"screen\",\"level\":\"overlay\",\"line_alpha\":{\"value\":1.0},\"line_color\":{\"value\":\"black\"},\"line_dash\":[4,4],\"line_width\":{\"value\":2},\"plot\":null,\"render_mode\":\"css\",\"right_units\":\"screen\",\"top_units\":\"screen\"},\"id\":\"3693afe9-3fde-4a32-b208-5ac97447c505\",\"type\":\"BoxAnnotation\"},{\"attributes\":{\"plot\":null,\"text\":\"\"},\"id\":\"6db07593-f8c4-49c6-a649-5ca4ff9f5de5\",\"type\":\"Title\"},{\"attributes\":{},\"id\":\"85790cc1-739a-4844-bd30-14ff9625651c\",\"type\":\"PanTool\"},{\"attributes\":{\"axis_label\":\"Tasa de natalidad (ni\\u00f1os por mujer)\",\"formatter\":{\"id\":\"fe99c360-329f-40c0-8e91-b339b8e5e5f0\",\"type\":\"BasicTickFormatter\"},\"plot\":{\"id\":\"37b7ea8b-2f6a-4b9f-87ea-f7ac6ac22199\",\"subtype\":\"Figure\",\"type\":\"Plot\"},\"ticker\":{\"id\":\"3efa66a6-c098-4bda-97dc-3896fe6f7bf3\",\"type\":\"BasicTicker\"}},\"id\":\"97a07422-f0b6-4717-985c-f24c4479dd66\",\"type\":\"LinearAxis\"},{\"attributes\":{},\"id\":\"dbbb94e6-3fee-4f5a-a3c2-ed6c5e00198a\",\"type\":\"UnionRenderers\"},{\"attributes\":{},\"id\":\"3efa66a6-c098-4bda-97dc-3896fe6f7bf3\",\"type\":\"BasicTicker\"},{\"attributes\":{},\"id\":\"fe99c360-329f-40c0-8e91-b339b8e5e5f0\",\"type\":\"BasicTickFormatter\"},{\"attributes\":{\"axis_label\":\"Alfabetizaci\\u00f3n femenina (% de la poblaci\\u00f3n)\",\"formatter\":{\"id\":\"0fdb2d18-40f8-49f0-97de-199ef1c2a3b2\",\"type\":\"BasicTickFormatter\"},\"plot\":{\"id\":\"37b7ea8b-2f6a-4b9f-87ea-f7ac6ac22199\",\"subtype\":\"Figure\",\"type\":\"Plot\"},\"ticker\":{\"id\":\"4bf643e3-66ea-4e15-add8-368c9499de28\",\"type\":\"BasicTicker\"}},\"id\":\"c34782d7-493d-4448-8a5c-7d828fa73dc0\",\"type\":\"LinearAxis\"}],\"root_ids\":[\"37b7ea8b-2f6a-4b9f-87ea-f7ac6ac22199\"]},\"title\":\"Bokeh Application\",\"version\":\"0.12.16\"}};\n",
       "  var render_items = [{\"docid\":\"26375e85-590f-4870-b494-227f71c300df\",\"elementid\":\"43ef99a4-a5f0-4af1-9597-50783f4e7d72\",\"modelid\":\"37b7ea8b-2f6a-4b9f-87ea-f7ac6ac22199\"}];\n",
       "  root.Bokeh.embed.embed_items_notebook(docs_json, render_items);\n",
       "\n",
       "  }\n",
       "  if (root.Bokeh !== undefined) {\n",
       "    embed_document(root);\n",
       "  } else {\n",
       "    var attempts = 0;\n",
       "    var timer = setInterval(function(root) {\n",
       "      if (root.Bokeh !== undefined) {\n",
       "        embed_document(root);\n",
       "        clearInterval(timer);\n",
       "      }\n",
       "      attempts++;\n",
       "      if (attempts > 100) {\n",
       "        console.log(\"Bokeh: ERROR: Unable to run BokehJS code because BokehJS library is missing\")\n",
       "        clearInterval(timer);\n",
       "      }\n",
       "    }, 10, root)\n",
       "  }\n",
       "})(window);"
      ],
      "application/vnd.bokehjs_exec.v0+json": ""
     },
     "metadata": {
      "application/vnd.bokehjs_exec.v0+json": {
       "id": "37b7ea8b-2f6a-4b9f-87ea-f7ac6ac22199"
      }
     },
     "output_type": "display_data"
    }
   ],
   "source": [
    "p.circle(x,y, color = 'Red') #Rojo\n",
    "show(p)"
   ]
  },
  {
   "cell_type": "code",
   "execution_count": 206,
   "metadata": {},
   "outputs": [
    {
     "data": {
      "text/html": [
       "\n",
       "<div class=\"bk-root\">\n",
       "    <div class=\"bk-plotdiv\" id=\"3c5a8bd8-9a8b-4a6e-94ec-a0c07f6c2db9\"></div>\n",
       "</div>"
      ]
     },
     "metadata": {},
     "output_type": "display_data"
    },
    {
     "data": {
      "application/javascript": [
       "(function(root) {\n",
       "  function embed_document(root) {\n",
       "    \n",
       "  var docs_json = {\"bc644c8e-ece1-45b9-a426-2df434cc66ff\":{\"roots\":{\"references\":[{\"attributes\":{},\"id\":\"4bf643e3-66ea-4e15-add8-368c9499de28\",\"type\":\"BasicTicker\"},{\"attributes\":{\"dimension\":1,\"plot\":{\"id\":\"37b7ea8b-2f6a-4b9f-87ea-f7ac6ac22199\",\"subtype\":\"Figure\",\"type\":\"Plot\"},\"ticker\":{\"id\":\"4bf643e3-66ea-4e15-add8-368c9499de28\",\"type\":\"BasicTicker\"}},\"id\":\"0cc61049-a38b-42db-b6fc-89d68440f573\",\"type\":\"Grid\"},{\"attributes\":{\"callback\":null,\"data\":{\"x\":{\"__ndarray__\":\"6Pup8dJN/D/b+X5qvHQFQARWDi2ynQBAdJMYBFYOAUAIrBxaZDv9P2Dl0CLb+Q5A6Pup8dJNAkD91HjpJrEUQH0/NV66SfY//tR46SYx9D9zaJHtfD8BQGmR7Xw/NQhA3SQGgZVDAEDJdr6fGi/1P7tJDAIrhwZA8tJNYhDYFEDNzMzMzMwAQOXQItv5fvw/8/3UeOkm/T9uEoPAyqEXQH9qvHSTGP4/bhKDwMqh/T89CtejcD32P3Noke18PwJACtejcD0KBEAv3SQGgZXzPy2yne+nxvU/sXJoke189z8IrBxaZDsDQBSuR+F6FBZACKwcWmQ7EEBjEFg5tMgBQFYOLbKdbxNAE4PAyqFF9D8j2/l+arwCQN0kBoGVQ/k/arx0kxgEGUB56SYxCKwCQOSlm8QgsA9AhetRuB4FGkA9CtejcD0EQC/dJAaBlQZAlkOLbOf7A0CWQ4ts5/sBQKrx0k1iEARAUrgehetRCEBEi2zn+6n9P+F6FK5H4RBAZmZmZmZmFECR7Xw/Nd4TQDMzMzMzM/U/dJMYBFYOEkD8qfHSTWIJQBFYObTIdgJAexSuR+F6EkBEi2zn+ykSQEA1XrpJjBZAN4lBYOXQ/j/AyqFFtvP7PycxCKwcWgJAd76fGi9dF0BSuB6F69EVQC2yne+nRhxArBxaZDvfBkDfT42XbhIQQLTIdr6fGgRAH4XrUbieFUCmm8QgsPIWQIGVQ4ts5wpAj8L1KFyPE0ApXI/C9Sj2PxSuR+F6FPg/bef7qfFSGEAlBoGVQ4v8P0A1XrpJDPY/MzMzMzMz9z/b+X5qvHT9P+xRuB6F6/U/TDeJQWDlBEA3iUFg5VAVQFK4HoXrURVALIcW2c73CkDl0CLb+X70P1YOLbKd7/0/001iEFg5AUBPjZduEoMVQM3MzMzMzBFAXI/C9Shc9z9g5dAi2/n2P5duEoPAyvk/hetRuB6FCUBqvHSTGAQGQM3MzMzMzApACtejcD0KEEBEi2zn+6kQQIlBYOXQIgVAN4lBYOXQB0BSuB6F61ELQFyPwvUoXAJA8/3UeOkmCEARWDm0yHYFQClcj8L1qBRAL90kBoGV/T/GSzeJQWD9P7+fGi/dJARAcT0K16NwA0DqJjEIrBwSQGiR7Xw/NfQ/KVyPwvUo/j9KDAIrhxb/P/yp8dJNYv4/30+Nl24S9z9zaJHtfD//P30/NV66yRJAHFpkO99P+T8zMzMzMzMAQNv5fmq8dP0/JQaBlUMLFEAxCKwcWmTzP9R46SYxCPg/VOOlm8QgBECsHFpkO9/1P4PAyqFFtgBAWmQ730+NEUBEi2zn+6n9PyyHFtnO9/s/bef7qfHSB0Cd76fGSzcBQEw3iUFg5QJAAyuHFtnO/z83iUFg5dD2P1K4HoXrUQpA6SYxCKwcCkBg5dAi2/n2P30/NV66SfY/+n5qvHSTBkDGSzeJQeATQIlBYOXQohZA7FG4HoXrCUBKDAIrhxb7PyYxCKwcWvo/4XoUrkfhAkB46SYxCKz8P5qZmZmZmQtAqMZLN4lB+D93vp8aL90BQBsv3SQGgQRAbhKDwMohFUAUrkfhehQPQLbz/dR46e4/lkOLbOf7AkDo+6nx0k0FQGq8dJMYBPQ/0SLb+X5qAEAshxbZzvcKQFg5tMh2vgBAAAAAAAAAAECq8dJNYhAPQDeJQWDl0A5AWDm0yHa+DUCDwMqhRbb7PwaBlUOLbA9A\",\"dtype\":\"float64\",\"shape\":[162]},\"y\":{\"__ndarray__\":\"AAAAAACgVkBmZmZmZmZJQAAAAAAAwFhAMzMzMzMzVkDNzMzMzIxWQAAAAAAAAERAZmZmZmbmSEBmZmZmZmZIQJqZmZmZ2VhAAAAAAADAWEAAAAAAAOBWQJqZmZmZeVdAzczMzMyMVkAAAAAAAMBYQGZmZmZm5kxAzczMzMzMNkAzMzMzM1NUQM3MzMzMTFNAAAAAAADgVkDNzMzMzAxMQAAAAAAAwFhAAAAAAADAWEAAAAAAAKBYQM3MzMzMTFZAZmZmZmYGVkBmZmZmZiZYQGZmZmZm5lhAmpmZmZk5WECamZmZmVlXQDMzMzMzk1BAzczMzMzMTUDNzMzMzGxYQDMzMzMzs1RAMzMzMzPTWEAzMzMzM/NPQAAAAAAAwFhAMzMzMzOzUEDNzMzMzAxGQM3MzMzMTFFAMzMzMzMzKUBmZmZmZiZVQDMzMzMzs0ZAmpmZmZm5V0CamZmZmblYQDMzMzMzc1ZAzczMzMwMVEAAAAAAAABZQGZmZmZmpk1AZmZmZmZmRUDNzMzMzAxEQJqZmZmZOVhAZmZmZmYmRkDNzMzMzExTQGZmZmZmRlZAMzMzMzNTUEAzMzMzM/NQQAAAAAAAgExAzczMzMysWEAAAAAAAMBYQAAAAAAA4FhAmpmZmZmZNUAzMzMzM3NQQDMzMzMzMy5AmpmZmZm5UUDNzMzMzCxRQM3MzMzMbFRAMzMzMzMzMkAAAAAAAIBOQDMzMzMzM1ZAAAAAAACAQECamZmZmflXQDMzMzMz81hAZmZmZmbmNUAAAAAAAMBYQJqZmZmZOVdAAAAAAADAWEAAAAAAAMBRQJqZmZmZuVhAMzMzMzMTVkBmZmZmZmY6QGZmZmZmhlBAAAAAAACAVUDNzMzMzOxYQAAAAAAAwFhAzczMzMzMWECamZmZmRk8QDMzMzMz801AAAAAAADAWECamZmZmXlYQM3MzMzMDFhAAAAAAADgVECamZmZmflXQAAAAAAA4FhAzczMzMzMS0CamZmZmdlKQDMzMzMzU1RAAAAAAABgV0CamZmZmZlPQJqZmZmZWVRAmpmZmZk5VkCamZmZmXlTQGZmZmZm5jxAAAAAAADAWEAAAAAAAABZQGZmZmZmxlhAMzMzMzPTWEAAAAAAAEBLQGZmZmZm5lZAAAAAAAAAWUDNzMzMzAxYQAAAAAAA4FZAAAAAAACAWEAAAAAAAMBYQM3MzMzMjERAzczMzMzsWEAAAAAAAMBYQAAAAAAAgFVAAAAAAACASkCamZmZmflXQDMzMzMzc1hAMzMzMzMzV0DNzMzMzOxYQAAAAAAAoFhAAAAAAADASEDNzMzMzKxYQJqZmZmZ2VhAmpmZmZk5VEBmZmZmZkZXQDMzMzMzs1ZAMzMzMzNzWEAzMzMzM/NYQM3MzMzM7FVAZmZmZmbGV0CamZmZmdlXQM3MzMzM7FhAAAAAAADgVEBmZmZmZiZBQAAAAAAAQEJAzczMzMzMVEAzMzMzM/NYQM3MzMzMjFhAmpmZmZmZVkAzMzMzMzNVQGZmZmZmZlVAzczMzMwsWECamZmZmVlWQJqZmZmZWUNAZmZmZmZGVkAzMzMzM/NQQM3MzMzMrFZAmpmZmZkZVkAzMzMzM9NTQAAAAAAAYFdAMzMzMzNTV0AAAAAAACBYQAAAAAAAwFhAmpmZmZmZWEAAAAAAAOBTQAAAAAAAoFhAMzMzMzPTVEAAAAAAAIBYQGZmZmZmxlhA\",\"dtype\":\"float64\",\"shape\":[162]}},\"selected\":{\"id\":\"1f264515-c163-432c-a7dc-927e16952d82\",\"type\":\"Selection\"},\"selection_policy\":{\"id\":\"7a4eea51-e6dc-4d4e-bf89-227d2f1c158c\",\"type\":\"UnionRenderers\"}},\"id\":\"a4024ad6-f31c-4d94-a9c9-502f8d975834\",\"type\":\"ColumnDataSource\"},{\"attributes\":{\"source\":{\"id\":\"a4024ad6-f31c-4d94-a9c9-502f8d975834\",\"type\":\"ColumnDataSource\"}},\"id\":\"0f9f03b7-d1ee-4759-8364-db26b2adb6d0\",\"type\":\"CDSView\"},{\"attributes\":{\"data_source\":{\"id\":\"a4024ad6-f31c-4d94-a9c9-502f8d975834\",\"type\":\"ColumnDataSource\"},\"glyph\":{\"id\":\"4870dcf5-b6d3-485e-a889-c33d044f35be\",\"type\":\"Circle\"},\"hover_glyph\":null,\"muted_glyph\":null,\"nonselection_glyph\":{\"id\":\"e180d817-9634-434b-8b0f-3ce5e19a8f13\",\"type\":\"Circle\"},\"selection_glyph\":null,\"view\":{\"id\":\"0f9f03b7-d1ee-4759-8364-db26b2adb6d0\",\"type\":\"CDSView\"}},\"id\":\"13c109f2-6137-4c99-8cfd-aa26e207d053\",\"type\":\"GlyphRenderer\"},{\"attributes\":{\"fill_alpha\":{\"value\":0.1},\"fill_color\":{\"value\":\"#1f77b4\"},\"line_alpha\":{\"value\":0.1},\"line_color\":{\"value\":\"#1f77b4\"},\"x\":{\"field\":\"x\"},\"y\":{\"field\":\"y\"}},\"id\":\"e180d817-9634-434b-8b0f-3ce5e19a8f13\",\"type\":\"Circle\"},{\"attributes\":{},\"id\":\"ece0a9cf-212f-4ed4-a028-0138138fdced\",\"type\":\"WheelZoomTool\"},{\"attributes\":{\"callback\":null,\"data\":{\"x\":{\"__ndarray__\":\"6Pup8dJN/D/b+X5qvHQFQARWDi2ynQBAdJMYBFYOAUAIrBxaZDv9P2Dl0CLb+Q5A6Pup8dJNAkD91HjpJrEUQH0/NV66SfY//tR46SYx9D9zaJHtfD8BQGmR7Xw/NQhA3SQGgZVDAEDJdr6fGi/1P7tJDAIrhwZA8tJNYhDYFEDNzMzMzMwAQOXQItv5fvw/8/3UeOkm/T9uEoPAyqEXQH9qvHSTGP4/bhKDwMqh/T89CtejcD32P3Noke18PwJACtejcD0KBEAv3SQGgZXzPy2yne+nxvU/sXJoke189z8IrBxaZDsDQBSuR+F6FBZACKwcWmQ7EEBjEFg5tMgBQFYOLbKdbxNAE4PAyqFF9D8j2/l+arwCQN0kBoGVQ/k/arx0kxgEGUB56SYxCKwCQOSlm8QgsA9AhetRuB4FGkA9CtejcD0EQC/dJAaBlQZAlkOLbOf7A0CWQ4ts5/sBQKrx0k1iEARAUrgehetRCEBEi2zn+6n9P+F6FK5H4RBAZmZmZmZmFECR7Xw/Nd4TQDMzMzMzM/U/dJMYBFYOEkD8qfHSTWIJQBFYObTIdgJAexSuR+F6EkBEi2zn+ykSQEA1XrpJjBZAN4lBYOXQ/j/AyqFFtvP7PycxCKwcWgJAd76fGi9dF0BSuB6F69EVQC2yne+nRhxArBxaZDvfBkDfT42XbhIQQLTIdr6fGgRAH4XrUbieFUCmm8QgsPIWQIGVQ4ts5wpAj8L1KFyPE0ApXI/C9Sj2PxSuR+F6FPg/bef7qfFSGEAlBoGVQ4v8P0A1XrpJDPY/MzMzMzMz9z/b+X5qvHT9P+xRuB6F6/U/TDeJQWDlBEA3iUFg5VAVQFK4HoXrURVALIcW2c73CkDl0CLb+X70P1YOLbKd7/0/001iEFg5AUBPjZduEoMVQM3MzMzMzBFAXI/C9Shc9z9g5dAi2/n2P5duEoPAyvk/hetRuB6FCUBqvHSTGAQGQM3MzMzMzApACtejcD0KEEBEi2zn+6kQQIlBYOXQIgVAN4lBYOXQB0BSuB6F61ELQFyPwvUoXAJA8/3UeOkmCEARWDm0yHYFQClcj8L1qBRAL90kBoGV/T/GSzeJQWD9P7+fGi/dJARAcT0K16NwA0DqJjEIrBwSQGiR7Xw/NfQ/KVyPwvUo/j9KDAIrhxb/P/yp8dJNYv4/30+Nl24S9z9zaJHtfD//P30/NV66yRJAHFpkO99P+T8zMzMzMzMAQNv5fmq8dP0/JQaBlUMLFEAxCKwcWmTzP9R46SYxCPg/VOOlm8QgBECsHFpkO9/1P4PAyqFFtgBAWmQ730+NEUBEi2zn+6n9PyyHFtnO9/s/bef7qfHSB0Cd76fGSzcBQEw3iUFg5QJAAyuHFtnO/z83iUFg5dD2P1K4HoXrUQpA6SYxCKwcCkBg5dAi2/n2P30/NV66SfY/+n5qvHSTBkDGSzeJQeATQIlBYOXQohZA7FG4HoXrCUBKDAIrhxb7PyYxCKwcWvo/4XoUrkfhAkB46SYxCKz8P5qZmZmZmQtAqMZLN4lB+D93vp8aL90BQBsv3SQGgQRAbhKDwMohFUAUrkfhehQPQLbz/dR46e4/lkOLbOf7AkDo+6nx0k0FQGq8dJMYBPQ/0SLb+X5qAEAshxbZzvcKQFg5tMh2vgBAAAAAAAAAAECq8dJNYhAPQDeJQWDl0A5AWDm0yHa+DUCDwMqhRbb7PwaBlUOLbA9A\",\"dtype\":\"float64\",\"shape\":[162]},\"y\":{\"__ndarray__\":\"AAAAAACgVkBmZmZmZmZJQAAAAAAAwFhAMzMzMzMzVkDNzMzMzIxWQAAAAAAAAERAZmZmZmbmSEBmZmZmZmZIQJqZmZmZ2VhAAAAAAADAWEAAAAAAAOBWQJqZmZmZeVdAzczMzMyMVkAAAAAAAMBYQGZmZmZm5kxAzczMzMzMNkAzMzMzM1NUQM3MzMzMTFNAAAAAAADgVkDNzMzMzAxMQAAAAAAAwFhAAAAAAADAWEAAAAAAAKBYQM3MzMzMTFZAZmZmZmYGVkBmZmZmZiZYQGZmZmZm5lhAmpmZmZk5WECamZmZmVlXQDMzMzMzk1BAzczMzMzMTUDNzMzMzGxYQDMzMzMzs1RAMzMzMzPTWEAzMzMzM/NPQAAAAAAAwFhAMzMzMzOzUEDNzMzMzAxGQM3MzMzMTFFAMzMzMzMzKUBmZmZmZiZVQDMzMzMzs0ZAmpmZmZm5V0CamZmZmblYQDMzMzMzc1ZAzczMzMwMVEAAAAAAAABZQGZmZmZmpk1AZmZmZmZmRUDNzMzMzAxEQJqZmZmZOVhAZmZmZmYmRkDNzMzMzExTQGZmZmZmRlZAMzMzMzNTUEAzMzMzM/NQQAAAAAAAgExAzczMzMysWEAAAAAAAMBYQAAAAAAA4FhAmpmZmZmZNUAzMzMzM3NQQDMzMzMzMy5AmpmZmZm5UUDNzMzMzCxRQM3MzMzMbFRAMzMzMzMzMkAAAAAAAIBOQDMzMzMzM1ZAAAAAAACAQECamZmZmflXQDMzMzMz81hAZmZmZmbmNUAAAAAAAMBYQJqZmZmZOVdAAAAAAADAWEAAAAAAAMBRQJqZmZmZuVhAMzMzMzMTVkBmZmZmZmY6QGZmZmZmhlBAAAAAAACAVUDNzMzMzOxYQAAAAAAAwFhAzczMzMzMWECamZmZmRk8QDMzMzMz801AAAAAAADAWECamZmZmXlYQM3MzMzMDFhAAAAAAADgVECamZmZmflXQAAAAAAA4FhAzczMzMzMS0CamZmZmdlKQDMzMzMzU1RAAAAAAABgV0CamZmZmZlPQJqZmZmZWVRAmpmZmZk5VkCamZmZmXlTQGZmZmZm5jxAAAAAAADAWEAAAAAAAABZQGZmZmZmxlhAMzMzMzPTWEAAAAAAAEBLQGZmZmZm5lZAAAAAAAAAWUDNzMzMzAxYQAAAAAAA4FZAAAAAAACAWEAAAAAAAMBYQM3MzMzMjERAzczMzMzsWEAAAAAAAMBYQAAAAAAAgFVAAAAAAACASkCamZmZmflXQDMzMzMzc1hAMzMzMzMzV0DNzMzMzOxYQAAAAAAAoFhAAAAAAADASEDNzMzMzKxYQJqZmZmZ2VhAmpmZmZk5VEBmZmZmZkZXQDMzMzMzs1ZAMzMzMzNzWEAzMzMzM/NYQM3MzMzM7FVAZmZmZmbGV0CamZmZmdlXQM3MzMzM7FhAAAAAAADgVEBmZmZmZiZBQAAAAAAAQEJAzczMzMzMVEAzMzMzM/NYQM3MzMzMjFhAmpmZmZmZVkAzMzMzMzNVQGZmZmZmZlVAzczMzMwsWECamZmZmVlWQJqZmZmZWUNAZmZmZmZGVkAzMzMzM/NQQM3MzMzMrFZAmpmZmZkZVkAzMzMzM9NTQAAAAAAAYFdAMzMzMzNTV0AAAAAAACBYQAAAAAAAwFhAmpmZmZmZWEAAAAAAAOBTQAAAAAAAoFhAMzMzMzPTVEAAAAAAAIBYQGZmZmZmxlhA\",\"dtype\":\"float64\",\"shape\":[162]}},\"selected\":{\"id\":\"f746d91a-4666-427f-a281-294e816a6a42\",\"type\":\"Selection\"},\"selection_policy\":{\"id\":\"dbbb94e6-3fee-4f5a-a3c2-ed6c5e00198a\",\"type\":\"UnionRenderers\"}},\"id\":\"f812e1a4-6383-4e45-ba73-9585bd826d91\",\"type\":\"ColumnDataSource\"},{\"attributes\":{},\"id\":\"b2eed465-3cf4-4f61-a2c3-fbd10385f529\",\"type\":\"UnionRenderers\"},{\"attributes\":{\"overlay\":{\"id\":\"3693afe9-3fde-4a32-b208-5ac97447c505\",\"type\":\"BoxAnnotation\"}},\"id\":\"c0a22880-45e9-4bd1-aea3-a2fb4dd532c2\",\"type\":\"BoxZoomTool\"},{\"attributes\":{},\"id\":\"94d376f3-17ff-499e-b91c-5ba99b842ba9\",\"type\":\"SaveTool\"},{\"attributes\":{},\"id\":\"cf0e3f83-7b4c-4d1b-af0d-ef899036a5e0\",\"type\":\"ResetTool\"},{\"attributes\":{},\"id\":\"3dd58c92-a9a5-45dc-ab65-80e4319c509c\",\"type\":\"LinearScale\"},{\"attributes\":{\"fill_alpha\":{\"value\":0.1},\"fill_color\":{\"value\":\"#1f77b4\"},\"line_alpha\":{\"value\":0.1},\"line_color\":{\"value\":\"#1f77b4\"},\"size\":{\"units\":\"screen\",\"value\":10},\"x\":{\"field\":\"x\"},\"y\":{\"field\":\"y\"}},\"id\":\"a7a7cc61-0335-4313-9579-b732cd3836e2\",\"type\":\"Circle\"},{\"attributes\":{},\"id\":\"552d79a6-b6ce-4db8-b75a-a5f9ede6b675\",\"type\":\"HelpTool\"},{\"attributes\":{\"active_drag\":\"auto\",\"active_inspect\":\"auto\",\"active_scroll\":\"auto\",\"active_tap\":\"auto\",\"tools\":[{\"id\":\"85790cc1-739a-4844-bd30-14ff9625651c\",\"type\":\"PanTool\"},{\"id\":\"ece0a9cf-212f-4ed4-a028-0138138fdced\",\"type\":\"WheelZoomTool\"},{\"id\":\"c0a22880-45e9-4bd1-aea3-a2fb4dd532c2\",\"type\":\"BoxZoomTool\"},{\"id\":\"94d376f3-17ff-499e-b91c-5ba99b842ba9\",\"type\":\"SaveTool\"},{\"id\":\"cf0e3f83-7b4c-4d1b-af0d-ef899036a5e0\",\"type\":\"ResetTool\"},{\"id\":\"552d79a6-b6ce-4db8-b75a-a5f9ede6b675\",\"type\":\"HelpTool\"}]},\"id\":\"5c4187f3-0894-4531-b0cb-b51e3551f9d0\",\"type\":\"Toolbar\"},{\"attributes\":{\"callback\":null},\"id\":\"a11d95ef-a434-490d-a597-b118e5d9e488\",\"type\":\"DataRange1d\"},{\"attributes\":{\"plot\":{\"id\":\"37b7ea8b-2f6a-4b9f-87ea-f7ac6ac22199\",\"subtype\":\"Figure\",\"type\":\"Plot\"},\"ticker\":{\"id\":\"3efa66a6-c098-4bda-97dc-3896fe6f7bf3\",\"type\":\"BasicTicker\"}},\"id\":\"e519ac47-737d-46c0-bf49-7a588e306f4b\",\"type\":\"Grid\"},{\"attributes\":{},\"id\":\"0fdb2d18-40f8-49f0-97de-199ef1c2a3b2\",\"type\":\"BasicTickFormatter\"},{\"attributes\":{\"fill_color\":{\"value\":\"Red\"},\"line_color\":{\"value\":\"Red\"},\"size\":{\"units\":\"screen\",\"value\":10},\"x\":{\"field\":\"x\"},\"y\":{\"field\":\"y\"}},\"id\":\"dc539e5b-3c80-4386-86da-a25fbe25aba2\",\"type\":\"Circle\"},{\"attributes\":{\"fill_alpha\":{\"value\":0.1},\"fill_color\":{\"value\":\"#1f77b4\"},\"line_alpha\":{\"value\":0.1},\"line_color\":{\"value\":\"#1f77b4\"},\"x\":{\"field\":\"x\"},\"y\":{\"field\":\"y\"}},\"id\":\"7cbf12cd-8de9-4319-b3c8-aac124da4cce\",\"type\":\"Circle\"},{\"attributes\":{},\"id\":\"2f4a8614-4085-40e9-af26-c2ff2d04b26a\",\"type\":\"LinearScale\"},{\"attributes\":{\"source\":{\"id\":\"88aef72d-01b4-447d-8526-bb474dad6736\",\"type\":\"ColumnDataSource\"}},\"id\":\"b2720ee8-feee-4df3-b4f2-709607cf8964\",\"type\":\"CDSView\"},{\"attributes\":{},\"id\":\"f746d91a-4666-427f-a281-294e816a6a42\",\"type\":\"Selection\"},{\"attributes\":{\"fill_color\":{\"value\":\"#1f77b4\"},\"line_color\":{\"value\":\"#1f77b4\"},\"x\":{\"field\":\"x\"},\"y\":{\"field\":\"y\"}},\"id\":\"4870dcf5-b6d3-485e-a889-c33d044f35be\",\"type\":\"Circle\"},{\"attributes\":{},\"id\":\"7a4eea51-e6dc-4d4e-bf89-227d2f1c158c\",\"type\":\"UnionRenderers\"},{\"attributes\":{\"callback\":null},\"id\":\"2cdaaba6-ba65-49af-81eb-395d3efba3a3\",\"type\":\"DataRange1d\"},{\"attributes\":{\"indices\":[],\"line_indices\":[]},\"id\":\"1f264515-c163-432c-a7dc-927e16952d82\",\"type\":\"Selection\"},{\"attributes\":{\"below\":[{\"id\":\"97a07422-f0b6-4717-985c-f24c4479dd66\",\"type\":\"LinearAxis\"}],\"left\":[{\"id\":\"c34782d7-493d-4448-8a5c-7d828fa73dc0\",\"type\":\"LinearAxis\"}],\"renderers\":[{\"id\":\"97a07422-f0b6-4717-985c-f24c4479dd66\",\"type\":\"LinearAxis\"},{\"id\":\"e519ac47-737d-46c0-bf49-7a588e306f4b\",\"type\":\"Grid\"},{\"id\":\"c34782d7-493d-4448-8a5c-7d828fa73dc0\",\"type\":\"LinearAxis\"},{\"id\":\"0cc61049-a38b-42db-b6fc-89d68440f573\",\"type\":\"Grid\"},{\"id\":\"3693afe9-3fde-4a32-b208-5ac97447c505\",\"type\":\"BoxAnnotation\"},{\"id\":\"13c109f2-6137-4c99-8cfd-aa26e207d053\",\"type\":\"GlyphRenderer\"},{\"id\":\"c880509a-f67d-4153-9c51-02c0ec5406d5\",\"type\":\"GlyphRenderer\"},{\"id\":\"15a83396-1fdf-4fab-923a-9a04dc00d0a6\",\"type\":\"GlyphRenderer\"}],\"title\":{\"id\":\"6db07593-f8c4-49c6-a649-5ca4ff9f5de5\",\"type\":\"Title\"},\"toolbar\":{\"id\":\"5c4187f3-0894-4531-b0cb-b51e3551f9d0\",\"type\":\"Toolbar\"},\"x_range\":{\"id\":\"2cdaaba6-ba65-49af-81eb-395d3efba3a3\",\"type\":\"DataRange1d\"},\"x_scale\":{\"id\":\"2f4a8614-4085-40e9-af26-c2ff2d04b26a\",\"type\":\"LinearScale\"},\"y_range\":{\"id\":\"a11d95ef-a434-490d-a597-b118e5d9e488\",\"type\":\"DataRange1d\"},\"y_scale\":{\"id\":\"3dd58c92-a9a5-45dc-ab65-80e4319c509c\",\"type\":\"LinearScale\"}},\"id\":\"37b7ea8b-2f6a-4b9f-87ea-f7ac6ac22199\",\"subtype\":\"Figure\",\"type\":\"Plot\"},{\"attributes\":{\"data_source\":{\"id\":\"88aef72d-01b4-447d-8526-bb474dad6736\",\"type\":\"ColumnDataSource\"},\"glyph\":{\"id\":\"dc539e5b-3c80-4386-86da-a25fbe25aba2\",\"type\":\"Circle\"},\"hover_glyph\":null,\"muted_glyph\":null,\"nonselection_glyph\":{\"id\":\"a7a7cc61-0335-4313-9579-b732cd3836e2\",\"type\":\"Circle\"},\"selection_glyph\":null,\"view\":{\"id\":\"b2720ee8-feee-4df3-b4f2-709607cf8964\",\"type\":\"CDSView\"}},\"id\":\"15a83396-1fdf-4fab-923a-9a04dc00d0a6\",\"type\":\"GlyphRenderer\"},{\"attributes\":{\"source\":{\"id\":\"f812e1a4-6383-4e45-ba73-9585bd826d91\",\"type\":\"ColumnDataSource\"}},\"id\":\"7bf66667-a9d9-4ecc-a1f4-269881b23048\",\"type\":\"CDSView\"},{\"attributes\":{\"data_source\":{\"id\":\"f812e1a4-6383-4e45-ba73-9585bd826d91\",\"type\":\"ColumnDataSource\"},\"glyph\":{\"id\":\"415c75ce-6956-413c-b262-3f598cf43cb5\",\"type\":\"Circle\"},\"hover_glyph\":null,\"muted_glyph\":null,\"nonselection_glyph\":{\"id\":\"7cbf12cd-8de9-4319-b3c8-aac124da4cce\",\"type\":\"Circle\"},\"selection_glyph\":null,\"view\":{\"id\":\"7bf66667-a9d9-4ecc-a1f4-269881b23048\",\"type\":\"CDSView\"}},\"id\":\"c880509a-f67d-4153-9c51-02c0ec5406d5\",\"type\":\"GlyphRenderer\"},{\"attributes\":{},\"id\":\"445e00a6-b92d-4394-903e-3d26d855612b\",\"type\":\"Selection\"},{\"attributes\":{\"callback\":null,\"data\":{\"x\":{\"__ndarray__\":\"6Pup8dJN/D/b+X5qvHQFQARWDi2ynQBAdJMYBFYOAUAIrBxaZDv9P2Dl0CLb+Q5A6Pup8dJNAkD91HjpJrEUQH0/NV66SfY//tR46SYx9D9zaJHtfD8BQGmR7Xw/NQhA3SQGgZVDAEDJdr6fGi/1P7tJDAIrhwZA8tJNYhDYFEDNzMzMzMwAQOXQItv5fvw/8/3UeOkm/T9uEoPAyqEXQH9qvHSTGP4/bhKDwMqh/T89CtejcD32P3Noke18PwJACtejcD0KBEAv3SQGgZXzPy2yne+nxvU/sXJoke189z8IrBxaZDsDQBSuR+F6FBZACKwcWmQ7EEBjEFg5tMgBQFYOLbKdbxNAE4PAyqFF9D8j2/l+arwCQN0kBoGVQ/k/arx0kxgEGUB56SYxCKwCQOSlm8QgsA9AhetRuB4FGkA9CtejcD0EQC/dJAaBlQZAlkOLbOf7A0CWQ4ts5/sBQKrx0k1iEARAUrgehetRCEBEi2zn+6n9P+F6FK5H4RBAZmZmZmZmFECR7Xw/Nd4TQDMzMzMzM/U/dJMYBFYOEkD8qfHSTWIJQBFYObTIdgJAexSuR+F6EkBEi2zn+ykSQEA1XrpJjBZAN4lBYOXQ/j/AyqFFtvP7PycxCKwcWgJAd76fGi9dF0BSuB6F69EVQC2yne+nRhxArBxaZDvfBkDfT42XbhIQQLTIdr6fGgRAH4XrUbieFUCmm8QgsPIWQIGVQ4ts5wpAj8L1KFyPE0ApXI/C9Sj2PxSuR+F6FPg/bef7qfFSGEAlBoGVQ4v8P0A1XrpJDPY/MzMzMzMz9z/b+X5qvHT9P+xRuB6F6/U/TDeJQWDlBEA3iUFg5VAVQFK4HoXrURVALIcW2c73CkDl0CLb+X70P1YOLbKd7/0/001iEFg5AUBPjZduEoMVQM3MzMzMzBFAXI/C9Shc9z9g5dAi2/n2P5duEoPAyvk/hetRuB6FCUBqvHSTGAQGQM3MzMzMzApACtejcD0KEEBEi2zn+6kQQIlBYOXQIgVAN4lBYOXQB0BSuB6F61ELQFyPwvUoXAJA8/3UeOkmCEARWDm0yHYFQClcj8L1qBRAL90kBoGV/T/GSzeJQWD9P7+fGi/dJARAcT0K16NwA0DqJjEIrBwSQGiR7Xw/NfQ/KVyPwvUo/j9KDAIrhxb/P/yp8dJNYv4/30+Nl24S9z9zaJHtfD//P30/NV66yRJAHFpkO99P+T8zMzMzMzMAQNv5fmq8dP0/JQaBlUMLFEAxCKwcWmTzP9R46SYxCPg/VOOlm8QgBECsHFpkO9/1P4PAyqFFtgBAWmQ730+NEUBEi2zn+6n9PyyHFtnO9/s/bef7qfHSB0Cd76fGSzcBQEw3iUFg5QJAAyuHFtnO/z83iUFg5dD2P1K4HoXrUQpA6SYxCKwcCkBg5dAi2/n2P30/NV66SfY/+n5qvHSTBkDGSzeJQeATQIlBYOXQohZA7FG4HoXrCUBKDAIrhxb7PyYxCKwcWvo/4XoUrkfhAkB46SYxCKz8P5qZmZmZmQtAqMZLN4lB+D93vp8aL90BQBsv3SQGgQRAbhKDwMohFUAUrkfhehQPQLbz/dR46e4/lkOLbOf7AkDo+6nx0k0FQGq8dJMYBPQ/0SLb+X5qAEAshxbZzvcKQFg5tMh2vgBAAAAAAAAAAECq8dJNYhAPQDeJQWDl0A5AWDm0yHa+DUCDwMqhRbb7PwaBlUOLbA9A\",\"dtype\":\"float64\",\"shape\":[162]},\"y\":{\"__ndarray__\":\"AAAAAACgVkBmZmZmZmZJQAAAAAAAwFhAMzMzMzMzVkDNzMzMzIxWQAAAAAAAAERAZmZmZmbmSEBmZmZmZmZIQJqZmZmZ2VhAAAAAAADAWEAAAAAAAOBWQJqZmZmZeVdAzczMzMyMVkAAAAAAAMBYQGZmZmZm5kxAzczMzMzMNkAzMzMzM1NUQM3MzMzMTFNAAAAAAADgVkDNzMzMzAxMQAAAAAAAwFhAAAAAAADAWEAAAAAAAKBYQM3MzMzMTFZAZmZmZmYGVkBmZmZmZiZYQGZmZmZm5lhAmpmZmZk5WECamZmZmVlXQDMzMzMzk1BAzczMzMzMTUDNzMzMzGxYQDMzMzMzs1RAMzMzMzPTWEAzMzMzM/NPQAAAAAAAwFhAMzMzMzOzUEDNzMzMzAxGQM3MzMzMTFFAMzMzMzMzKUBmZmZmZiZVQDMzMzMzs0ZAmpmZmZm5V0CamZmZmblYQDMzMzMzc1ZAzczMzMwMVEAAAAAAAABZQGZmZmZmpk1AZmZmZmZmRUDNzMzMzAxEQJqZmZmZOVhAZmZmZmYmRkDNzMzMzExTQGZmZmZmRlZAMzMzMzNTUEAzMzMzM/NQQAAAAAAAgExAzczMzMysWEAAAAAAAMBYQAAAAAAA4FhAmpmZmZmZNUAzMzMzM3NQQDMzMzMzMy5AmpmZmZm5UUDNzMzMzCxRQM3MzMzMbFRAMzMzMzMzMkAAAAAAAIBOQDMzMzMzM1ZAAAAAAACAQECamZmZmflXQDMzMzMz81hAZmZmZmbmNUAAAAAAAMBYQJqZmZmZOVdAAAAAAADAWEAAAAAAAMBRQJqZmZmZuVhAMzMzMzMTVkBmZmZmZmY6QGZmZmZmhlBAAAAAAACAVUDNzMzMzOxYQAAAAAAAwFhAzczMzMzMWECamZmZmRk8QDMzMzMz801AAAAAAADAWECamZmZmXlYQM3MzMzMDFhAAAAAAADgVECamZmZmflXQAAAAAAA4FhAzczMzMzMS0CamZmZmdlKQDMzMzMzU1RAAAAAAABgV0CamZmZmZlPQJqZmZmZWVRAmpmZmZk5VkCamZmZmXlTQGZmZmZm5jxAAAAAAADAWEAAAAAAAABZQGZmZmZmxlhAMzMzMzPTWEAAAAAAAEBLQGZmZmZm5lZAAAAAAAAAWUDNzMzMzAxYQAAAAAAA4FZAAAAAAACAWEAAAAAAAMBYQM3MzMzMjERAzczMzMzsWEAAAAAAAMBYQAAAAAAAgFVAAAAAAACASkCamZmZmflXQDMzMzMzc1hAMzMzMzMzV0DNzMzMzOxYQAAAAAAAoFhAAAAAAADASEDNzMzMzKxYQJqZmZmZ2VhAmpmZmZk5VEBmZmZmZkZXQDMzMzMzs1ZAMzMzMzNzWEAzMzMzM/NYQM3MzMzM7FVAZmZmZmbGV0CamZmZmdlXQM3MzMzM7FhAAAAAAADgVEBmZmZmZiZBQAAAAAAAQEJAzczMzMzMVEAzMzMzM/NYQM3MzMzMjFhAmpmZmZmZVkAzMzMzMzNVQGZmZmZmZlVAzczMzMwsWECamZmZmVlWQJqZmZmZWUNAZmZmZmZGVkAzMzMzM/NQQM3MzMzMrFZAmpmZmZkZVkAzMzMzM9NTQAAAAAAAYFdAMzMzMzNTV0AAAAAAACBYQAAAAAAAwFhAmpmZmZmZWEAAAAAAAOBTQAAAAAAAoFhAMzMzMzPTVEAAAAAAAIBYQGZmZmZmxlhA\",\"dtype\":\"float64\",\"shape\":[162]}},\"selected\":{\"id\":\"445e00a6-b92d-4394-903e-3d26d855612b\",\"type\":\"Selection\"},\"selection_policy\":{\"id\":\"b2eed465-3cf4-4f61-a2c3-fbd10385f529\",\"type\":\"UnionRenderers\"}},\"id\":\"88aef72d-01b4-447d-8526-bb474dad6736\",\"type\":\"ColumnDataSource\"},{\"attributes\":{\"fill_color\":{\"value\":\"Red\"},\"line_color\":{\"value\":\"Red\"},\"x\":{\"field\":\"x\"},\"y\":{\"field\":\"y\"}},\"id\":\"415c75ce-6956-413c-b262-3f598cf43cb5\",\"type\":\"Circle\"},{\"attributes\":{\"bottom_units\":\"screen\",\"fill_alpha\":{\"value\":0.5},\"fill_color\":{\"value\":\"lightgrey\"},\"left_units\":\"screen\",\"level\":\"overlay\",\"line_alpha\":{\"value\":1.0},\"line_color\":{\"value\":\"black\"},\"line_dash\":[4,4],\"line_width\":{\"value\":2},\"plot\":null,\"render_mode\":\"css\",\"right_units\":\"screen\",\"top_units\":\"screen\"},\"id\":\"3693afe9-3fde-4a32-b208-5ac97447c505\",\"type\":\"BoxAnnotation\"},{\"attributes\":{\"plot\":null,\"text\":\"\"},\"id\":\"6db07593-f8c4-49c6-a649-5ca4ff9f5de5\",\"type\":\"Title\"},{\"attributes\":{},\"id\":\"85790cc1-739a-4844-bd30-14ff9625651c\",\"type\":\"PanTool\"},{\"attributes\":{\"axis_label\":\"Tasa de natalidad (ni\\u00f1os por mujer)\",\"formatter\":{\"id\":\"fe99c360-329f-40c0-8e91-b339b8e5e5f0\",\"type\":\"BasicTickFormatter\"},\"plot\":{\"id\":\"37b7ea8b-2f6a-4b9f-87ea-f7ac6ac22199\",\"subtype\":\"Figure\",\"type\":\"Plot\"},\"ticker\":{\"id\":\"3efa66a6-c098-4bda-97dc-3896fe6f7bf3\",\"type\":\"BasicTicker\"}},\"id\":\"97a07422-f0b6-4717-985c-f24c4479dd66\",\"type\":\"LinearAxis\"},{\"attributes\":{},\"id\":\"dbbb94e6-3fee-4f5a-a3c2-ed6c5e00198a\",\"type\":\"UnionRenderers\"},{\"attributes\":{},\"id\":\"3efa66a6-c098-4bda-97dc-3896fe6f7bf3\",\"type\":\"BasicTicker\"},{\"attributes\":{},\"id\":\"fe99c360-329f-40c0-8e91-b339b8e5e5f0\",\"type\":\"BasicTickFormatter\"},{\"attributes\":{\"axis_label\":\"Alfabetizaci\\u00f3n femenina (% de la poblaci\\u00f3n)\",\"formatter\":{\"id\":\"0fdb2d18-40f8-49f0-97de-199ef1c2a3b2\",\"type\":\"BasicTickFormatter\"},\"plot\":{\"id\":\"37b7ea8b-2f6a-4b9f-87ea-f7ac6ac22199\",\"subtype\":\"Figure\",\"type\":\"Plot\"},\"ticker\":{\"id\":\"4bf643e3-66ea-4e15-add8-368c9499de28\",\"type\":\"BasicTicker\"}},\"id\":\"c34782d7-493d-4448-8a5c-7d828fa73dc0\",\"type\":\"LinearAxis\"}],\"root_ids\":[\"37b7ea8b-2f6a-4b9f-87ea-f7ac6ac22199\"]},\"title\":\"Bokeh Application\",\"version\":\"0.12.16\"}};\n",
       "  var render_items = [{\"docid\":\"bc644c8e-ece1-45b9-a426-2df434cc66ff\",\"elementid\":\"3c5a8bd8-9a8b-4a6e-94ec-a0c07f6c2db9\",\"modelid\":\"37b7ea8b-2f6a-4b9f-87ea-f7ac6ac22199\"}];\n",
       "  root.Bokeh.embed.embed_items_notebook(docs_json, render_items);\n",
       "\n",
       "  }\n",
       "  if (root.Bokeh !== undefined) {\n",
       "    embed_document(root);\n",
       "  } else {\n",
       "    var attempts = 0;\n",
       "    var timer = setInterval(function(root) {\n",
       "      if (root.Bokeh !== undefined) {\n",
       "        embed_document(root);\n",
       "        clearInterval(timer);\n",
       "      }\n",
       "      attempts++;\n",
       "      if (attempts > 100) {\n",
       "        console.log(\"Bokeh: ERROR: Unable to run BokehJS code because BokehJS library is missing\")\n",
       "        clearInterval(timer);\n",
       "      }\n",
       "    }, 10, root)\n",
       "  }\n",
       "})(window);"
      ],
      "application/vnd.bokehjs_exec.v0+json": ""
     },
     "metadata": {
      "application/vnd.bokehjs_exec.v0+json": {
       "id": "37b7ea8b-2f6a-4b9f-87ea-f7ac6ac22199"
      }
     },
     "output_type": "display_data"
    }
   ],
   "source": [
    "p.circle(x,y, color = 'Red', size = 10) #Tamaño\n",
    "show(p)"
   ]
  },
  {
   "cell_type": "markdown",
   "metadata": {},
   "source": [
    "Conclusión: Es fácil graficar un scatter con Bokeh, sin embargo, tuve unas complicaciones al inicio y era que las variables a incluir en los ejes tienen que estar en números.\n",
    "    \n",
    "Respecto a lo que hemos descubierto es que la relación entre natalidad y alfabetización de la mujer es inversamente proporcional. Entre mayor es la educación de una mujer en una población, menor es la tasa de natalidad."
   ]
  },
  {
   "cell_type": "code",
   "execution_count": null,
   "metadata": {},
   "outputs": [],
   "source": []
  }
 ],
 "metadata": {
  "kernelspec": {
   "display_name": "Python 3",
   "language": "python",
   "name": "python3"
  },
  "language_info": {
   "codemirror_mode": {
    "name": "ipython",
    "version": 3
   },
   "file_extension": ".py",
   "mimetype": "text/x-python",
   "name": "python",
   "nbconvert_exporter": "python",
   "pygments_lexer": "ipython3",
   "version": "3.6.5"
  },
  "nikola": {
   "category": "Python",
   "date": "2018-11-07 11:05:00 UTC+10:00",
   "slug": "grafico_en_Python_1",
   "title": "Generar Gráfico de Puntos en Python con Bokeh"
  }
 },
 "nbformat": 4,
 "nbformat_minor": 2
}
