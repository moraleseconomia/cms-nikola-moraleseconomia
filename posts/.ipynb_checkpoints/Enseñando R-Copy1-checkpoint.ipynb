{
 "cells": [
  {
   "cell_type": "markdown",
   "metadata": {},
   "source": [
    "R es un lenguaje que nació para facilitar la programación \n",
    "estadística. Esta parte es la más fácil de R. \n",
    "\n",
    "En las primeras páginas de cualquier libro de estadística \n",
    "no encontraremos con lo siguiente a trabajar con cualquier serie de datos.\n",
    "\n",
    "-- Compete introducir los datos a R:"
   ]
  },
  {
   "cell_type": "code",
   "execution_count": 1,
   "metadata": {},
   "outputs": [],
   "source": [
    "datos <- c(23, 24, 53, 43, 23, 43, 65, 34, 23, 43, 25, 46, 34, 32)\n"
   ]
  },
  {
   "cell_type": "code",
   "execution_count": 2,
   "metadata": {},
   "outputs": [
    {
     "data": {
      "text/html": [
       "<ol class=list-inline>\n",
       "\t<li>23</li>\n",
       "\t<li>24</li>\n",
       "\t<li>53</li>\n",
       "\t<li>43</li>\n",
       "\t<li>23</li>\n",
       "\t<li>43</li>\n",
       "\t<li>65</li>\n",
       "\t<li>34</li>\n",
       "\t<li>23</li>\n",
       "\t<li>43</li>\n",
       "\t<li>25</li>\n",
       "\t<li>46</li>\n",
       "\t<li>34</li>\n",
       "\t<li>32</li>\n",
       "</ol>\n"
      ],
      "text/latex": [
       "\\begin{enumerate*}\n",
       "\\item 23\n",
       "\\item 24\n",
       "\\item 53\n",
       "\\item 43\n",
       "\\item 23\n",
       "\\item 43\n",
       "\\item 65\n",
       "\\item 34\n",
       "\\item 23\n",
       "\\item 43\n",
       "\\item 25\n",
       "\\item 46\n",
       "\\item 34\n",
       "\\item 32\n",
       "\\end{enumerate*}\n"
      ],
      "text/markdown": [
       "1. 23\n",
       "2. 24\n",
       "3. 53\n",
       "4. 43\n",
       "5. 23\n",
       "6. 43\n",
       "7. 65\n",
       "8. 34\n",
       "9. 23\n",
       "10. 43\n",
       "11. 25\n",
       "12. 46\n",
       "13. 34\n",
       "14. 32\n",
       "\n",
       "\n"
      ],
      "text/plain": [
       " [1] 23 24 53 43 23 43 65 34 23 43 25 46 34 32"
      ]
     },
     "metadata": {},
     "output_type": "display_data"
    }
   ],
   "source": [
    "datos"
   ]
  },
  {
   "cell_type": "markdown",
   "metadata": {},
   "source": [
    "La tabla más básica que puede facilitarnos R es la siguiente:"
   ]
  },
  {
   "cell_type": "code",
   "execution_count": 3,
   "metadata": {},
   "outputs": [
    {
     "data": {
      "text/plain": [
       "   Min. 1st Qu.  Median    Mean 3rd Qu.    Max. \n",
       "  23.00   24.25   34.00   36.50   43.00   65.00 "
      ]
     },
     "metadata": {},
     "output_type": "display_data"
    }
   ],
   "source": [
    "summary(datos)"
   ]
  },
  {
   "cell_type": "markdown",
   "metadata": {},
   "source": [
    "*Contiene el mínimo, el primer cuartil, la mediana, la media, \n",
    "el tercer cuartil y el valor máximo. Antes de cualquier trabajo \n",
    "con los datos es necesario conocer estos valores.*"
   ]
  },
  {
   "cell_type": "markdown",
   "metadata": {},
   "source": [
    "R también nos permite obtenerlos de manera individual.\n",
    "--Obtener el valor mínimo.\n"
   ]
  },
  {
   "cell_type": "markdown",
   "metadata": {},
   "source": [
    "<!-- TEASER_END -->"
   ]
  },
  {
   "cell_type": "code",
   "execution_count": 4,
   "metadata": {},
   "outputs": [
    {
     "data": {
      "text/html": [
       "23"
      ],
      "text/latex": [
       "23"
      ],
      "text/markdown": [
       "23"
      ],
      "text/plain": [
       "[1] 23"
      ]
     },
     "metadata": {},
     "output_type": "display_data"
    }
   ],
   "source": [
    "min(datos)"
   ]
  },
  {
   "cell_type": "markdown",
   "metadata": {},
   "source": [
    "--Obtener el valor máximo."
   ]
  },
  {
   "cell_type": "code",
   "execution_count": 5,
   "metadata": {},
   "outputs": [
    {
     "data": {
      "text/html": [
       "65"
      ],
      "text/latex": [
       "65"
      ],
      "text/markdown": [
       "65"
      ],
      "text/plain": [
       "[1] 65"
      ]
     },
     "metadata": {},
     "output_type": "display_data"
    }
   ],
   "source": [
    "max(datos)"
   ]
  },
  {
   "cell_type": "markdown",
   "metadata": {},
   "source": [
    "--Obtener el promedio o media de los valores."
   ]
  },
  {
   "cell_type": "code",
   "execution_count": 9,
   "metadata": {},
   "outputs": [
    {
     "data": {
      "text/html": [
       "36.5"
      ],
      "text/latex": [
       "36.5"
      ],
      "text/markdown": [
       "36.5"
      ],
      "text/plain": [
       "[1] 36.5"
      ]
     },
     "metadata": {},
     "output_type": "display_data"
    }
   ],
   "source": [
    "mean(datos)"
   ]
  },
  {
   "cell_type": "markdown",
   "metadata": {},
   "source": [
    "--Obtener la mediana que es el valor que está en el centro de los \n",
    "datos después de ordenar estos de menor a mayor o viceversa."
   ]
  },
  {
   "cell_type": "code",
   "execution_count": 10,
   "metadata": {},
   "outputs": [
    {
     "data": {
      "text/html": [
       "34"
      ],
      "text/latex": [
       "34"
      ],
      "text/markdown": [
       "34"
      ],
      "text/plain": [
       "[1] 34"
      ]
     },
     "metadata": {},
     "output_type": "display_data"
    }
   ],
   "source": [
    "median(datos)"
   ]
  },
  {
   "cell_type": "markdown",
   "metadata": {},
   "source": [
    "--Obtener el rango que son los dos valores extremos, en algunos libros es \n",
    "presentar el mínimo y el máximo, en otros es la resta de los mismos."
   ]
  },
  {
   "cell_type": "code",
   "execution_count": 11,
   "metadata": {},
   "outputs": [
    {
     "data": {
      "text/html": [
       "<ol class=list-inline>\n",
       "\t<li>23</li>\n",
       "\t<li>65</li>\n",
       "</ol>\n"
      ],
      "text/latex": [
       "\\begin{enumerate*}\n",
       "\\item 23\n",
       "\\item 65\n",
       "\\end{enumerate*}\n"
      ],
      "text/markdown": [
       "1. 23\n",
       "2. 65\n",
       "\n",
       "\n"
      ],
      "text/plain": [
       "[1] 23 65"
      ]
     },
     "metadata": {},
     "output_type": "display_data"
    }
   ],
   "source": [
    "range(datos)"
   ]
  },
  {
   "cell_type": "markdown",
   "metadata": {},
   "source": [
    "--El único nos presenta los valores una sola vez sin importar cuánto se repitan."
   ]
  },
  {
   "cell_type": "code",
   "execution_count": 12,
   "metadata": {},
   "outputs": [
    {
     "data": {
      "text/html": [
       "<ol class=list-inline>\n",
       "\t<li>23</li>\n",
       "\t<li>24</li>\n",
       "\t<li>53</li>\n",
       "\t<li>43</li>\n",
       "\t<li>65</li>\n",
       "\t<li>34</li>\n",
       "\t<li>25</li>\n",
       "\t<li>46</li>\n",
       "\t<li>32</li>\n",
       "</ol>\n"
      ],
      "text/latex": [
       "\\begin{enumerate*}\n",
       "\\item 23\n",
       "\\item 24\n",
       "\\item 53\n",
       "\\item 43\n",
       "\\item 65\n",
       "\\item 34\n",
       "\\item 25\n",
       "\\item 46\n",
       "\\item 32\n",
       "\\end{enumerate*}\n"
      ],
      "text/markdown": [
       "1. 23\n",
       "2. 24\n",
       "3. 53\n",
       "4. 43\n",
       "5. 65\n",
       "6. 34\n",
       "7. 25\n",
       "8. 46\n",
       "9. 32\n",
       "\n",
       "\n"
      ],
      "text/plain": [
       "[1] 23 24 53 43 65 34 25 46 32"
      ]
     },
     "metadata": {},
     "output_type": "display_data"
    }
   ],
   "source": [
    "unique(datos)"
   ]
  },
  {
   "cell_type": "markdown",
   "metadata": {},
   "source": [
    "--Lamentablemente R no nos da una función predeterminada para obtener la moda. \n",
    "La moda es la/s observación/nes que más veces se repite/n en la serie de datos.\n",
    "Tenemos que crear una función para nuestro si lo queremos automatizar. Ejemplo: Crear una función llamada statmod."
   ]
  },
  {
   "cell_type": "code",
   "execution_count": null,
   "metadata": {},
   "outputs": [],
   "source": [
    "statmod <- function(x) {\n",
    "    z <- table(as.vector(x)) \n",
    "    names(z)[z == max(z)]\n",
    "}"
   ]
  },
  {
   "cell_type": "markdown",
   "metadata": {},
   "source": [
    "Si no somos fanáticos a programar, entonces con una simple \n",
    "observación podemos identificar la moda. Es útil aplicar table \n",
    "cuando los datos son pocos. La primera fila son las observaciones y la segunda las veces que aparecen en los datos. En el ejemplo, el 23 y el 43 son las modas."
   ]
  },
  {
   "cell_type": "code",
   "execution_count": 15,
   "metadata": {},
   "outputs": [
    {
     "data": {
      "text/plain": [
       "datos\n",
       "23 24 25 32 34 43 46 53 65 \n",
       " 3  1  1  1  2  3  1  1  1 "
      ]
     },
     "metadata": {},
     "output_type": "display_data"
    }
   ],
   "source": [
    "table(datos)"
   ]
  },
  {
   "cell_type": "markdown",
   "metadata": {},
   "source": [
    "--Si aplicamos nuestra nueva función llegaremos al resultado."
   ]
  },
  {
   "cell_type": "code",
   "execution_count": 16,
   "metadata": {},
   "outputs": [
    {
     "data": {
      "text/html": [
       "<ol class=list-inline>\n",
       "\t<li>'23'</li>\n",
       "\t<li>'43'</li>\n",
       "</ol>\n"
      ],
      "text/latex": [
       "\\begin{enumerate*}\n",
       "\\item '23'\n",
       "\\item '43'\n",
       "\\end{enumerate*}\n"
      ],
      "text/markdown": [
       "1. '23'\n",
       "2. '43'\n",
       "\n",
       "\n"
      ],
      "text/plain": [
       "[1] \"23\" \"43\""
      ]
     },
     "metadata": {},
     "output_type": "display_data"
    }
   ],
   "source": [
    "statmod(datos)"
   ]
  },
  {
   "cell_type": "markdown",
   "metadata": {},
   "source": [
    "--Otra información útil conocer cuántas observaciones \n",
    "posee la serie de datos."
   ]
  },
  {
   "cell_type": "code",
   "execution_count": 17,
   "metadata": {},
   "outputs": [
    {
     "data": {
      "text/html": [
       "14"
      ],
      "text/latex": [
       "14"
      ],
      "text/markdown": [
       "14"
      ],
      "text/plain": [
       "[1] 14"
      ]
     },
     "metadata": {},
     "output_type": "display_data"
    }
   ],
   "source": [
    "length(datos)"
   ]
  },
  {
   "cell_type": "markdown",
   "metadata": {},
   "source": [
    "--La desviación estándar. La medida de dispersión de los datos alrededor de su media o mediana."
   ]
  },
  {
   "cell_type": "code",
   "execution_count": 18,
   "metadata": {},
   "outputs": [
    {
     "data": {
      "text/html": [
       "12.9183828471142"
      ],
      "text/latex": [
       "12.9183828471142"
      ],
      "text/markdown": [
       "12.9183828471142"
      ],
      "text/plain": [
       "[1] 12.91838"
      ]
     },
     "metadata": {},
     "output_type": "display_data"
    }
   ],
   "source": [
    "sd(datos)"
   ]
  },
  {
   "cell_type": "markdown",
   "metadata": {},
   "source": [
    "--El cuadrado de la desviación estándar."
   ]
  },
  {
   "cell_type": "code",
   "execution_count": 19,
   "metadata": {},
   "outputs": [
    {
     "data": {
      "text/html": [
       "166.884615384615"
      ],
      "text/latex": [
       "166.884615384615"
      ],
      "text/markdown": [
       "166.884615384615"
      ],
      "text/plain": [
       "[1] 166.8846"
      ]
     },
     "metadata": {},
     "output_type": "display_data"
    }
   ],
   "source": [
    "var(datos)"
   ]
  },
  {
   "cell_type": "code",
   "execution_count": 20,
   "metadata": {},
   "outputs": [
    {
     "data": {
      "text/html": [
       "166.884615384614"
      ],
      "text/latex": [
       "166.884615384614"
      ],
      "text/markdown": [
       "166.884615384614"
      ],
      "text/plain": [
       "[1] 166.8846"
      ]
     },
     "metadata": {},
     "output_type": "display_data"
    }
   ],
   "source": [
    "12.9183828471142*12.9183828471142"
   ]
  },
  {
   "cell_type": "markdown",
   "metadata": {},
   "source": [
    "Tener una idea de cómo se distribuye la serie de datos es de vital importacia. Una acción es obtener las tablas de frecuencias y graficarla. Vea la secuencia que realizo para obtenerlas."
   ]
  },
  {
   "cell_type": "markdown",
   "metadata": {},
   "source": [
    "# Tablas de Frecuencias"
   ]
  },
  {
   "cell_type": "markdown",
   "metadata": {},
   "source": [
    "Si el analista cuenta con los datos necesarios para realizar su trabajo, \n",
    "lo primero a hacer será\n",
    "entender los datos con los que se cuenta. Se supone que los datos \n",
    "se refieren a las ventas en unidades\n",
    "de los últimos 10 años los que se muestran a continuación:"
   ]
  },
  {
   "cell_type": "markdown",
   "metadata": {},
   "source": [
    "*Ventas*"
   ]
  },
  {
   "cell_type": "code",
   "execution_count": 28,
   "metadata": {},
   "outputs": [],
   "source": [
    "ventas <- c(2540, 2560, 2612, 2630, 2720, \n",
    "           2760, 2785, 2804, 2831, 2935)"
   ]
  },
  {
   "cell_type": "code",
   "execution_count": 29,
   "metadata": {},
   "outputs": [
    {
     "data": {
      "text/plain": [
       "ventas\n",
       "2540 2560 2612 2630 2720 2760 2785 2804 2831 2935 \n",
       "   1    1    1    1    1    1    1    1    1    1 "
      ]
     },
     "metadata": {},
     "output_type": "display_data"
    }
   ],
   "source": [
    "table(ventas)"
   ]
  },
  {
   "cell_type": "code",
   "execution_count": 171,
   "metadata": {},
   "outputs": [
    {
     "data": {
      "image/png": "[encoded data removed]",
      "text/plain": [
       "Plot with title \"Histogram of ventas\""
      ]
     },
     "metadata": {},
     "output_type": "display_data"
    }
   ],
   "source": [
    "his <- hist(ventas, breaks = 5, col = \"lightblue\", border = \"black\")\n",
    "his"
   ]
  },
  {
   "cell_type": "code",
   "execution_count": 73,
   "metadata": {},
   "outputs": [
    {
     "data": {
      "text/html": [
       "<dl>\n",
       "\t<dt>$breaks</dt>\n",
       "\t\t<dd><ol class=list-inline>\n",
       "\t<li>2500</li>\n",
       "\t<li>2600</li>\n",
       "\t<li>2700</li>\n",
       "\t<li>2800</li>\n",
       "\t<li>2900</li>\n",
       "\t<li>3000</li>\n",
       "</ol>\n",
       "</dd>\n",
       "\t<dt>$counts</dt>\n",
       "\t\t<dd><ol class=list-inline>\n",
       "\t<li>2</li>\n",
       "\t<li>2</li>\n",
       "\t<li>3</li>\n",
       "\t<li>2</li>\n",
       "\t<li>1</li>\n",
       "</ol>\n",
       "</dd>\n",
       "\t<dt>$density</dt>\n",
       "\t\t<dd><ol class=list-inline>\n",
       "\t<li>0.002</li>\n",
       "\t<li>0.002</li>\n",
       "\t<li>0.003</li>\n",
       "\t<li>0.002</li>\n",
       "\t<li>0.001</li>\n",
       "</ol>\n",
       "</dd>\n",
       "\t<dt>$mids</dt>\n",
       "\t\t<dd><ol class=list-inline>\n",
       "\t<li>2550</li>\n",
       "\t<li>2650</li>\n",
       "\t<li>2750</li>\n",
       "\t<li>2850</li>\n",
       "\t<li>2950</li>\n",
       "</ol>\n",
       "</dd>\n",
       "\t<dt>$xname</dt>\n",
       "\t\t<dd>'ventas'</dd>\n",
       "\t<dt>$equidist</dt>\n",
       "\t\t<dd>TRUE</dd>\n",
       "</dl>\n"
      ],
      "text/latex": [
       "\\begin{description}\n",
       "\\item[\\$breaks] \\begin{enumerate*}\n",
       "\\item 2500\n",
       "\\item 2600\n",
       "\\item 2700\n",
       "\\item 2800\n",
       "\\item 2900\n",
       "\\item 3000\n",
       "\\end{enumerate*}\n",
       "\n",
       "\\item[\\$counts] \\begin{enumerate*}\n",
       "\\item 2\n",
       "\\item 2\n",
       "\\item 3\n",
       "\\item 2\n",
       "\\item 1\n",
       "\\end{enumerate*}\n",
       "\n",
       "\\item[\\$density] \\begin{enumerate*}\n",
       "\\item 0.002\n",
       "\\item 0.002\n",
       "\\item 0.003\n",
       "\\item 0.002\n",
       "\\item 0.001\n",
       "\\end{enumerate*}\n",
       "\n",
       "\\item[\\$mids] \\begin{enumerate*}\n",
       "\\item 2550\n",
       "\\item 2650\n",
       "\\item 2750\n",
       "\\item 2850\n",
       "\\item 2950\n",
       "\\end{enumerate*}\n",
       "\n",
       "\\item[\\$xname] 'ventas'\n",
       "\\item[\\$equidist] TRUE\n",
       "\\end{description}\n"
      ],
      "text/markdown": [
       "$breaks\n",
       ":   1. 2500\n",
       "2. 2600\n",
       "3. 2700\n",
       "4. 2800\n",
       "5. 2900\n",
       "6. 3000\n",
       "\n",
       "\n",
       "\n",
       "$counts\n",
       ":   1. 2\n",
       "2. 2\n",
       "3. 3\n",
       "4. 2\n",
       "5. 1\n",
       "\n",
       "\n",
       "\n",
       "$density\n",
       ":   1. 0.002\n",
       "2. 0.002\n",
       "3. 0.003\n",
       "4. 0.002\n",
       "5. 0.001\n",
       "\n",
       "\n",
       "\n",
       "$mids\n",
       ":   1. 2550\n",
       "2. 2650\n",
       "3. 2750\n",
       "4. 2850\n",
       "5. 2950\n",
       "\n",
       "\n",
       "\n",
       "$xname\n",
       ":   'ventas'\n",
       "$equidist\n",
       ":   TRUE\n",
       "\n",
       "\n"
      ],
      "text/plain": [
       "$breaks\n",
       "[1] 2500 2600 2700 2800 2900 3000\n",
       "\n",
       "$counts\n",
       "[1] 2 2 3 2 1\n",
       "\n",
       "$density\n",
       "[1] 0.002 0.002 0.003 0.002 0.001\n",
       "\n",
       "$mids\n",
       "[1] 2550 2650 2750 2850 2950\n",
       "\n",
       "$xname\n",
       "[1] \"ventas\"\n",
       "\n",
       "$equidist\n",
       "[1] TRUE\n"
      ]
     },
     "metadata": {},
     "output_type": "display_data"
    }
   ],
   "source": [
    "hiss <- unclass(his)\n",
    "hiss"
   ]
  },
  {
   "cell_type": "code",
   "execution_count": 116,
   "metadata": {},
   "outputs": [],
   "source": [
    "Clases <- c('<=2600', \n",
    "           '(2600, 2700]', \n",
    "           '(2700, 2800]',\n",
    "           '(2800, 2900]',\n",
    "           '(2900, 3000]')"
   ]
  },
  {
   "cell_type": "code",
   "execution_count": 117,
   "metadata": {},
   "outputs": [
    {
     "data": {
      "text/html": [
       "<ol class=list-inline>\n",
       "\t<li>2</li>\n",
       "\t<li>2</li>\n",
       "\t<li>3</li>\n",
       "\t<li>2</li>\n",
       "\t<li>1</li>\n",
       "</ol>\n"
      ],
      "text/latex": [
       "\\begin{enumerate*}\n",
       "\\item 2\n",
       "\\item 2\n",
       "\\item 3\n",
       "\\item 2\n",
       "\\item 1\n",
       "\\end{enumerate*}\n"
      ],
      "text/markdown": [
       "1. 2\n",
       "2. 2\n",
       "3. 3\n",
       "4. 2\n",
       "5. 1\n",
       "\n",
       "\n"
      ],
      "text/plain": [
       "[1] 2 2 3 2 1"
      ]
     },
     "metadata": {},
     "output_type": "display_data"
    }
   ],
   "source": [
    "Frecuencia <- as.numeric(hiss$counts)\n",
    "Frecuencia"
   ]
  },
  {
   "cell_type": "code",
   "execution_count": 118,
   "metadata": {},
   "outputs": [
    {
     "data": {
      "text/html": [
       "<ol class=list-inline>\n",
       "\t<li>0.2</li>\n",
       "\t<li>0.2</li>\n",
       "\t<li>0.3</li>\n",
       "\t<li>0.2</li>\n",
       "\t<li>0.1</li>\n",
       "</ol>\n"
      ],
      "text/latex": [
       "\\begin{enumerate*}\n",
       "\\item 0.2\n",
       "\\item 0.2\n",
       "\\item 0.3\n",
       "\\item 0.2\n",
       "\\item 0.1\n",
       "\\end{enumerate*}\n"
      ],
      "text/markdown": [
       "1. 0.2\n",
       "2. 0.2\n",
       "3. 0.3\n",
       "4. 0.2\n",
       "5. 0.1\n",
       "\n",
       "\n"
      ],
      "text/plain": [
       "[1] 0.2 0.2 0.3 0.2 0.1"
      ]
     },
     "metadata": {},
     "output_type": "display_data"
    }
   ],
   "source": [
    "Frecuencia_relativa <- (hiss$density)*100\n",
    "Frecuencia_relativa"
   ]
  },
  {
   "cell_type": "code",
   "execution_count": 125,
   "metadata": {},
   "outputs": [
    {
     "data": {
      "text/html": [
       "<ol class=list-inline>\n",
       "\t<li>2</li>\n",
       "\t<li>4</li>\n",
       "\t<li>7</li>\n",
       "\t<li>9</li>\n",
       "\t<li>10</li>\n",
       "</ol>\n"
      ],
      "text/latex": [
       "\\begin{enumerate*}\n",
       "\\item 2\n",
       "\\item 4\n",
       "\\item 7\n",
       "\\item 9\n",
       "\\item 10\n",
       "\\end{enumerate*}\n"
      ],
      "text/markdown": [
       "1. 2\n",
       "2. 4\n",
       "3. 7\n",
       "4. 9\n",
       "5. 10\n",
       "\n",
       "\n"
      ],
      "text/plain": [
       "[1]  2  4  7  9 10"
      ]
     },
     "metadata": {},
     "output_type": "display_data"
    }
   ],
   "source": [
    "Frecuencia_acumulada <- cumsum(Frecuencia)\n",
    "Frecuencia_acumulada"
   ]
  },
  {
   "cell_type": "code",
   "execution_count": 126,
   "metadata": {},
   "outputs": [
    {
     "data": {
      "text/html": [
       "<ol class=list-inline>\n",
       "\t<li>0.2</li>\n",
       "\t<li>0.4</li>\n",
       "\t<li>0.7</li>\n",
       "\t<li>0.9</li>\n",
       "\t<li>1</li>\n",
       "</ol>\n"
      ],
      "text/latex": [
       "\\begin{enumerate*}\n",
       "\\item 0.2\n",
       "\\item 0.4\n",
       "\\item 0.7\n",
       "\\item 0.9\n",
       "\\item 1\n",
       "\\end{enumerate*}\n"
      ],
      "text/markdown": [
       "1. 0.2\n",
       "2. 0.4\n",
       "3. 0.7\n",
       "4. 0.9\n",
       "5. 1\n",
       "\n",
       "\n"
      ],
      "text/plain": [
       "[1] 0.2 0.4 0.7 0.9 1.0"
      ]
     },
     "metadata": {},
     "output_type": "display_data"
    }
   ],
   "source": [
    "Frecuencia_relativa_acumulada <- cumsum(Frecuencia_relativa) \n",
    "Frecuencia_relativa_acumulada"
   ]
  },
  {
   "cell_type": "code",
   "execution_count": 143,
   "metadata": {},
   "outputs": [
    {
     "data": {
      "text/html": [
       "<table>\n",
       "<thead><tr><th scope=col>Clases</th><th scope=col>Frecuencia</th><th scope=col>Frecuencia_relativa</th><th scope=col>Frecuencia_acumulada</th><th scope=col>Frecuencia_relativa_acumulada</th></tr></thead>\n",
       "<tbody>\n",
       "\t<tr><td><span style=white-space:pre-wrap>&lt;=2600      </span></td><td>2                                                      </td><td>0.2                                                    </td><td> 2                                                     </td><td>0.2                                                    </td></tr>\n",
       "\t<tr><td>(2600, 2700]</td><td>2           </td><td>0.2         </td><td> 4          </td><td>0.4         </td></tr>\n",
       "\t<tr><td>(2700, 2800]</td><td>3           </td><td>0.3         </td><td> 7          </td><td>0.7         </td></tr>\n",
       "\t<tr><td>(2800, 2900]</td><td>2           </td><td>0.2         </td><td> 9          </td><td>0.9         </td></tr>\n",
       "\t<tr><td>(2900, 3000]</td><td>1           </td><td>0.1         </td><td>10          </td><td>1.0         </td></tr>\n",
       "</tbody>\n",
       "</table>\n"
      ],
      "text/latex": [
       "\\begin{tabular}{r|lllll}\n",
       " Clases & Frecuencia & Frecuencia\\_relativa & Frecuencia\\_acumulada & Frecuencia\\_relativa\\_acumulada\\\\\n",
       "\\hline\n",
       "\t <=2600       & 2            & 0.2          &  2           & 0.2         \\\\\n",
       "\t (2600, 2700{]} & 2              & 0.2            &  4             & 0.4           \\\\\n",
       "\t (2700, 2800{]} & 3              & 0.3            &  7             & 0.7           \\\\\n",
       "\t (2800, 2900{]} & 2              & 0.2            &  9             & 0.9           \\\\\n",
       "\t (2900, 3000{]} & 1              & 0.1            & 10             & 1.0           \\\\\n",
       "\\end{tabular}\n"
      ],
      "text/markdown": [
       "\n",
       "Clases | Frecuencia | Frecuencia_relativa | Frecuencia_acumulada | Frecuencia_relativa_acumulada | \n",
       "|---|---|---|---|---|\n",
       "| <=2600       | 2            | 0.2          |  2           | 0.2          | \n",
       "| (2600, 2700] | 2            | 0.2          |  4           | 0.4          | \n",
       "| (2700, 2800] | 3            | 0.3          |  7           | 0.7          | \n",
       "| (2800, 2900] | 2            | 0.2          |  9           | 0.9          | \n",
       "| (2900, 3000] | 1            | 0.1          | 10           | 1.0          | \n",
       "\n",
       "\n"
      ],
      "text/plain": [
       "  Clases       Frecuencia Frecuencia_relativa Frecuencia_acumulada\n",
       "1 <=2600       2          0.2                  2                  \n",
       "2 (2600, 2700] 2          0.2                  4                  \n",
       "3 (2700, 2800] 3          0.3                  7                  \n",
       "4 (2800, 2900] 2          0.2                  9                  \n",
       "5 (2900, 3000] 1          0.1                 10                  \n",
       "  Frecuencia_relativa_acumulada\n",
       "1 0.2                          \n",
       "2 0.4                          \n",
       "3 0.7                          \n",
       "4 0.9                          \n",
       "5 1.0                          "
      ]
     },
     "metadata": {},
     "output_type": "display_data"
    }
   ],
   "source": [
    "Tabla <- data.frame(Clases, Frecuencia, Frecuencia_relativa, Frecuencia_acumulada, Frecuencia_relativa_acumulada)\n",
    "Tabla"
   ]
  },
  {
   "cell_type": "code",
   "execution_count": 155,
   "metadata": {},
   "outputs": [
    {
     "data": {
      "text/html": [
       "<dl class=dl-horizontal>\n",
       "\t<dt>Frecuencia</dt>\n",
       "\t\t<dd>10</dd>\n",
       "\t<dt>Frecuencia_relativa</dt>\n",
       "\t\t<dd>1</dd>\n",
       "</dl>\n"
      ],
      "text/latex": [
       "\\begin{description*}\n",
       "\\item[Frecuencia] 10\n",
       "\\item[Frecuencia\\textbackslash{}\\_relativa] 1\n",
       "\\end{description*}\n"
      ],
      "text/markdown": [
       "Frecuencia\n",
       ":   10Frecuencia_relativa\n",
       ":   1\n",
       "\n"
      ],
      "text/plain": [
       "         Frecuencia Frecuencia_relativa \n",
       "                 10                   1 "
      ]
     },
     "metadata": {},
     "output_type": "display_data"
    }
   ],
   "source": [
    "colSums(Tabla[,2:3])"
   ]
  },
  {
   "cell_type": "code",
   "execution_count": null,
   "metadata": {},
   "outputs": [],
   "source": []
  }
 ],
 "metadata": {
  "kernelspec": {
   "display_name": "R",
   "language": "R",
   "name": "ir"
  },
  "language_info": {
   "codemirror_mode": "r",
   "file_extension": ".r",
   "mimetype": "text/x-r-source",
   "name": "R",
   "pygments_lexer": "r",
   "version": "3.4.3"
  },
  "nikola": {
   "category": "R",
   "date": "2018-09-12 14:03:53 UTC+10:00",
   "slug": "estadisticas_en_R",
   "title": "Estadística Descriptiva en R (Parte 1)"
  }
 },
 "nbformat": 4,
 "nbformat_minor": 2
}
