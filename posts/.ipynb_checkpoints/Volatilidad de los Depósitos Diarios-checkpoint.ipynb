{
 "cells": [
  {
   "cell_type": "markdown",
   "metadata": {
    "hideCode": false,
    "hidePrompt": false
   },
   "source": [
    "# Volatilidad de los Depósitos Diarios"
   ]
  },
  {
   "cell_type": "code",
   "execution_count": 1,
   "metadata": {
    "hideCode": false,
    "hidePrompt": false
   },
   "outputs": [],
   "source": [
    "#Tipo de Cambio\n",
    "Tipo = 31.9140 #\n",
    "# Caída promedio diaria según Néstor\n",
    "caida_promedio_diaria = 4.8\n",
    "# Depósitos del Público en Abril 2018\n",
    "depositos_publico_abril = 5383.9\n",
    "# Depósitos a la Fecha: 24/09/2018"
   ]
  },
  {
   "cell_type": "code",
   "execution_count": 2,
   "metadata": {
    "hideCode": false,
    "hidePrompt": false
   },
   "outputs": [],
   "source": [
    "import tabula\n",
    "from tabula import read_pdf\n",
    "import numpy as np\n",
    "import pandas as pd"
   ]
  },
  {
   "cell_type": "code",
   "execution_count": 3,
   "metadata": {
    "hideCode": false,
    "hidePrompt": false
   },
   "outputs": [
    {
     "data": {
      "text/html": [
       "<div>\n",
       "<style scoped>\n",
       "    .dataframe tbody tr th:only-of-type {\n",
       "        vertical-align: middle;\n",
       "    }\n",
       "\n",
       "    .dataframe tbody tr th {\n",
       "        vertical-align: top;\n",
       "    }\n",
       "\n",
       "    .dataframe thead th {\n",
       "        text-align: right;\n",
       "    }\n",
       "</style>\n",
       "<table border=\"1\" class=\"dataframe\">\n",
       "  <thead>\n",
       "    <tr style=\"text-align: right;\">\n",
       "      <th></th>\n",
       "      <th>0</th>\n",
       "      <th>1</th>\n",
       "      <th>2</th>\n",
       "      <th>3</th>\n",
       "      <th>4</th>\n",
       "      <th>5</th>\n",
       "      <th>6</th>\n",
       "      <th>7</th>\n",
       "      <th>8</th>\n",
       "      <th>9</th>\n",
       "      <th>10</th>\n",
       "      <th>11</th>\n",
       "    </tr>\n",
       "  </thead>\n",
       "  <tbody>\n",
       "    <tr>\n",
       "      <th>0</th>\n",
       "      <td>BANPRO</td>\n",
       "      <td>15,794.0</td>\n",
       "      <td>401.6</td>\n",
       "      <td>18.1</td>\n",
       "      <td>899.5</td>\n",
       "      <td>6.0%</td>\n",
       "      <td>176.6</td>\n",
       "      <td>16.2%</td>\n",
       "      <td>15.8%</td>\n",
       "      <td>975.5</td>\n",
       "      <td>13.1%</td>\n",
       "      <td>34.4</td>\n",
       "    </tr>\n",
       "    <tr>\n",
       "      <th>1</th>\n",
       "      <td>BANCO LAFISE BA</td>\n",
       "      <td>7,890.7</td>\n",
       "      <td>-154.2</td>\n",
       "      <td>-126.9</td>\n",
       "      <td>-1,639.9</td>\n",
       "      <td>-17.2%</td>\n",
       "      <td>377.5</td>\n",
       "      <td>18.3%</td>\n",
       "      <td>19.9%</td>\n",
       "      <td>635.6</td>\n",
       "      <td>17.7%</td>\n",
       "      <td>3.8</td>\n",
       "    </tr>\n",
       "    <tr>\n",
       "      <th>2</th>\n",
       "      <td>BAC</td>\n",
       "      <td>6,415.5</td>\n",
       "      <td>15.3</td>\n",
       "      <td>218.8</td>\n",
       "      <td>-2,248.3</td>\n",
       "      <td>-25.9%</td>\n",
       "      <td>269.2</td>\n",
       "      <td>20.0%</td>\n",
       "      <td>18.9%</td>\n",
       "      <td>622.0</td>\n",
       "      <td>28.4%</td>\n",
       "      <td>53.8</td>\n",
       "    </tr>\n",
       "    <tr>\n",
       "      <th>3</th>\n",
       "      <td>BDF</td>\n",
       "      <td>1,746.0</td>\n",
       "      <td>-23.2</td>\n",
       "      <td>-129.8</td>\n",
       "      <td>-381.3</td>\n",
       "      <td>-17.9%</td>\n",
       "      <td>72.6</td>\n",
       "      <td>20.7%</td>\n",
       "      <td>20.9%</td>\n",
       "      <td>181.9</td>\n",
       "      <td>21.5%</td>\n",
       "      <td>40.2</td>\n",
       "    </tr>\n",
       "    <tr>\n",
       "      <th>4</th>\n",
       "      <td>BANCO FICOHSA N</td>\n",
       "      <td>1,098.1</td>\n",
       "      <td>-29.5</td>\n",
       "      <td>-281.7</td>\n",
       "      <td>-72.6</td>\n",
       "      <td>-6.2%</td>\n",
       "      <td>389.3</td>\n",
       "      <td>27.3%</td>\n",
       "      <td>26.7%</td>\n",
       "      <td>118.7</td>\n",
       "      <td>16.2%</td>\n",
       "      <td>4.6</td>\n",
       "    </tr>\n",
       "    <tr>\n",
       "      <th>5</th>\n",
       "      <td>AVANZ</td>\n",
       "      <td>510.8</td>\n",
       "      <td>-3.0</td>\n",
       "      <td>-89.6</td>\n",
       "      <td>-30.6</td>\n",
       "      <td>-5.7%</td>\n",
       "      <td>34.0</td>\n",
       "      <td>15.3%</td>\n",
       "      <td>17.4%</td>\n",
       "      <td>25.2</td>\n",
       "      <td>33.3%</td>\n",
       "      <td>3.6</td>\n",
       "    </tr>\n",
       "    <tr>\n",
       "      <th>6</th>\n",
       "      <td>BANCORP</td>\n",
       "      <td>3,488.9</td>\n",
       "      <td>24.6</td>\n",
       "      <td>10.9</td>\n",
       "      <td>182.7</td>\n",
       "      <td>5.5%</td>\n",
       "      <td>0.0</td>\n",
       "      <td>42.8%</td>\n",
       "      <td>43.4%</td>\n",
       "      <td>1,138.1</td>\n",
       "      <td>4.1%</td>\n",
       "      <td>0.0</td>\n",
       "    </tr>\n",
       "    <tr>\n",
       "      <th>7</th>\n",
       "      <td>TOTAL C$</td>\n",
       "      <td>36,944.1</td>\n",
       "      <td>231.7</td>\n",
       "      <td>-380.3</td>\n",
       "      <td>-3,290.5</td>\n",
       "      <td>-8.2%</td>\n",
       "      <td>1,319.3</td>\n",
       "      <td>NaN</td>\n",
       "      <td>NaN</td>\n",
       "      <td>3,697.1</td>\n",
       "      <td>NaN</td>\n",
       "      <td>140.2</td>\n",
       "    </tr>\n",
       "  </tbody>\n",
       "</table>\n",
       "</div>"
      ],
      "text/plain": [
       "                0         1      2      3         4       5        6      7   \\\n",
       "0           BANPRO  15,794.0  401.6   18.1     899.5    6.0%    176.6  16.2%   \n",
       "1  BANCO LAFISE BA   7,890.7 -154.2 -126.9  -1,639.9  -17.2%    377.5  18.3%   \n",
       "2              BAC   6,415.5   15.3  218.8  -2,248.3  -25.9%    269.2  20.0%   \n",
       "3              BDF   1,746.0  -23.2 -129.8    -381.3  -17.9%     72.6  20.7%   \n",
       "4  BANCO FICOHSA N   1,098.1  -29.5 -281.7     -72.6   -6.2%    389.3  27.3%   \n",
       "5            AVANZ     510.8   -3.0  -89.6     -30.6   -5.7%     34.0  15.3%   \n",
       "6          BANCORP   3,488.9   24.6   10.9     182.7    5.5%      0.0  42.8%   \n",
       "7         TOTAL C$  36,944.1  231.7 -380.3  -3,290.5   -8.2%  1,319.3    NaN   \n",
       "\n",
       "      8        9      10     11  \n",
       "0  15.8%    975.5  13.1%   34.4  \n",
       "1  19.9%    635.6  17.7%    3.8  \n",
       "2  18.9%    622.0  28.4%   53.8  \n",
       "3  20.9%    181.9  21.5%   40.2  \n",
       "4  26.7%    118.7  16.2%    4.6  \n",
       "5  17.4%     25.2  33.3%    3.6  \n",
       "6  43.4%  1,138.1   4.1%    0.0  \n",
       "7    NaN  3,697.1    NaN  140.2  "
      ]
     },
     "execution_count": 3,
     "metadata": {},
     "output_type": "execute_result"
    }
   ],
   "source": [
    "#Obteniendo en córdobas:\n",
    "dcs = tabula.read_pdf('C:/Users/Deybi.Morales/Documents/Bitbucket/simplystats-master/content/Reporte Diario Depositos y Liquidez FOGADE-es-ni_250918.pdf', \n",
    "                spreadsheet=True,\n",
    "                area=(186.278,10.328,282.668,600.908 ), \n",
    "                pandas_options = {'header': None})\n",
    "dcs"
   ]
  },
  {
   "cell_type": "code",
   "execution_count": 4,
   "metadata": {
    "hideCode": false,
    "hidePrompt": false
   },
   "outputs": [],
   "source": [
    "#Convertir en dólares\n"
   ]
  },
  {
   "cell_type": "code",
   "execution_count": null,
   "metadata": {
    "hideCode": false,
    "hidePrompt": false
   },
   "outputs": [],
   "source": []
  },
  {
   "cell_type": "code",
   "execution_count": null,
   "metadata": {
    "hideCode": false,
    "hidePrompt": false
   },
   "outputs": [],
   "source": []
  },
  {
   "cell_type": "code",
   "execution_count": null,
   "metadata": {
    "hideCode": false,
    "hidePrompt": false
   },
   "outputs": [],
   "source": []
  },
  {
   "cell_type": "code",
   "execution_count": null,
   "metadata": {
    "hideCode": false,
    "hidePrompt": false
   },
   "outputs": [],
   "source": []
  },
  {
   "cell_type": "code",
   "execution_count": null,
   "metadata": {
    "hideCode": false,
    "hidePrompt": false
   },
   "outputs": [],
   "source": []
  },
  {
   "cell_type": "code",
   "execution_count": 65,
   "metadata": {
    "hideCode": false,
    "hideOutput": true,
    "hidePrompt": false
   },
   "outputs": [
    {
     "data": {
      "text/html": [
       "<div>\n",
       "<style scoped>\n",
       "    .dataframe tbody tr th:only-of-type {\n",
       "        vertical-align: middle;\n",
       "    }\n",
       "\n",
       "    .dataframe tbody tr th {\n",
       "        vertical-align: top;\n",
       "    }\n",
       "\n",
       "    .dataframe thead th {\n",
       "        text-align: right;\n",
       "    }\n",
       "</style>\n",
       "<table border=\"1\" class=\"dataframe\">\n",
       "  <thead>\n",
       "    <tr style=\"text-align: right;\">\n",
       "      <th></th>\n",
       "      <th>0</th>\n",
       "      <th>1</th>\n",
       "      <th>2</th>\n",
       "      <th>3</th>\n",
       "      <th>4</th>\n",
       "      <th>5</th>\n",
       "      <th>6</th>\n",
       "      <th>7</th>\n",
       "      <th>8</th>\n",
       "      <th>9</th>\n",
       "      <th>10</th>\n",
       "      <th>11</th>\n",
       "    </tr>\n",
       "  </thead>\n",
       "  <tbody>\n",
       "    <tr>\n",
       "      <th>0</th>\n",
       "      <td>BANPRO</td>\n",
       "      <td>906.1</td>\n",
       "      <td>-1.2</td>\n",
       "      <td>-54.5</td>\n",
       "      <td>-246.3</td>\n",
       "      <td>-21.4%</td>\n",
       "      <td>34.6</td>\n",
       "      <td>16.6%</td>\n",
       "      <td>16.3%</td>\n",
       "      <td>58.0</td>\n",
       "      <td>4.0%</td>\n",
       "      <td>97.8</td>\n",
       "    </tr>\n",
       "    <tr>\n",
       "      <th>1</th>\n",
       "      <td>BANCO LAFISE BA</td>\n",
       "      <td>753.6</td>\n",
       "      <td>4.2</td>\n",
       "      <td>-53.4</td>\n",
       "      <td>-182.5</td>\n",
       "      <td>-19.5%</td>\n",
       "      <td>39.5</td>\n",
       "      <td>15.5%</td>\n",
       "      <td>15.6%</td>\n",
       "      <td>39.6</td>\n",
       "      <td>2.4%</td>\n",
       "      <td>63.8</td>\n",
       "    </tr>\n",
       "    <tr>\n",
       "      <th>2</th>\n",
       "      <td>BAC</td>\n",
       "      <td>931.7</td>\n",
       "      <td>6.3</td>\n",
       "      <td>-31.3</td>\n",
       "      <td>-156.0</td>\n",
       "      <td>-14.3%</td>\n",
       "      <td>171.3</td>\n",
       "      <td>20.4%</td>\n",
       "      <td>21.7%</td>\n",
       "      <td>79.5</td>\n",
       "      <td>6.7%</td>\n",
       "      <td>84.9</td>\n",
       "    </tr>\n",
       "    <tr>\n",
       "      <th>3</th>\n",
       "      <td>BDF</td>\n",
       "      <td>359.6</td>\n",
       "      <td>-0.8</td>\n",
       "      <td>-12.6</td>\n",
       "      <td>-60.2</td>\n",
       "      <td>-14.3%</td>\n",
       "      <td>45.4</td>\n",
       "      <td>20.6%</td>\n",
       "      <td>20.2%</td>\n",
       "      <td>34.2</td>\n",
       "      <td>5.2%</td>\n",
       "      <td>13.3</td>\n",
       "    </tr>\n",
       "    <tr>\n",
       "      <th>4</th>\n",
       "      <td>BANCO FICOHSA N</td>\n",
       "      <td>205.7</td>\n",
       "      <td>1.1</td>\n",
       "      <td>-3.5</td>\n",
       "      <td>-50.7</td>\n",
       "      <td>-19.8%</td>\n",
       "      <td>37.5</td>\n",
       "      <td>16.2%</td>\n",
       "      <td>16.4%</td>\n",
       "      <td>10.4</td>\n",
       "      <td>3.9%</td>\n",
       "      <td>30.1</td>\n",
       "    </tr>\n",
       "    <tr>\n",
       "      <th>5</th>\n",
       "      <td>AVANZ</td>\n",
       "      <td>125.0</td>\n",
       "      <td>0.4</td>\n",
       "      <td>-4.6</td>\n",
       "      <td>-6.1</td>\n",
       "      <td>-4.7%</td>\n",
       "      <td>20.9</td>\n",
       "      <td>17.9%</td>\n",
       "      <td>17.9%</td>\n",
       "      <td>8.2</td>\n",
       "      <td>7.4%</td>\n",
       "      <td>9.6</td>\n",
       "    </tr>\n",
       "    <tr>\n",
       "      <th>6</th>\n",
       "      <td>BANCORP</td>\n",
       "      <td>235.3</td>\n",
       "      <td>2.6</td>\n",
       "      <td>0.1</td>\n",
       "      <td>12.9</td>\n",
       "      <td>5.8%</td>\n",
       "      <td>0.0</td>\n",
       "      <td>35.3%</td>\n",
       "      <td>35.2%</td>\n",
       "      <td>58.7</td>\n",
       "      <td>3.3%</td>\n",
       "      <td>1.2</td>\n",
       "    </tr>\n",
       "    <tr>\n",
       "      <th>7</th>\n",
       "      <td>TOTAL US$</td>\n",
       "      <td>3,517.0</td>\n",
       "      <td>12.5</td>\n",
       "      <td>-159.8</td>\n",
       "      <td>-688.8</td>\n",
       "      <td>-16.4%</td>\n",
       "      <td>349.1</td>\n",
       "      <td>NaN</td>\n",
       "      <td>NaN</td>\n",
       "      <td>288.7</td>\n",
       "      <td>NaN</td>\n",
       "      <td>300.7</td>\n",
       "    </tr>\n",
       "  </tbody>\n",
       "</table>\n",
       "</div>"
      ],
      "text/plain": [
       "                0        1     2      3      4       5      6      7      8   \\\n",
       "0           BANPRO    906.1  -1.2  -54.5 -246.3  -21.4%   34.6  16.6%  16.3%   \n",
       "1  BANCO LAFISE BA    753.6   4.2  -53.4 -182.5  -19.5%   39.5  15.5%  15.6%   \n",
       "2              BAC    931.7   6.3  -31.3 -156.0  -14.3%  171.3  20.4%  21.7%   \n",
       "3              BDF    359.6  -0.8  -12.6  -60.2  -14.3%   45.4  20.6%  20.2%   \n",
       "4  BANCO FICOHSA N    205.7   1.1   -3.5  -50.7  -19.8%   37.5  16.2%  16.4%   \n",
       "5            AVANZ    125.0   0.4   -4.6   -6.1   -4.7%   20.9  17.9%  17.9%   \n",
       "6          BANCORP    235.3   2.6    0.1   12.9    5.8%    0.0  35.3%  35.2%   \n",
       "7        TOTAL US$  3,517.0  12.5 -159.8 -688.8  -16.4%  349.1    NaN    NaN   \n",
       "\n",
       "      9     10     11  \n",
       "0   58.0  4.0%   97.8  \n",
       "1   39.6  2.4%   63.8  \n",
       "2   79.5  6.7%   84.9  \n",
       "3   34.2  5.2%   13.3  \n",
       "4   10.4  3.9%   30.1  \n",
       "5    8.2  7.4%    9.6  \n",
       "6   58.7  3.3%    1.2  \n",
       "7  288.7   NaN  300.7  "
      ]
     },
     "execution_count": 65,
     "metadata": {},
     "output_type": "execute_result"
    }
   ],
   "source": [
    "#Obteniendo en dólares:\n",
    "ds = tabula.read_pdf('C:/Users/Deybi.Morales/Documents/Bitbucket/simplystats-master/content/Reporte Diario Depositos y Liquidez FOGADE-es-ni_250918.pdf', \n",
    "                spreadsheet=True,\n",
    "                area=(359.933,11.858,454.793,602.438 ), \n",
    "                pandas_options = {'header': None})\n",
    "ds"
   ]
  },
  {
   "cell_type": "code",
   "execution_count": 66,
   "metadata": {
    "hideCode": true,
    "hidePrompt": true
   },
   "outputs": [
    {
     "data": {
      "text/html": [
       "<div>\n",
       "<style scoped>\n",
       "    .dataframe tbody tr th:only-of-type {\n",
       "        vertical-align: middle;\n",
       "    }\n",
       "\n",
       "    .dataframe tbody tr th {\n",
       "        vertical-align: top;\n",
       "    }\n",
       "\n",
       "    .dataframe thead th {\n",
       "        text-align: right;\n",
       "    }\n",
       "</style>\n",
       "<table border=\"1\" class=\"dataframe\">\n",
       "  <thead>\n",
       "    <tr style=\"text-align: right;\">\n",
       "      <th></th>\n",
       "      <th>0</th>\n",
       "      <th>1</th>\n",
       "      <th>2</th>\n",
       "      <th>3</th>\n",
       "      <th>4</th>\n",
       "      <th>5</th>\n",
       "      <th>6</th>\n",
       "      <th>7</th>\n",
       "      <th>8</th>\n",
       "      <th>9</th>\n",
       "      <th>10</th>\n",
       "      <th>11</th>\n",
       "    </tr>\n",
       "  </thead>\n",
       "  <tbody>\n",
       "    <tr>\n",
       "      <th>0</th>\n",
       "      <td>BANPRO</td>\n",
       "      <td>1,401.0</td>\n",
       "      <td>11.3</td>\n",
       "      <td>-55.5</td>\n",
       "      <td>-235.1</td>\n",
       "      <td>-14.4%</td>\n",
       "      <td>40.1</td>\n",
       "      <td>16.5%</td>\n",
       "      <td>16.2%</td>\n",
       "      <td>88.6</td>\n",
       "      <td>7.2%</td>\n",
       "      <td>97.8</td>\n",
       "    </tr>\n",
       "    <tr>\n",
       "      <th>1</th>\n",
       "      <td>BANCO LAFISE BA</td>\n",
       "      <td>1,000.8</td>\n",
       "      <td>-0.7</td>\n",
       "      <td>-58.2</td>\n",
       "      <td>-244.7</td>\n",
       "      <td>-19.6%</td>\n",
       "      <td>51.3</td>\n",
       "      <td>16.2%</td>\n",
       "      <td>16.7%</td>\n",
       "      <td>59.6</td>\n",
       "      <td>6.2%</td>\n",
       "      <td>63.8</td>\n",
       "    </tr>\n",
       "    <tr>\n",
       "      <th>2</th>\n",
       "      <td>BAC</td>\n",
       "      <td>1,132.8</td>\n",
       "      <td>6.7</td>\n",
       "      <td>-25.1</td>\n",
       "      <td>-236.3</td>\n",
       "      <td>-17.3%</td>\n",
       "      <td>179.7</td>\n",
       "      <td>20.3%</td>\n",
       "      <td>21.2%</td>\n",
       "      <td>99.0</td>\n",
       "      <td>10.5%</td>\n",
       "      <td>84.9</td>\n",
       "    </tr>\n",
       "    <tr>\n",
       "      <th>3</th>\n",
       "      <td>BDF</td>\n",
       "      <td>414.3</td>\n",
       "      <td>-1.5</td>\n",
       "      <td>-16.9</td>\n",
       "      <td>-74.5</td>\n",
       "      <td>-15.2%</td>\n",
       "      <td>47.7</td>\n",
       "      <td>20.6%</td>\n",
       "      <td>20.3%</td>\n",
       "      <td>39.9</td>\n",
       "      <td>7.4%</td>\n",
       "      <td>13.3</td>\n",
       "    </tr>\n",
       "    <tr>\n",
       "      <th>4</th>\n",
       "      <td>BANCO FICOHSA N</td>\n",
       "      <td>240.1</td>\n",
       "      <td>0.1</td>\n",
       "      <td>-12.4</td>\n",
       "      <td>-54.3</td>\n",
       "      <td>-18.4%</td>\n",
       "      <td>49.7</td>\n",
       "      <td>17.4%</td>\n",
       "      <td>17.6%</td>\n",
       "      <td>14.1</td>\n",
       "      <td>5.7%</td>\n",
       "      <td>30.1</td>\n",
       "    </tr>\n",
       "    <tr>\n",
       "      <th>5</th>\n",
       "      <td>AVANZ</td>\n",
       "      <td>141.0</td>\n",
       "      <td>0.3</td>\n",
       "      <td>-7.5</td>\n",
       "      <td>-7.7</td>\n",
       "      <td>-5.2%</td>\n",
       "      <td>22.0</td>\n",
       "      <td>17.6%</td>\n",
       "      <td>17.8%</td>\n",
       "      <td>9.0</td>\n",
       "      <td>10.3%</td>\n",
       "      <td>9.6</td>\n",
       "    </tr>\n",
       "    <tr>\n",
       "      <th>6</th>\n",
       "      <td>BANCORP</td>\n",
       "      <td>344.7</td>\n",
       "      <td>3.4</td>\n",
       "      <td>0.0</td>\n",
       "      <td>14.9</td>\n",
       "      <td>4.5%</td>\n",
       "      <td>0.0</td>\n",
       "      <td>37.7%</td>\n",
       "      <td>37.8%</td>\n",
       "      <td>94.4</td>\n",
       "      <td>3.6%</td>\n",
       "      <td>1.2</td>\n",
       "    </tr>\n",
       "    <tr>\n",
       "      <th>7</th>\n",
       "      <td>TOTAL US$</td>\n",
       "      <td>4,674.7</td>\n",
       "      <td>19.6</td>\n",
       "      <td>-175.6</td>\n",
       "      <td>-837.6</td>\n",
       "      <td>-15.2%</td>\n",
       "      <td>390.5</td>\n",
       "      <td>NaN</td>\n",
       "      <td>NaN</td>\n",
       "      <td>404.8</td>\n",
       "      <td>NaN</td>\n",
       "      <td>300.7</td>\n",
       "    </tr>\n",
       "  </tbody>\n",
       "</table>\n",
       "</div>"
      ],
      "text/plain": [
       "                0        1     2      3      4       5      6      7      8   \\\n",
       "0           BANPRO  1,401.0  11.3  -55.5 -235.1  -14.4%   40.1  16.5%  16.2%   \n",
       "1  BANCO LAFISE BA  1,000.8  -0.7  -58.2 -244.7  -19.6%   51.3  16.2%  16.7%   \n",
       "2              BAC  1,132.8   6.7  -25.1 -236.3  -17.3%  179.7  20.3%  21.2%   \n",
       "3              BDF    414.3  -1.5  -16.9  -74.5  -15.2%   47.7  20.6%  20.3%   \n",
       "4  BANCO FICOHSA N    240.1   0.1  -12.4  -54.3  -18.4%   49.7  17.4%  17.6%   \n",
       "5            AVANZ    141.0   0.3   -7.5   -7.7   -5.2%   22.0  17.6%  17.8%   \n",
       "6          BANCORP    344.7   3.4    0.0   14.9    4.5%    0.0  37.7%  37.8%   \n",
       "7        TOTAL US$  4,674.7  19.6 -175.6 -837.6  -15.2%  390.5    NaN    NaN   \n",
       "\n",
       "      9      10     11  \n",
       "0   88.6   7.2%   97.8  \n",
       "1   59.6   6.2%   63.8  \n",
       "2   99.0  10.5%   84.9  \n",
       "3   39.9   7.4%   13.3  \n",
       "4   14.1   5.7%   30.1  \n",
       "5    9.0  10.3%    9.6  \n",
       "6   94.4   3.6%    1.2  \n",
       "7  404.8    NaN  300.7  "
      ]
     },
     "execution_count": 66,
     "metadata": {},
     "output_type": "execute_result"
    }
   ],
   "source": [
    "#Consolidados en dólares:\n",
    "d = tabula.read_pdf('C:/Users/Deybi.Morales/Documents/Bitbucket/simplystats-master/content/Reporte Diario Depositos y Liquidez FOGADE-es-ni_250918.pdf', \n",
    "                spreadsheet=True,\n",
    "                area=(528.998,8.798,626.153,600.143 ), \n",
    "                pandas_options = {'header': None})\n",
    "d"
   ]
  },
  {
   "cell_type": "code",
   "execution_count": 67,
   "metadata": {
    "hideCode": false,
    "hidePrompt": false
   },
   "outputs": [],
   "source": [
    "TOTALES = list(map(str, d[1]))   #Tiene coma se quita\n",
    "#TOTALES"
   ]
  },
  {
   "cell_type": "code",
   "execution_count": 68,
   "metadata": {
    "hideCode": false,
    "hidePrompt": false
   },
   "outputs": [
    {
     "data": {
      "text/plain": [
       "array([1401. , 1000.8, 1132.8,  414.3,  240.1,  141. ,  344.7, 4674.7])"
      ]
     },
     "execution_count": 68,
     "metadata": {},
     "output_type": "execute_result"
    }
   ],
   "source": [
    "totales = [c.replace(',', '') for c in TOTALES]\n",
    "totales = np.array(totales,dtype=float)\n",
    "totales"
   ]
  },
  {
   "cell_type": "code",
   "execution_count": 69,
   "metadata": {
    "hideCode": false,
    "hidePrompt": false
   },
   "outputs": [],
   "source": [
    "INSTITUCIONES = list(map(str, d[6])) #Tiene coma se quita\n",
    "#INSTITUCIONES"
   ]
  },
  {
   "cell_type": "code",
   "execution_count": 70,
   "metadata": {
    "hideCode": false,
    "hidePrompt": false
   },
   "outputs": [
    {
     "data": {
      "text/plain": [
       "array([ 40.1,  51.3, 179.7,  47.7,  49.7,  22. ,   0. , 390.5])"
      ]
     },
     "execution_count": 70,
     "metadata": {},
     "output_type": "execute_result"
    }
   ],
   "source": [
    "instituciones = [c.replace(',', '') for c in INSTITUCIONES]\n",
    "instituciones = np.array(instituciones,dtype=float)\n",
    "instituciones"
   ]
  },
  {
   "cell_type": "code",
   "execution_count": 71,
   "metadata": {
    "hideCode": false,
    "hidePrompt": false
   },
   "outputs": [],
   "source": [
    "ENCAJEDIA = list(map(str, d.iloc[0:7,7]))\n",
    "#ENCAJEDIA"
   ]
  },
  {
   "cell_type": "code",
   "execution_count": 72,
   "metadata": {
    "hideCode": false,
    "hidePrompt": false
   },
   "outputs": [
    {
     "data": {
      "text/plain": [
       "array([0.165, 0.162, 0.203, 0.206, 0.174, 0.176, 0.377])"
      ]
     },
     "execution_count": 72,
     "metadata": {},
     "output_type": "execute_result"
    }
   ],
   "source": [
    "encajedia = [c.replace('%', '') for c in ENCAJEDIA] #Tiene % se quita\n",
    "import numpy as np\n",
    "encajedia = np.array(encajedia,dtype=float) / 100\n",
    "encajedia"
   ]
  },
  {
   "cell_type": "code",
   "execution_count": 73,
   "metadata": {
    "hideCode": false,
    "hidePrompt": false
   },
   "outputs": [],
   "source": [
    "ENCAJESEMANAL = list(map(str, d.iloc[0:7,8]))\n",
    "#ENCAJESEMANAL"
   ]
  },
  {
   "cell_type": "code",
   "execution_count": 74,
   "metadata": {
    "hideCode": false,
    "hidePrompt": false
   },
   "outputs": [
    {
     "data": {
      "text/plain": [
       "array([0.162, 0.167, 0.212, 0.203, 0.176, 0.178, 0.378])"
      ]
     },
     "execution_count": 74,
     "metadata": {},
     "output_type": "execute_result"
    }
   ],
   "source": [
    "encajesemanal = [c.replace('%', '') for c in ENCAJESEMANAL]\n",
    "encajesemanal = np.array(encajesemanal,dtype=float) / 100\n",
    "encajesemanal"
   ]
  },
  {
   "cell_type": "code",
   "execution_count": 75,
   "metadata": {
    "hideCode": false,
    "hidePrompt": false
   },
   "outputs": [
    {
     "data": {
      "text/plain": [
       "array([1360.9,  949.5,  953.1,  366.6,  190.4,  119. ,  344.7, 4284.2])"
      ]
     },
     "execution_count": 75,
     "metadata": {},
     "output_type": "execute_result"
    }
   ],
   "source": [
    "#Todos los caracteres se han convertido a número para hacer las respectivas operaciones.\n",
    "# Primera operación es la resta de TOTALES - INSTITUCIONES para calcular los DEPÓSITOS DEL PÚBLICO\n",
    "publico = totales - instituciones\n",
    "publico "
   ]
  },
  {
   "cell_type": "code",
   "execution_count": 76,
   "metadata": {
    "hideCode": false,
    "hidePrompt": false
   },
   "outputs": [
    {
     "data": {
      "text/plain": [
       "array([224.5485, 153.819 , 193.4793,  75.5196,  33.1296,  20.944 ,\n",
       "       129.9519])"
      ]
     },
     "execution_count": 76,
     "metadata": {},
     "output_type": "execute_result"
    }
   ],
   "source": [
    "encaje_efectivo_diario = encajedia * (publico[0:7])\n",
    "encaje_efectivo_diario"
   ]
  },
  {
   "cell_type": "code",
   "execution_count": 77,
   "metadata": {
    "hideCode": false,
    "hidePrompt": false
   },
   "outputs": [
    {
     "data": {
      "text/plain": [
       "array([136.09,  94.95,  95.31,  36.66,  19.04,  11.9 ,  34.47])"
      ]
     },
     "execution_count": 77,
     "metadata": {},
     "output_type": "execute_result"
    }
   ],
   "source": [
    "encaje_requerido_diario = (10/100) * (publico[0:7])\n",
    "encaje_requerido_diario"
   ]
  },
  {
   "cell_type": "code",
   "execution_count": 78,
   "metadata": {
    "hideCode": false,
    "hidePrompt": false
   },
   "outputs": [
    {
     "data": {
      "text/plain": [
       "array([88.4585, 58.869 , 98.1693, 38.8596, 14.0896,  9.044 , 95.4819])"
      ]
     },
     "execution_count": 78,
     "metadata": {},
     "output_type": "execute_result"
    }
   ],
   "source": [
    "exceso = encaje_efectivo_diario - encaje_requerido_diario\n",
    "exceso"
   ]
  },
  {
   "cell_type": "code",
   "execution_count": 79,
   "metadata": {
    "hideCode": false,
    "hidePrompt": false,
    "scrolled": true
   },
   "outputs": [
    {
     "data": {
      "text/html": [
       "<div>\n",
       "<style scoped>\n",
       "    .dataframe tbody tr th:only-of-type {\n",
       "        vertical-align: middle;\n",
       "    }\n",
       "\n",
       "    .dataframe tbody tr th {\n",
       "        vertical-align: top;\n",
       "    }\n",
       "\n",
       "    .dataframe thead th {\n",
       "        text-align: right;\n",
       "    }\n",
       "</style>\n",
       "<table border=\"1\" class=\"dataframe\">\n",
       "  <thead>\n",
       "    <tr style=\"text-align: right;\">\n",
       "      <th></th>\n",
       "      <th>BANCO</th>\n",
       "      <th>Depósitos Totales</th>\n",
       "      <th>Instituciones Financieras</th>\n",
       "      <th>Depósitos del Público</th>\n",
       "      <th>Porcentaje de Encaje Diario</th>\n",
       "      <th>Encaje Efectivo</th>\n",
       "      <th>Encaje Requerido</th>\n",
       "      <th>Exceso de Encaje</th>\n",
       "    </tr>\n",
       "  </thead>\n",
       "  <tbody>\n",
       "    <tr>\n",
       "      <th>0</th>\n",
       "      <td>BANPRO</td>\n",
       "      <td>1401.0</td>\n",
       "      <td>40.1</td>\n",
       "      <td>1360.9</td>\n",
       "      <td>16.5</td>\n",
       "      <td>224.5485</td>\n",
       "      <td>136.09</td>\n",
       "      <td>88.4585</td>\n",
       "    </tr>\n",
       "    <tr>\n",
       "      <th>1</th>\n",
       "      <td>LAFISE</td>\n",
       "      <td>1000.8</td>\n",
       "      <td>51.3</td>\n",
       "      <td>949.5</td>\n",
       "      <td>16.2</td>\n",
       "      <td>153.8190</td>\n",
       "      <td>94.95</td>\n",
       "      <td>58.8690</td>\n",
       "    </tr>\n",
       "    <tr>\n",
       "      <th>2</th>\n",
       "      <td>BAC</td>\n",
       "      <td>1132.8</td>\n",
       "      <td>179.7</td>\n",
       "      <td>953.1</td>\n",
       "      <td>20.3</td>\n",
       "      <td>193.4793</td>\n",
       "      <td>95.31</td>\n",
       "      <td>98.1693</td>\n",
       "    </tr>\n",
       "    <tr>\n",
       "      <th>3</th>\n",
       "      <td>BDF</td>\n",
       "      <td>414.3</td>\n",
       "      <td>47.7</td>\n",
       "      <td>366.6</td>\n",
       "      <td>20.6</td>\n",
       "      <td>75.5196</td>\n",
       "      <td>36.66</td>\n",
       "      <td>38.8596</td>\n",
       "    </tr>\n",
       "    <tr>\n",
       "      <th>4</th>\n",
       "      <td>FICOHSA</td>\n",
       "      <td>240.1</td>\n",
       "      <td>49.7</td>\n",
       "      <td>190.4</td>\n",
       "      <td>17.4</td>\n",
       "      <td>33.1296</td>\n",
       "      <td>19.04</td>\n",
       "      <td>14.0896</td>\n",
       "    </tr>\n",
       "    <tr>\n",
       "      <th>5</th>\n",
       "      <td>AVANZ</td>\n",
       "      <td>141.0</td>\n",
       "      <td>22.0</td>\n",
       "      <td>119.0</td>\n",
       "      <td>17.6</td>\n",
       "      <td>20.9440</td>\n",
       "      <td>11.90</td>\n",
       "      <td>9.0440</td>\n",
       "    </tr>\n",
       "    <tr>\n",
       "      <th>6</th>\n",
       "      <td>BANCORP</td>\n",
       "      <td>344.7</td>\n",
       "      <td>0.0</td>\n",
       "      <td>344.7</td>\n",
       "      <td>37.7</td>\n",
       "      <td>129.9519</td>\n",
       "      <td>34.47</td>\n",
       "      <td>95.4819</td>\n",
       "    </tr>\n",
       "  </tbody>\n",
       "</table>\n",
       "</div>"
      ],
      "text/plain": [
       "     BANCO  Depósitos Totales  Instituciones Financieras  \\\n",
       "0   BANPRO             1401.0                       40.1   \n",
       "1   LAFISE             1000.8                       51.3   \n",
       "2      BAC             1132.8                      179.7   \n",
       "3      BDF              414.3                       47.7   \n",
       "4  FICOHSA              240.1                       49.7   \n",
       "5    AVANZ              141.0                       22.0   \n",
       "6  BANCORP              344.7                        0.0   \n",
       "\n",
       "   Depósitos del Público  Porcentaje de Encaje Diario  Encaje Efectivo  \\\n",
       "0                 1360.9                         16.5         224.5485   \n",
       "1                  949.5                         16.2         153.8190   \n",
       "2                  953.1                         20.3         193.4793   \n",
       "3                  366.6                         20.6          75.5196   \n",
       "4                  190.4                         17.4          33.1296   \n",
       "5                  119.0                         17.6          20.9440   \n",
       "6                  344.7                         37.7         129.9519   \n",
       "\n",
       "   Encaje Requerido  Exceso de Encaje  \n",
       "0            136.09           88.4585  \n",
       "1             94.95           58.8690  \n",
       "2             95.31           98.1693  \n",
       "3             36.66           38.8596  \n",
       "4             19.04           14.0896  \n",
       "5             11.90            9.0440  \n",
       "6             34.47           95.4819  "
      ]
     },
     "execution_count": 79,
     "metadata": {},
     "output_type": "execute_result"
    }
   ],
   "source": [
    "depositos_publico = publico[0:7]\n",
    "index=[\"BANPRO\", \"LAFISE\", \"BAC\", \"BDF\", \"FICOHSA\", \"AVANZ\", \"BANCORP\"]\n",
    "d = {'BANCO': index, \n",
    "     'Depósitos Totales': totales[0:7], \n",
    "     'Instituciones Financieras': instituciones[0:7],\n",
    "     'Depósitos del Público' : depositos_publico,\n",
    "     'Porcentaje de Encaje Diario': encajedia*100,\n",
    "     'Encaje Efectivo': encaje_efectivo_diario, \n",
    "     'Encaje Requerido': encaje_requerido_diario,\n",
    "     'Exceso de Encaje': exceso}\n",
    "pd.DataFrame(d)"
   ]
  },
  {
   "cell_type": "code",
   "execution_count": 80,
   "metadata": {
    "hideCode": false,
    "hidePrompt": false
   },
   "outputs": [],
   "source": [
    "d_total_depositos = d['Depósitos Totales'].sum()\n",
    "d_total_financieras = d['Instituciones Financieras'].sum()\n",
    "d_total_publico = d['Depósitos del Público'].sum()\n",
    "d_total_encaje_efectivo = d['Encaje Efectivo'].sum()\n",
    "d_total_encaje_requerido = d['Encaje Requerido'].sum()\n",
    "d_total_exceso_encaje = d['Exceso de Encaje'].sum()\n"
   ]
  },
  {
   "cell_type": "code",
   "execution_count": 81,
   "metadata": {
    "hideCode": true,
    "hidePrompt": true
   },
   "outputs": [
    {
     "name": "stdout",
     "output_type": "stream",
     "text": [
      "SISTEMA:\n",
      "Depósitos Totales:  4674.700000000001 millones de dólares\n",
      "Depósitos de Instituciones Financieras:  390.5 millones de dólares\n",
      "Depósitos del Público:  4284.2 millones de dólares\n",
      "Encaje Efectivo:  831.3919 millones de dólares\n",
      "Encaje Requerido:  428.4200000000001 millones de dólares\n",
      "Exceso de Encaje:  402.97190000000006 millones de dólares\n"
     ]
    }
   ],
   "source": [
    "print(\"SISTEMA:\")\n",
    "print(\"Depósitos Totales: \", d_total_depositos, \"millones de dólares\")\n",
    "print(\"Depósitos de Instituciones Financieras: \", d_total_financieras, \"millones de dólares\")\n",
    "print(\"Depósitos del Público: \", d_total_publico, \"millones de dólares\")\n",
    "print(\"Encaje Efectivo: \", d_total_encaje_efectivo, \"millones de dólares\")\n",
    "print(\"Encaje Requerido: \", d_total_encaje_requerido, \"millones de dólares\")\n",
    "print(\"Exceso de Encaje: \", d_total_exceso_encaje, \"millones de dólares\")"
   ]
  },
  {
   "cell_type": "code",
   "execution_count": 82,
   "metadata": {
    "hideCode": true,
    "hidePrompt": false
   },
   "outputs": [
    {
     "name": "stdout",
     "output_type": "stream",
     "text": [
      "Volatilidad en base a una caída de 4.8 millones diarios:  83.95247916666668 días\n"
     ]
    }
   ],
   "source": [
    "#caida_promedio_diaria \n",
    "volatilidad_nestor = d_total_exceso_encaje / caida_promedio_diaria \n",
    "volatilidad_nestor\n",
    "print(\"Volatilidad en base a una caída de 4.8 millones diarios: \", volatilidad_nestor, \"días\")"
   ]
  },
  {
   "cell_type": "code",
   "execution_count": 83,
   "metadata": {
    "hideCode": true,
    "hidePrompt": false
   },
   "outputs": [
    {
     "name": "stdout",
     "output_type": "stream",
     "text": [
      "Reducción desde Abril 18 hasta hoy:  -1099.6999999999998 millones de dólares\n",
      "Caída promedio diaria:  -7.430405405405404 millones de dólares\n",
      "Volatilidad en base a una caída de 7.42 millones diarios:  54.23282822587981 días\n"
     ]
    }
   ],
   "source": [
    "reduccion_hasta_hoy = d_total_publico - depositos_publico_abril\n",
    "print(\"Reducción desde Abril 18 hasta hoy: \", reduccion_hasta_hoy, \"millones de dólares\")\n",
    "caida_promedio_hasta_hoy = reduccion_hasta_hoy / 148  #días\n",
    "print(\"Caída promedio diaria: \", caida_promedio_hasta_hoy, \"millones de dólares\")\n",
    "volatilidad_hasta_hoy = d_total_exceso_encaje / -caida_promedio_hasta_hoy\n",
    "print(\"Volatilidad en base a una caída de 7.42 millones diarios: \", volatilidad_hasta_hoy, \"días\")"
   ]
  },
  {
   "cell_type": "code",
   "execution_count": 84,
   "metadata": {
    "hideCode": false,
    "hidePrompt": false
   },
   "outputs": [
    {
     "name": "stdout",
     "output_type": "stream",
     "text": [
      "Volatilidad en base a una caída de 63.9 millones diarios:  6.306289514866981 días\n"
     ]
    }
   ],
   "source": [
    "#63.9\n",
    "volatilidad_hasta_mayor_caida = d_total_exceso_encaje / 63.9\n",
    "print(\"Volatilidad en base a una caída de 63.9 millones diarios: \", volatilidad_hasta_mayor_caida, \"días\")"
   ]
  },
  {
   "cell_type": "code",
   "execution_count": null,
   "metadata": {
    "hideCode": false,
    "hidePrompt": false
   },
   "outputs": [],
   "source": []
  },
  {
   "cell_type": "code",
   "execution_count": null,
   "metadata": {
    "hideCode": false,
    "hidePrompt": false
   },
   "outputs": [],
   "source": []
  },
  {
   "cell_type": "code",
   "execution_count": null,
   "metadata": {
    "hideCode": false,
    "hidePrompt": false
   },
   "outputs": [],
   "source": []
  },
  {
   "cell_type": "code",
   "execution_count": null,
   "metadata": {
    "hideCode": false,
    "hidePrompt": false
   },
   "outputs": [],
   "source": []
  },
  {
   "cell_type": "code",
   "execution_count": null,
   "metadata": {
    "hideCode": false,
    "hidePrompt": false
   },
   "outputs": [],
   "source": []
  },
  {
   "cell_type": "code",
   "execution_count": null,
   "metadata": {
    "hideCode": false,
    "hidePrompt": false
   },
   "outputs": [],
   "source": []
  },
  {
   "cell_type": "code",
   "execution_count": null,
   "metadata": {
    "hideCode": false,
    "hidePrompt": false
   },
   "outputs": [],
   "source": []
  },
  {
   "cell_type": "code",
   "execution_count": null,
   "metadata": {
    "hideCode": false,
    "hidePrompt": false
   },
   "outputs": [],
   "source": []
  },
  {
   "cell_type": "code",
   "execution_count": null,
   "metadata": {
    "hideCode": false,
    "hidePrompt": false
   },
   "outputs": [],
   "source": []
  },
  {
   "cell_type": "code",
   "execution_count": 88,
   "metadata": {
    "hideCode": false,
    "hidePrompt": false
   },
   "outputs": [],
   "source": [
    "a=5\n",
    "b=6"
   ]
  },
  {
   "cell_type": "code",
   "execution_count": 56,
   "metadata": {
    "hideCode": false,
    "hidePrompt": false
   },
   "outputs": [
    {
     "data": {
      "text/html": [
       "\n",
       "<html>\n",
       "  <head>\n",
       "    <script type=\"text/javascript\">\n",
       "    window.alert(5);\n",
       "    </script>\n",
       "  </head>\n",
       "</html>"
      ],
      "text/plain": [
       "<IPython.core.display.HTML object>"
      ]
     },
     "execution_count": 56,
     "metadata": {},
     "output_type": "execute_result"
    }
   ],
   "source": [
    "\n",
    "html_code =\"\"\"\n",
    "<html>\n",
    "  <head>\n",
    "    <script type=\"text/javascript\">\n",
    "    window.alert(%s);\n",
    "    </script>\n",
    "  </head>\n",
    "</html>\"\"\" % a\n",
    "\n",
    "#from IPython.display import HTML\n",
    "#HTML(html_code)"
   ]
  },
  {
   "cell_type": "markdown",
   "metadata": {
    "hideCode": false,
    "hidePrompt": false
   },
   "source": [
    "*hola*"
   ]
  },
  {
   "cell_type": "code",
   "execution_count": 90,
   "metadata": {
    "hideCode": false,
    "hidePrompt": false
   },
   "outputs": [
    {
     "ename": "SyntaxError",
     "evalue": "invalid syntax (<ipython-input-90-38afa18a4905>, line 8)",
     "output_type": "error",
     "traceback": [
      "\u001b[1;36m  File \u001b[1;32m\"<ipython-input-90-38afa18a4905>\"\u001b[1;36m, line \u001b[1;32m8\u001b[0m\n\u001b[1;33m    </html>\"\"\" %a, %b\u001b[0m\n\u001b[1;37m                     \n^\u001b[0m\n\u001b[1;31mSyntaxError\u001b[0m\u001b[1;31m:\u001b[0m invalid syntax\n"
     ]
    }
   ],
   "source": [
    "html_code =\"\"\"\n",
    "<html>\n",
    "  <head>\n",
    "  <body>\n",
    "   %s\n",
    "   </bosy>\n",
    "  </head>\n",
    "</html>\"\"\" %a"
   ]
  },
  {
   "cell_type": "code",
   "execution_count": 83,
   "metadata": {
    "hideCode": false,
    "hidePrompt": false
   },
   "outputs": [
    {
     "data": {
      "text/html": [
       "\n",
       "<html>\n",
       "  <head>\n",
       "  <body>\n",
       "   5\n",
       "   </bosy>\n",
       "  </head>\n",
       "</html>"
      ],
      "text/plain": [
       "<IPython.core.display.HTML object>"
      ]
     },
     "execution_count": 83,
     "metadata": {},
     "output_type": "execute_result"
    }
   ],
   "source": [
    "HTML(html_code)"
   ]
  },
  {
   "cell_type": "code",
   "execution_count": 91,
   "metadata": {
    "hideCode": false,
    "hidePrompt": false
   },
   "outputs": [
    {
     "data": {
      "text/html": [
       "<table><tr><td>1</td><td>2</td><td>3</td></tr><tr><td>4</td><td>5</td><td>6</td></tr><tr><td>7</td><td>8</td><td>9</td></tr></table>"
      ],
      "text/plain": [
       "<IPython.core.display.HTML object>"
      ]
     },
     "metadata": {},
     "output_type": "display_data"
    }
   ],
   "source": [
    " from IPython.display import HTML, display\n",
    "\n",
    " data = [[1,2,3],\n",
    "         [4,5,6],\n",
    "         [7,8,9],\n",
    "         ]\n",
    "\n",
    " display(HTML(\n",
    "    '<table><tr>{}</tr></table>'.format(\n",
    "        '</tr><tr>'.join(\n",
    "            '<td>{}</td>'.format('</td><td>'.join(str(_) for _ in row)) for row in data)\n",
    "        )\n",
    " ))"
   ]
  },
  {
   "cell_type": "code",
   "execution_count": 92,
   "metadata": {
    "hideCode": false,
    "hidePrompt": false
   },
   "outputs": [
    {
     "data": {
      "text/html": [
       "<div>\n",
       "<style scoped>\n",
       "    .dataframe tbody tr th:only-of-type {\n",
       "        vertical-align: middle;\n",
       "    }\n",
       "\n",
       "    .dataframe tbody tr th {\n",
       "        vertical-align: top;\n",
       "    }\n",
       "\n",
       "    .dataframe thead th {\n",
       "        text-align: right;\n",
       "    }\n",
       "</style>\n",
       "<table border=\"1\" class=\"dataframe\">\n",
       "  <thead>\n",
       "    <tr style=\"text-align: right;\">\n",
       "      <th></th>\n",
       "      <th>Foo</th>\n",
       "      <th>Bar</th>\n",
       "    </tr>\n",
       "  </thead>\n",
       "  <tbody>\n",
       "    <tr>\n",
       "      <th>0</th>\n",
       "      <td>1</td>\n",
       "      <td>2</td>\n",
       "    </tr>\n",
       "    <tr>\n",
       "      <th>1</th>\n",
       "      <td>3</td>\n",
       "      <td>4</td>\n",
       "    </tr>\n",
       "  </tbody>\n",
       "</table>\n",
       "</div>"
      ],
      "text/plain": [
       "   Foo  Bar\n",
       "0    1    2\n",
       "1    3    4"
      ]
     },
     "execution_count": 92,
     "metadata": {},
     "output_type": "execute_result"
    }
   ],
   "source": [
    "import pandas as pd\n",
    "data = [[1, 2], [3, 4]]\n",
    "pd.DataFrame(data, columns=[\"Foo\", \"Bar\"])"
   ]
  },
  {
   "cell_type": "code",
   "execution_count": 103,
   "metadata": {
    "hideCode": false,
    "hidePrompt": false
   },
   "outputs": [
    {
     "data": {
      "text/html": [
       "\n",
       "<table style='margin: 0 auto'>\n",
       "<tr><th>Hi!</th><th>There!</th></tr>\n",
       "<tr><td>1</td><td>5</td></tr>\n",
       "</table>\n"
      ],
      "text/plain": [
       "<IPython.core.display.HTML object>"
      ]
     },
     "metadata": {},
     "output_type": "display_data"
    }
   ],
   "source": [
    "from IPython.core.display import display, HTML\n",
    "display(HTML(\"\"\"\n",
    "<table style='margin: 0 auto'>\n",
    "<tr><th>Hi!</th><th>There!</th></tr>\n",
    "<tr><td>1</td><td>%s</td></tr>\n",
    "</table>\n",
    "\"\"\" %a))"
   ]
  },
  {
   "cell_type": "code",
   "execution_count": 104,
   "metadata": {
    "hideCode": false,
    "hidePrompt": false
   },
   "outputs": [
    {
     "data": {
      "text/html": [
       "<hr />\n",
       "<p>| a | 2 |\n",
       "| b | 3 |</p>\n",
       "<hr />"
      ],
      "text/plain": [
       "'------\\n| a | 2 |\\n| b | 3 |\\n------\\n'"
      ]
     },
     "execution_count": 104,
     "metadata": {},
     "output_type": "execute_result"
    }
   ],
   "source": [
    "import markdown\n",
    "class YourClass(str):\n",
    "    def _repr_html_(self):\n",
    "        return markdown.markdown(self)\n",
    "d = {'a': 2, 'b': 3}\n",
    "rows = [\"| %s | %s |\" % (key, value) for key, value in d.items()]\n",
    "table = \"------\\n%s\\n------\\n\" % ('\\n'.join(rows))\n",
    "YourClass(table)"
   ]
  },
  {
   "cell_type": "code",
   "execution_count": null,
   "metadata": {
    "hideCode": false,
    "hidePrompt": false
   },
   "outputs": [],
   "source": []
  },
  {
   "cell_type": "code",
   "execution_count": null,
   "metadata": {
    "hideCode": false,
    "hidePrompt": false
   },
   "outputs": [],
   "source": []
  },
  {
   "cell_type": "code",
   "execution_count": null,
   "metadata": {
    "hideCode": false,
    "hidePrompt": false
   },
   "outputs": [],
   "source": []
  },
  {
   "cell_type": "code",
   "execution_count": null,
   "metadata": {
    "hideCode": false,
    "hidePrompt": false
   },
   "outputs": [],
   "source": []
  },
  {
   "cell_type": "code",
   "execution_count": null,
   "metadata": {
    "hideCode": false,
    "hidePrompt": false
   },
   "outputs": [],
   "source": []
  },
  {
   "cell_type": "code",
   "execution_count": null,
   "metadata": {
    "hideCode": false,
    "hidePrompt": false
   },
   "outputs": [],
   "source": []
  }
 ],
 "metadata": {
  "celltoolbar": "Hide code",
  "hide_code_all_hidden": false,
  "kernelspec": {
   "display_name": "Python 3",
   "language": "python",
   "name": "python3"
  },
  "language_info": {
   "codemirror_mode": {
    "name": "ipython",
    "version": 3
   },
   "file_extension": ".py",
   "mimetype": "text/x-python",
   "name": "python",
   "nbconvert_exporter": "python",
   "pygments_lexer": "ipython3",
   "version": "3.6.5"
  }
 },
 "nbformat": 4,
 "nbformat_minor": 2
}
